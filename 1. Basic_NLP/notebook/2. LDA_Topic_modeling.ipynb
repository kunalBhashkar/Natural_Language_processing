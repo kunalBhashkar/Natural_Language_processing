{
 "cells": [
  {
   "cell_type": "markdown",
   "metadata": {},
   "source": [
    "#### LDA TOPIC MODELING "
   ]
  },
  {
   "cell_type": "code",
   "execution_count": 1,
   "metadata": {},
   "outputs": [],
   "source": [
    "import pandas as pd\n",
    "import numpy as np\n",
    "\n",
    "\n",
    "import string\n",
    "import re\n",
    "from pprint import pprint\n",
    "\n",
    "# NLTK \n",
    "from nltk.corpus import stopwords\n",
    "from nltk.stem.wordnet import WordNetLemmatizer\n",
    "from nltk.corpus import stopwords\n",
    "stop_words = stopwords.words('english') #this depends on each language\n",
    "\n",
    "# Gensim\n",
    "import gensim\n",
    "import gensim.corpora as corpora\n",
    "from gensim.utils import simple_preprocess\n",
    "from gensim.models import CoherenceModel\n",
    "\n",
    "# spacy for lemmatization\n",
    "import spacy\n",
    "\n",
    "# Plotting tools\n",
    "import pyLDAvis\n",
    "import pyLDAvis.gensim  \n",
    "import matplotlib.pyplot as plt\n",
    "%matplotlib inline\n",
    "\n",
    "# Enable logging for gensim - optional\n",
    "import logging\n",
    "logging.basicConfig(format='%(asctime)s : %(levelname)s : %(message)s', level=logging.ERROR)\n",
    "\n",
    "import warnings\n",
    "warnings.filterwarnings(\"ignore\",category=DeprecationWarning)"
   ]
  },
  {
   "cell_type": "markdown",
   "metadata": {},
   "source": [
    "__Loading data__"
   ]
  },
  {
   "cell_type": "code",
   "execution_count": 2,
   "metadata": {},
   "outputs": [],
   "source": [
    "df=pd.read_csv('./dataset/abcnews-date-text.csv',sep=',')"
   ]
  },
  {
   "cell_type": "code",
   "execution_count": 3,
   "metadata": {},
   "outputs": [
    {
     "data": {
      "text/plain": [
       "1082168"
      ]
     },
     "execution_count": 3,
     "metadata": {},
     "output_type": "execute_result"
    }
   ],
   "source": [
    "df.shape[0]"
   ]
  },
  {
   "cell_type": "code",
   "execution_count": 4,
   "metadata": {},
   "outputs": [
    {
     "data": {
      "text/html": [
       "<div>\n",
       "<style scoped>\n",
       "    .dataframe tbody tr th:only-of-type {\n",
       "        vertical-align: middle;\n",
       "    }\n",
       "\n",
       "    .dataframe tbody tr th {\n",
       "        vertical-align: top;\n",
       "    }\n",
       "\n",
       "    .dataframe thead th {\n",
       "        text-align: right;\n",
       "    }\n",
       "</style>\n",
       "<table border=\"1\" class=\"dataframe\">\n",
       "  <thead>\n",
       "    <tr style=\"text-align: right;\">\n",
       "      <th></th>\n",
       "      <th>publish_date</th>\n",
       "      <th>headline_text</th>\n",
       "    </tr>\n",
       "  </thead>\n",
       "  <tbody>\n",
       "    <tr>\n",
       "      <th>0</th>\n",
       "      <td>20030219</td>\n",
       "      <td>aba decides against community broadcasting lic...</td>\n",
       "    </tr>\n",
       "    <tr>\n",
       "      <th>1</th>\n",
       "      <td>20030219</td>\n",
       "      <td>act fire witnesses must be aware of defamation</td>\n",
       "    </tr>\n",
       "    <tr>\n",
       "      <th>2</th>\n",
       "      <td>20030219</td>\n",
       "      <td>a g calls for infrastructure protection summit</td>\n",
       "    </tr>\n",
       "    <tr>\n",
       "      <th>3</th>\n",
       "      <td>20030219</td>\n",
       "      <td>air nz staff in aust strike for pay rise</td>\n",
       "    </tr>\n",
       "    <tr>\n",
       "      <th>4</th>\n",
       "      <td>20030219</td>\n",
       "      <td>air nz strike to affect australian travellers</td>\n",
       "    </tr>\n",
       "  </tbody>\n",
       "</table>\n",
       "</div>"
      ],
      "text/plain": [
       "   publish_date                                      headline_text\n",
       "0      20030219  aba decides against community broadcasting lic...\n",
       "1      20030219     act fire witnesses must be aware of defamation\n",
       "2      20030219     a g calls for infrastructure protection summit\n",
       "3      20030219           air nz staff in aust strike for pay rise\n",
       "4      20030219      air nz strike to affect australian travellers"
      ]
     },
     "execution_count": 4,
     "metadata": {},
     "output_type": "execute_result"
    }
   ],
   "source": [
    "df.head()"
   ]
  },
  {
   "cell_type": "code",
   "execution_count": 5,
   "metadata": {},
   "outputs": [],
   "source": [
    "data=df['headline_text'].values.tolist()"
   ]
  },
  {
   "cell_type": "code",
   "execution_count": 6,
   "metadata": {},
   "outputs": [
    {
     "name": "stdout",
     "output_type": "stream",
     "text": [
      "['aba decides against community broadcasting licence']\n"
     ]
    }
   ],
   "source": [
    "pprint(data[:1])"
   ]
  },
  {
   "cell_type": "markdown",
   "metadata": {},
   "source": [
    "__Tokenize words and Clean-up text__"
   ]
  },
  {
   "cell_type": "code",
   "execution_count": 7,
   "metadata": {},
   "outputs": [
    {
     "name": "stdout",
     "output_type": "stream",
     "text": [
      "[['aba', 'decides', 'against', 'community', 'broadcasting', 'licence']]\n"
     ]
    }
   ],
   "source": [
    "def sent_to_words(sentences):\n",
    "    for sentence in sentences:\n",
    "        yield(gensim.utils.simple_preprocess(str(sentence), deacc=True))  # deacc=True removes punctuations\n",
    "\n",
    "data_words = list(sent_to_words(data))\n",
    "\n",
    "print(data_words[:1])"
   ]
  },
  {
   "cell_type": "markdown",
   "metadata": {},
   "source": [
    "__Bigrams & Trigrams__"
   ]
  },
  {
   "cell_type": "code",
   "execution_count": 8,
   "metadata": {},
   "outputs": [
    {
     "name": "stdout",
     "output_type": "stream",
     "text": [
      "['aba', 'decides', 'against', 'community', 'broadcasting', 'licence']\n"
     ]
    }
   ],
   "source": [
    "# Build the bigram and trigram models\n",
    "bigram = gensim.models.Phrases(data_words, min_count=5, threshold=100) # higher threshold fewer phrases.\n",
    "trigram = gensim.models.Phrases(bigram[data_words], threshold=100)  \n",
    "\n",
    "# Faster way to get a sentence clubbed as a trigram/bigram\n",
    "bigram_mod = gensim.models.phrases.Phraser(bigram)\n",
    "trigram_mod = gensim.models.phrases.Phraser(trigram)\n",
    "\n",
    "# See trigram example\n",
    "print(trigram_mod[bigram_mod[data_words[0]]])"
   ]
  },
  {
   "cell_type": "markdown",
   "metadata": {},
   "source": [
    "__Remove Stopwords, Make Bigrams and Lemmatize__"
   ]
  },
  {
   "cell_type": "code",
   "execution_count": 9,
   "metadata": {},
   "outputs": [],
   "source": [
    "# Define functions for stopwords, bigrams, trigrams and lemmatization\n",
    "def remove_stopwords(texts):\n",
    "    return [[word for word in simple_preprocess(str(doc)) if word not in stop_words] for doc in texts]\n",
    "\n",
    "def make_bigrams(texts):\n",
    "    return [bigram_mod[doc] for doc in texts]\n",
    "\n",
    "def make_trigrams(texts):\n",
    "    return [trigram_mod[bigram_mod[doc]] for doc in texts]\n",
    "\n",
    "def lemmatization(texts, allowed_postags=['NOUN', 'ADJ', 'VERB', 'ADV']):\n",
    "    \"\"\"https://spacy.io/api/annotation\"\"\"\n",
    "    texts_out = []\n",
    "    for sent in texts:\n",
    "        doc = nlp(\" \".join(sent)) \n",
    "        texts_out.append([token.lemma_ for token in doc if token.pos_ in allowed_postags])\n",
    "    return texts_out"
   ]
  },
  {
   "cell_type": "markdown",
   "metadata": {},
   "source": [
    "__Let’s call the functions in order__"
   ]
  },
  {
   "cell_type": "code",
   "execution_count": 10,
   "metadata": {},
   "outputs": [
    {
     "name": "stdout",
     "output_type": "stream",
     "text": [
      "[['decide', 'community', 'broadcasting', 'licence']]\n"
     ]
    }
   ],
   "source": [
    "#To run this code it is necessary to get the spacy moidel: \"!python - m spacy download en\", last depends on the used language \n",
    "\n",
    "# Remove Stop Words\n",
    "data_words_nostops = remove_stopwords(data_words)\n",
    "\n",
    "# Form Bigrams\n",
    "data_words_bigrams = make_bigrams(data_words_nostops)\n",
    "\n",
    "# Initialize spacy 'es' model, keeping only tagger component (for efficiency)\n",
    "# python3 -m spacy download es\n",
    "nlp = spacy.load(\"en_core_web_sm\",disable=['parser', 'ner'])  #spacy.load('en', disable=['parser', 'ner'])\n",
    "\n",
    "# Do lemmatization keeping only noun, adj, vb, adv\n",
    "data_lemmatized = lemmatization(data_words_bigrams, allowed_postags=['NOUN', 'ADJ', 'VERB', 'ADV'])\n",
    "\n",
    "print(data_lemmatized[:1])"
   ]
  },
  {
   "cell_type": "markdown",
   "metadata": {},
   "source": [
    "__Create the Dictionary and Corpus needed for Topic Modeling__"
   ]
  },
  {
   "cell_type": "code",
   "execution_count": 11,
   "metadata": {},
   "outputs": [
    {
     "name": "stdout",
     "output_type": "stream",
     "text": [
      "[[(0, 1), (1, 1), (2, 1), (3, 1)]]\n"
     ]
    }
   ],
   "source": [
    "# Create Dictionary\n",
    "id2word = corpora.Dictionary(data_lemmatized)\n",
    "\n",
    "# Create Corpus\n",
    "texts = data_lemmatized\n",
    "\n",
    "# Term Document Frequency\n",
    "corpus = [id2word.doc2bow(text) for text in texts]\n",
    "\n",
    "# View\n",
    "print(corpus[:1])"
   ]
  },
  {
   "cell_type": "code",
   "execution_count": 12,
   "metadata": {},
   "outputs": [
    {
     "data": {
      "text/plain": [
       "'broadcasting'"
      ]
     },
     "execution_count": 12,
     "metadata": {},
     "output_type": "execute_result"
    }
   ],
   "source": [
    "id2word[0]"
   ]
  },
  {
   "cell_type": "code",
   "execution_count": 13,
   "metadata": {},
   "outputs": [
    {
     "data": {
      "text/plain": [
       "[[('broadcasting', 1), ('community', 1), ('decide', 1), ('licence', 1)],\n",
       " [('act', 1),\n",
       "  ('aware', 1),\n",
       "  ('defamation', 1),\n",
       "  ('fire', 1),\n",
       "  ('must', 1),\n",
       "  ('witness', 1)]]"
      ]
     },
     "execution_count": 13,
     "metadata": {},
     "output_type": "execute_result"
    }
   ],
   "source": [
    "# Human readable format of corpus (term-frequency)\n",
    "[[(id2word[id], freq) for id, freq in cp] for cp in corpus[:2]]"
   ]
  },
  {
   "cell_type": "markdown",
   "metadata": {},
   "source": [
    "__Building the Topic Model__"
   ]
  },
  {
   "cell_type": "code",
   "execution_count": 14,
   "metadata": {},
   "outputs": [],
   "source": [
    "# Build LDA model\n",
    "lda_model = gensim.models.ldamodel.LdaModel(corpus=corpus,\n",
    "                                           id2word=id2word,\n",
    "                                           num_topics=20, \n",
    "                                           random_state=100,\n",
    "                                           update_every=1,\n",
    "                                           chunksize=100,\n",
    "                                           passes=4,\n",
    "                                           alpha='auto',\n",
    "                                           per_word_topics=True)"
   ]
  },
  {
   "cell_type": "markdown",
   "metadata": {},
   "source": [
    "__View the topics in LDA model__"
   ]
  },
  {
   "cell_type": "code",
   "execution_count": 15,
   "metadata": {
    "scrolled": true
   },
   "outputs": [
    {
     "name": "stdout",
     "output_type": "stream",
     "text": [
      "[(0,\n",
      "  '0.188*\"attack\" + 0.106*\"court\" + 0.080*\"leave\" + 0.074*\"tell\" + '\n",
      "  '0.072*\"business\" + 0.070*\"accuse\" + 0.070*\"lose\" + 0.067*\"give\" + '\n",
      "  '0.057*\"risk\" + 0.055*\"drug\"'),\n",
      " (1,\n",
      "  '0.231*\"man\" + 0.192*\"charge\" + 0.130*\"murder\" + 0.082*\"open\" + '\n",
      "  '0.079*\"arrest\" + 0.055*\"aboriginal\" + 0.052*\"threat\" + 0.041*\"fine\" + '\n",
      "  '0.028*\"soldier\" + 0.024*\"expect\"'),\n",
      " (2,\n",
      "  '0.255*\"victim\" + 0.187*\"hold\" + 0.175*\"become\" + 0.131*\"fund\" + '\n",
      "  '0.034*\"iraqi\" + 0.030*\"independent\" + 0.029*\"councillor\" + 0.025*\"contest\" '\n",
      "  '+ 0.023*\"rebuild\" + 0.012*\"summit\"'),\n",
      " (3,\n",
      "  '0.422*\"australian\" + 0.082*\"decision\" + 0.079*\"break\" + 0.052*\"welcome\" + '\n",
      "  '0.050*\"consider\" + 0.045*\"meeting\" + 0.042*\"access\" + 0.037*\"affect\" + '\n",
      "  '0.035*\"double\" + 0.028*\"insurance\"'),\n",
      " (4,\n",
      "  '0.211*\"die\" + 0.141*\"warn\" + 0.106*\"work\" + 0.094*\"announce\" + '\n",
      "  '0.092*\"young\" + 0.092*\"case\" + 0.086*\"final\" + 0.030*\"protester\" + '\n",
      "  '0.019*\"phone\" + 0.019*\"korean\"'),\n",
      " (5,\n",
      "  '0.268*\"fire\" + 0.145*\"back\" + 0.130*\"miss\" + 0.087*\"still\" + 0.069*\"waste\" '\n",
      "  '+ 0.067*\"project\" + 0.066*\"come\" + 0.063*\"policy\" + 0.031*\"arrive\" + '\n",
      "  '0.024*\"british\"'),\n",
      " (6,\n",
      "  '0.181*\"growth\" + 0.162*\"wage\" + 0.108*\"lift\" + 0.000*\"price\" + '\n",
      "  '0.000*\"surge\" + 0.000*\"market\" + 0.000*\"slow\" + 0.000*\"worker\" + '\n",
      "  '0.000*\"drag\" + 0.000*\"budget\"'),\n",
      " (7,\n",
      "  '0.507*\"win\" + 0.213*\"war\" + 0.076*\"profit\" + 0.056*\"aid\" + 0.035*\"jump\" + '\n",
      "  '0.012*\"net\" + 0.000*\"title\" + 0.000*\"first\" + 0.000*\"election\" + '\n",
      "  '0.000*\"award\"'),\n",
      " (8,\n",
      "  '0.331*\"police\" + 0.229*\"find\" + 0.174*\"death\" + 0.060*\"station\" + '\n",
      "  '0.058*\"see\" + 0.049*\"hear\" + 0.045*\"offer\" + 0.013*\"gold_coast\" + '\n",
      "  '0.012*\"toll\" + 0.000*\"say\"'),\n",
      " (9,\n",
      "  '0.702*\"take\" + 0.163*\"celebrate\" + 0.000*\"year\" + 0.000*\"first\" + '\n",
      "  '0.000*\"hit\" + 0.000*\"share\" + 0.000*\"action\" + 0.000*\"world\" + '\n",
      "  '0.000*\"seriously\" + 0.000*\"new\"'),\n",
      " (10,\n",
      "  '0.299*\"home\" + 0.193*\"water\" + 0.165*\"rate\" + 0.128*\"continue\" + '\n",
      "  '0.045*\"northern\" + 0.041*\"tas\" + 0.032*\"predict\" + 0.016*\"restriction\" + '\n",
      "  '0.002*\"inspection\" + 0.000*\"new\"'),\n",
      " (11,\n",
      "  '0.304*\"help\" + 0.187*\"jail\" + 0.172*\"community\" + 0.102*\"urge\" + '\n",
      "  '0.087*\"youth\" + 0.053*\"fraud\" + 0.021*\"decide\" + 0.014*\"licence\" + '\n",
      "  '0.000*\"year\" + 0.000*\"say\"'),\n",
      " (12,\n",
      "  '0.363*\"report\" + 0.239*\"end\" + 0.124*\"vote\" + 0.051*\"troop\" + '\n",
      "  '0.039*\"dismiss\" + 0.032*\"management\" + 0.032*\"near\" + 0.022*\"survey\" + '\n",
      "  '0.011*\"irrigator\" + 0.000*\"say\"'),\n",
      " (13,\n",
      "  '0.337*\"rise\" + 0.260*\"pay\" + 0.211*\"strike\" + 0.092*\"staff\" + 0.000*\"say\" + '\n",
      "  '0.000*\"deal\" + 0.000*\"high\" + 0.000*\"government\" + 0.000*\"price\" + '\n",
      "  '0.000*\"missile\"'),\n",
      " (14,\n",
      "  '0.737*\"change\" + 0.087*\"match\" + 0.000*\"law\" + 0.000*\"solar\" + 0.000*\"name\" '\n",
      "  '+ 0.000*\"say\" + 0.000*\"government\" + 0.000*\"face\" + 0.000*\"labor\" + '\n",
      "  '0.000*\"citizenship\"'),\n",
      " (15,\n",
      "  '0.128*\"head\" + 0.117*\"girl\" + 0.116*\"meet\" + 0.099*\"cost\" + 0.092*\"injure\" '\n",
      "  '+ 0.088*\"act\" + 0.062*\"clean\" + 0.057*\"try\" + 0.057*\"must\" + '\n",
      "  '0.039*\"witness\"'),\n",
      " (16,\n",
      "  '0.170*\"cut\" + 0.167*\"service\" + 0.148*\"force\" + 0.115*\"fail\" + '\n",
      "  '0.099*\"issue\" + 0.081*\"demand\" + 0.075*\"low\" + 0.042*\"air\" + 0.023*\"secure\" '\n",
      "  '+ 0.010*\"position\"'),\n",
      " (17,\n",
      "  '0.345*\"call\" + 0.150*\"lead\" + 0.096*\"old\" + 0.094*\"seek\" + 0.074*\"build\" + '\n",
      "  '0.047*\"month\" + 0.043*\"hand\" + 0.030*\"interest\" + 0.026*\"toddler\" + '\n",
      "  '0.022*\"confidence\"'),\n",
      " (18,\n",
      "  '0.308*\"crash\" + 0.184*\"push\" + 0.168*\"move\" + 0.141*\"allege\" + '\n",
      "  '0.059*\"protect\" + 0.026*\"israeli\" + 0.024*\"highway\" + 0.008*\"injured\" + '\n",
      "  '0.000*\"plane\" + 0.000*\"fatal\"'),\n",
      " (19,\n",
      "  '0.263*\"plan\" + 0.186*\"big\" + 0.175*\"go\" + 0.083*\"ahead\" + 0.072*\"boost\" + '\n",
      "  '0.068*\"national\" + 0.041*\"supply\" + 0.021*\"restore\" + 0.021*\"introduce\" + '\n",
      "  '0.018*\"fuel\"')]\n"
     ]
    }
   ],
   "source": [
    "# Print the Keyword in the 10 topics\n",
    "pprint(lda_model.print_topics())\n",
    "doc_lda = lda_model[corpus]"
   ]
  },
  {
   "cell_type": "markdown",
   "metadata": {},
   "source": [
    "__Compute Model Perplexity and Coherence Score__"
   ]
  },
  {
   "cell_type": "code",
   "execution_count": 16,
   "metadata": {},
   "outputs": [
    {
     "name": "stdout",
     "output_type": "stream",
     "text": [
      "\n",
      "Perplexity:  -26.928621793599653\n",
      "\n",
      "Coherence Score:  0.2320959610820565\n"
     ]
    }
   ],
   "source": [
    "# Compute Perplexity\n",
    "print('\\nPerplexity: ', lda_model.log_perplexity(corpus))  # a measure of how good the model is. lower the better.\n",
    "\n",
    "# Compute Coherence Score\n",
    "coherence_model_lda = CoherenceModel(model=lda_model, texts=data_lemmatized, dictionary=id2word, coherence='c_v')\n",
    "coherence_lda = coherence_model_lda.get_coherence()\n",
    "print('\\nCoherence Score: ', coherence_lda)"
   ]
  },
  {
   "cell_type": "markdown",
   "metadata": {},
   "source": [
    "__Visualize the topics-keywords__"
   ]
  },
  {
   "cell_type": "code",
   "execution_count": 17,
   "metadata": {},
   "outputs": [
    {
     "data": {
      "text/html": [
       "\n",
       "<link rel=\"stylesheet\" type=\"text/css\" href=\"https://cdn.rawgit.com/bmabey/pyLDAvis/files/ldavis.v1.0.0.css\">\n",
       "\n",
       "\n",
       "<div id=\"ldavis_el1434022737224964569196047356\"></div>\n",
       "<script type=\"text/javascript\">\n",
       "\n",
       "var ldavis_el1434022737224964569196047356_data = {\"mdsDat\": {\"x\": [-0.24266766674468904, -0.19792795397574883, -0.19044612384529902, -0.08291322087139671, -0.0842712320536325, -0.05088885092498217, -0.049754958722859934, -0.05836568034069011, -0.020330626326120475, 0.01767721439436678, 0.045057685982270654, 0.04591663475558008, 0.026771072700053748, 0.062305666155506534, 0.09060170733116311, 0.0918516894282123, 0.08888886638471681, 0.13769974888002473, 0.16790655201431143, 0.20288947577921154], \"y\": [0.3789282101747514, -0.23185679258640443, -0.17036435800561953, -0.01705191518525909, -0.017524490220309795, -0.008132824303433196, -0.007867480121588255, -0.009869774607756164, -0.0022744625719199976, 0.002895881568988978, 0.005622068469531859, 0.00569443182795288, 0.0038962469920396973, 0.0070398233264577625, 0.00894969318303199, 0.009008912575841105, 0.008826840072711497, 0.011159350373101602, 0.011995890406130446, 0.010924748631751037], \"topics\": [1, 2, 3, 4, 5, 6, 7, 8, 9, 10, 11, 12, 13, 14, 15, 16, 17, 18, 19, 20], \"cluster\": [1, 1, 1, 1, 1, 1, 1, 1, 1, 1, 1, 1, 1, 1, 1, 1, 1, 1, 1, 1], \"Freq\": [11.063669204711914, 10.75838565826416, 10.113615036010742, 6.958415508270264, 6.753817081451416, 6.195822715759277, 5.763696670532227, 5.115157127380371, 4.935418128967285, 4.631126403808594, 4.42646598815918, 3.943593740463257, 3.8819777965545654, 3.475613832473755, 3.051698684692383, 3.0142745971679688, 2.6085143089294434, 1.6481740474700928, 1.237465262413025, 0.42310118675231934]}, \"tinfo\": {\"Term\": [\"police\", \"australian\", \"call\", \"man\", \"win\", \"find\", \"fire\", \"take\", \"charge\", \"attack\", \"plan\", \"help\", \"report\", \"home\", \"death\", \"change\", \"crash\", \"die\", \"big\", \"rise\", \"murder\", \"go\", \"end\", \"jail\", \"victim\", \"back\", \"water\", \"court\", \"community\", \"warn\", \"attack\", \"court\", \"leave\", \"tell\", \"business\", \"accuse\", \"lose\", \"give\", \"risk\", \"drug\", \"western\", \"prepare\", \"terrorist\", \"crop\", \"seat\", \"leadership\", \"german\", \"regulation\", \"massive\", \"critic\", \"say\", \"woman\", \"government\", \"kill\", \"face\", \"election\", \"family\", \"new\", \"could\", \"high\", \"year\", \"man\", \"charge\", \"murder\", \"open\", \"arrest\", \"aboriginal\", \"threat\", \"fine\", \"soldier\", \"expect\", \"raid\", \"pull\", \"infrastructure\", \"smoke\", \"say\", \"woman\", \"face\", \"child\", \"year\", \"trial\", \"kill\", \"government\", \"adelaide\", \"new\", \"family\", \"election\", \"stab\", \"make\", \"sentence\", \"former\", \"could\", \"car\", \"police\", \"find\", \"death\", \"station\", \"see\", \"hear\", \"offer\", \"gold_coast\", \"toll\", \"say\", \"woman\", \"guilty\", \"body\", \"dead\", \"car\", \"new\", \"officer\", \"could\", \"child\", \"shoot\", \"year\", \"kill\", \"power\", \"study\", \"adelaide\", \"trial\", \"may\", \"search\", \"government\", \"investigate\", \"family\", \"election\", \"make\", \"fire\", \"back\", \"miss\", \"still\", \"waste\", \"project\", \"come\", \"policy\", \"arrive\", \"british\", \"rest\", \"say\", \"dead\", \"search\", \"building\", \"election\", \"adelaide\", \"woman\", \"new\", \"road\", \"year\", \"family\", \"turn\", \"fight\", \"child\", \"food\", \"may\", \"make\", \"people\", \"energy\", \"school\", \"government\", \"could\", \"face\", \"kill\", \"power\", \"die\", \"warn\", \"work\", \"announce\", \"young\", \"case\", \"final\", \"protester\", \"phone\", \"korean\", \"pc\", \"upgrade\", \"defeat\", \"alcohol\", \"bridge\", \"age\", \"former\", \"people\", \"say\", \"day\", \"woman\", \"aged\", \"adelaide\", \"government\", \"north\", \"south\", \"could\", \"hospital\", \"hit\", \"accident\", \"student\", \"new\", \"face\", \"election\", \"child\", \"make\", \"year\", \"plan\", \"big\", \"go\", \"ahead\", \"boost\", \"national\", \"supply\", \"restore\", \"introduce\", \"fuel\", \"country\", \"government\", \"gas\", \"school\", \"tax\", \"power\", \"new\", \"unveil\", \"federal\", \"day\", \"get\", \"kid\", \"hit\", \"budget\", \"funding\", \"regional\", \"future\", \"fall\", \"trump\", \"say\", \"year\", \"election\", \"indigenous\", \"could\", \"adelaide\", \"high\", \"child\", \"call\", \"lead\", \"old\", \"seek\", \"build\", \"month\", \"hand\", \"interest\", \"toddler\", \"confidence\", \"livestock\", \"surprise\", \"new\", \"government\", \"hospital\", \"way\", \"prompt\", \"mother\", \"world\", \"leader\", \"tough\", \"action\", \"family\", \"baby\", \"trump\", \"extend\", \"show\", \"compensation\", \"problem\", \"children\", \"city\", \"law\", \"say\", \"election\", \"could\", \"woman\", \"power\", \"child\", \"year\", \"make\", \"australian\", \"decision\", \"break\", \"welcome\", \"consider\", \"meeting\", \"access\", \"affect\", \"double\", \"insurance\", \"gain\", \"tie\", \"ambulance\", \"unlikely\", \"down\", \"record\", \"dollar\", \"share\", \"make\", \"cricket\", \"first\", \"industry\", \"appeal\", \"defend\", \"chinese\", \"test\", \"crisis\", \"bali\", \"barrier\", \"share_market\", \"could\", \"health\", \"world\", \"new\", \"trump\", \"say\", \"government\", \"woman\", \"use\", \"high\", \"market\", \"year\", \"help\", \"jail\", \"community\", \"urge\", \"youth\", \"fraud\", \"decide\", \"licence\", \"year\", \"sentence\", \"indigenous\", \"worker\", \"program\", \"life\", \"former\", \"learn\", \"tax\", \"allegation\", \"save\", \"suicide\", \"child\", \"driver\", \"kid\", \"centre\", \"local\", \"could\", \"reduce\", \"dog\", \"study\", \"remote\", \"flood\", \"kill\", \"fight\", \"say\", \"woman\", \"new\", \"government\", \"student\", \"school\", \"get\", \"cut\", \"service\", \"force\", \"fail\", \"issue\", \"demand\", \"low\", \"air\", \"secure\", \"position\", \"funding\", \"penalty\", \"budget\", \"join\", \"increase\", \"hour\", \"tax\", \"oil\", \"emission\", \"emergency\", \"test\", \"rural\", \"government\", \"public\", \"legal\", \"process\", \"reverse\", \"apology\", \"company\", \"technical\", \"energy\", \"price\", \"regional\", \"power\", \"say\", \"may\", \"election\", \"new\", \"year\", \"woman\", \"adelaide\", \"home\", \"water\", \"rate\", \"continue\", \"northern\", \"tas\", \"predict\", \"restriction\", \"inspection\", \"penalty\", \"flood\", \"loan\", \"new\", \"oakden_nurse\", \"ownership\", \"return\", \"sydney\", \"census\", \"plunge\", \"bad\", \"drinking\", \"improve\", \"land\", \"raise\", \"high\", \"safe\", \"bring\", \"reverse\", \"strand\", \"dog\", \"family\", \"reveal\", \"price\", \"child\", \"indigenous\", \"say\", \"school\", \"get\", \"gas\", \"year\", \"woman\", \"could\", \"may\", \"crash\", \"push\", \"move\", \"allege\", \"protect\", \"israeli\", \"highway\", \"injured\", \"plane\", \"fatal\", \"car\", \"truck\", \"bus\", \"kill\", \"dead\", \"cause\", \"mini\", \"town\", \"pilot\", \"motorbike\", \"small\", \"fiery\", \"rape\", \"company\", \"driver\", \"riderless\", \"abalone\", \"cruise\", \"scene\", \"palestinian\", \"killer\", \"government\", \"survivor\", \"safety\", \"sentence\", \"new\", \"melbourne\", \"school\", \"say\", \"law\", \"child\", \"head\", \"girl\", \"meet\", \"cost\", \"injure\", \"act\", \"clean\", \"try\", \"must\", \"witness\", \"recover\", \"chemical\", \"woe\", \"kill\", \"energy\", \"poll\", \"rescue\", \"coal\", \"catch\", \"scream\", \"budget\", \"malcolm_turnbull\", \"injury\", \"smash\", \"ignite\", \"hope\", \"chibok\", \"count\", \"transaction\", \"depose\", \"student\", \"people\", \"visit\", \"trump\", \"say\", \"defend\", \"government\", \"face\", \"target\", \"election\", \"woman\", \"school\", \"power\", \"could\", \"year\", \"report\", \"end\", \"vote\", \"troop\", \"dismiss\", \"management\", \"near\", \"survey\", \"irrigator\", \"market\", \"top\", \"election\", \"battle\", \"negative\", \"reveal\", \"curious\", \"financial\", \"proposal\", \"medium\", \"slump\", \"advance\", \"climate\", \"trap\", \"graduate\", \"failure\", \"opportunity\", \"pass\", \"question\", \"progress\", \"coalition\", \"boom\", \"day\", \"politic\", \"release\", \"year\", \"say\", \"abuse\", \"show\", \"mining\", \"face\", \"school\", \"want\", \"get\", \"government\", \"may\", \"could\", \"child\", \"victim\", \"hold\", \"become\", \"fund\", \"iraqi\", \"independent\", \"councillor\", \"contest\", \"rebuild\", \"summit\", \"abuse\", \"domestic_violence\", \"aaron\", \"catholic\", \"public\", \"sex\", \"interest_rate\", \"dangerous\", \"launch\", \"rape\", \"identify\", \"first\", \"assault\", \"apologise\", \"modern\", \"compensation\", \"extension\", \"speak\", \"manchester\", \"city\", \"school\", \"get\", \"could\", \"say\", \"family\", \"set\", \"government\", \"new\", \"woman\", \"child\", \"election\", \"win\", \"war\", \"profit\", \"aid\", \"jump\", \"net\", \"title\", \"award\", \"plastic\", \"warrior\", \"first\", \"cowboy\", \"atapattus\", \"recycle\", \"grab\", \"rooster\", \"victory\", \"can\", \"stage\", \"french\", \"championship\", \"trainer\", \"clothe\", \"keep\", \"battle\", \"fashion\", \"disposable\", \"marine\", \"word\", \"moab\", \"giant\", \"election\", \"trap\", \"food\", \"bid\", \"get\", \"trump\", \"adelaide\", \"time\", \"second\", \"could\", \"year\", \"say\", \"fight\", \"make\", \"government\", \"rise\", \"pay\", \"strike\", \"staff\", \"deal\", \"missile\", \"bill\", \"high\", \"player\", \"price\", \"camel\", \"dispute\", \"compensation\", \"negotiation\", \"cricket\", \"milk\", \"cancel\", \"bus\", \"customer\", \"column\", \"richard_hind\", \"action\", \"freeze\", \"tribute\", \"lightning\", \"manus_island\", \"full\", \"employee\", \"power\", \"joint\", \"say\", \"show\", \"use\", \"school\", \"government\", \"set\", \"could\", \"energy\", \"ban\", \"child\", \"may\", \"woman\", \"take\", \"celebrate\", \"year\", \"first\", \"seriously\", \"action\", \"share\", \"moment\", \"hit\", \"sport\", \"hopeful\", \"shape\", \"nose\", \"grid\", \"world\", \"stand\", \"jazz\", \"desert\", \"challenge\", \"quiz\", \"ground\", \"democracy\", \"endanger\", \"race\", \"speech\", \"hour\", \"rock\", \"would\", \"absence\", \"top\", \"turn\", \"victory\", \"time\", \"life\", \"mother\", \"people\", \"indigenous\", \"good\", \"school\", \"look\", \"family\", \"child\", \"new\", \"market\", \"government\", \"say\", \"could\", \"change\", \"match\", \"law\", \"solar\", \"name\", \"citizenship\", \"propose\", \"rule\", \"cricket\", \"bonus\", \"battery\", \"effect\", \"parole\", \"labor\", \"scheme\", \"energy\", \"rain\", \"bail\", \"sweeping\", \"protection\", \"super\", \"want\", \"veteran\", \"book\", \"football\", \"taste\", \"negative_gearing\", \"immigration\", \"game\", \"publishing\", \"live\", \"life\", \"face\", \"make\", \"student\", \"deal\", \"government\", \"first\", \"say\", \"fear\", \"child\", \"growth\", \"wage\", \"lift\", \"surge\", \"price\", \"market\", \"drag\", \"slow\", \"irreversibly\", \"petrol_sniffe\", \"stunt\", \"worker\", \"index\", \"budget\", \"sustainability\", \"abs\", \"stem\", \"weakness\", \"undercut\", \"surplus\", \"activity\", \"study\", \"benefit\", \"living\", \"craft\", \"loom\", \"spirit\", \"shark\", \"strong\", \"academys\", \"job\", \"show\", \"industry\", \"new\", \"increase\", \"fight\"], \"Freq\": [114356.0, 73607.0, 67806.0, 84838.0, 52110.0, 78836.0, 63509.0, 39473.0, 70420.0, 71143.0, 55628.0, 51110.0, 43063.0, 45192.0, 59915.0, 31134.0, 41467.0, 48676.0, 39352.0, 29993.0, 47849.0, 36989.0, 28362.0, 31551.0, 26507.0, 34330.0, 29154.0, 40156.0, 29013.0, 32375.0, 71139.1015625, 40152.328125, 30047.818359375, 27991.849609375, 27019.013671875, 26550.49609375, 26482.7890625, 25292.841796875, 21366.43359375, 20803.263671875, 11313.3623046875, 8930.349609375, 6706.75927734375, 5891.22607421875, 4381.1337890625, 3570.5068359375, 3451.625732421875, 3047.125, 2780.929931640625, 1586.4581298828125, 0.18880915641784668, 0.18833117187023163, 0.18831196427345276, 0.18822063505649567, 0.18821652233600616, 0.1882273405790329, 0.18819817900657654, 0.18826375901699066, 0.18822534382343292, 0.18817129731178284, 0.18820105493068695, 84834.1484375, 70416.6953125, 47845.23046875, 30073.634765625, 28913.05078125, 20305.173828125, 18989.703125, 15181.6513671875, 10140.7177734375, 8956.7578125, 7551.4677734375, 7374.89111328125, 3854.387451171875, 2006.31396484375, 0.22361111640930176, 0.22335658967494965, 0.22307394444942474, 0.22308015823364258, 0.22310641407966614, 0.22300970554351807, 0.22304199635982513, 0.2231132835149765, 0.22299988567829132, 0.22308075428009033, 0.22299836575984955, 0.22301048040390015, 0.2229112684726715, 0.22296130657196045, 0.22290639579296112, 0.2229260355234146, 0.22297951579093933, 0.2229224443435669, 114352.140625, 78832.78125, 59911.3828125, 20604.935546875, 19864.57421875, 17012.515625, 15459.76171875, 4643.76220703125, 4041.50390625, 0.21787601709365845, 0.21733956038951874, 0.2171548455953598, 0.21715621650218964, 0.2171797752380371, 0.21718324720859528, 0.21727882325649261, 0.21713311970233917, 0.21721746027469635, 0.21720021963119507, 0.2171238511800766, 0.2172154188156128, 0.21715274453163147, 0.21713821589946747, 0.21708492934703827, 0.2171291708946228, 0.2171010971069336, 0.21711324155330658, 0.21706622838974, 0.2172316610813141, 0.21705596148967743, 0.21712560951709747, 0.21715015172958374, 0.21710774302482605, 63505.40625, 34326.20703125, 30824.830078125, 20668.638671875, 16481.71484375, 15844.0068359375, 15657.3798828125, 14922.3466796875, 7317.3154296875, 5815.24609375, 1095.9754638671875, 0.2309236228466034, 0.23048707842826843, 0.23042032122612, 0.23040388524532318, 0.23051206767559052, 0.2304663509130478, 0.2305423468351364, 0.23055489361286163, 0.23040086030960083, 0.2305186539888382, 0.2304614782333374, 0.23040269315242767, 0.23042404651641846, 0.23048262298107147, 0.23039241135120392, 0.2304333597421646, 0.23043665289878845, 0.2304258495569229, 0.2303956001996994, 0.23045000433921814, 0.23055322468280792, 0.23047073185443878, 0.23044225573539734, 0.2304350584745407, 0.2304268479347229, 48672.25390625, 32371.78515625, 24525.33203125, 21757.798828125, 21211.3046875, 21082.95703125, 19901.09375, 7024.6162109375, 4470.9521484375, 4455.2841796875, 3849.128662109375, 2885.617919921875, 2815.77685546875, 2756.92236328125, 2104.19384765625, 0.22191867232322693, 0.22191157937049866, 0.2219141125679016, 0.22224190831184387, 0.22190557420253754, 0.22200080752372742, 0.22183197736740112, 0.22191078960895538, 0.222020223736763, 0.22181597352027893, 0.2218155860900879, 0.2219356745481491, 0.2218533754348755, 0.22187592089176178, 0.22180813550949097, 0.22186413407325745, 0.2219654768705368, 0.22188983857631683, 0.2219022959470749, 0.22189423441886902, 0.22186681628227234, 0.2218753546476364, 55624.5859375, 39348.546875, 36985.53515625, 17544.72265625, 15276.322265625, 14310.0205078125, 8661.76171875, 4500.2099609375, 4333.45263671875, 3699.860107421875, 0.23398102819919586, 0.234078511595726, 0.23383164405822754, 0.23389354348182678, 0.2338263988494873, 0.2338467538356781, 0.23392441868782043, 0.23373976349830627, 0.2337661236524582, 0.23380383849143982, 0.23381057381629944, 0.23376275599002838, 0.23380595445632935, 0.23378491401672363, 0.2337806075811386, 0.23376023769378662, 0.2337508350610733, 0.2337668389081955, 0.23378068208694458, 0.2341388612985611, 0.2338566780090332, 0.2338312566280365, 0.2337905466556549, 0.23381894826889038, 0.23378793895244598, 0.23377738893032074, 0.23377755284309387, 67802.1171875, 29395.431640625, 18785.392578125, 18452.2890625, 14477.0419921875, 9161.146484375, 8501.90234375, 5931.087890625, 5149.212890625, 4321.314453125, 2760.429443359375, 1542.9451904296875, 0.21841220557689667, 0.21839988231658936, 0.21824833750724792, 0.21822170913219452, 0.21821098029613495, 0.2182273268699646, 0.21824190020561218, 0.2182266116142273, 0.21819938719272614, 0.21820569038391113, 0.218275249004364, 0.21820542216300964, 0.2182358056306839, 0.2181813269853592, 0.21825391054153442, 0.2181893289089203, 0.2181929498910904, 0.21817485988140106, 0.21819886565208435, 0.21823133528232574, 0.21855036914348602, 0.21828646957874298, 0.21828526258468628, 0.2183014303445816, 0.2182370126247406, 0.2182481437921524, 0.21824587881565094, 0.2182251214981079, 73603.2578125, 14274.478515625, 13743.333984375, 8992.318359375, 8732.6259765625, 7919.875, 7380.34814453125, 6456.41162109375, 6107.7373046875, 4850.4375, 4498.14892578125, 4238.96337890625, 2165.820068359375, 2077.31298828125, 611.6942749023438, 0.1866949200630188, 0.18666358292102814, 0.18666277825832367, 0.18669326603412628, 0.1866297572851181, 0.186691552400589, 0.18665221333503723, 0.18663406372070312, 0.1866312474012375, 0.1866142749786377, 0.18665270507335663, 0.1866121143102646, 0.186611607670784, 0.1865978240966797, 0.18660151958465576, 0.1866995394229889, 0.18662060797214508, 0.1866370588541031, 0.18671278655529022, 0.18663959205150604, 0.18683211505413055, 0.18670155107975006, 0.18667826056480408, 0.1866428405046463, 0.1866457760334015, 0.18664224445819855, 0.18665409088134766, 51106.36328125, 31547.2265625, 29009.333984375, 17121.6484375, 14721.7119140625, 8847.57421875, 3578.942138671875, 2403.590087890625, 0.2118419110774994, 0.21172060072422028, 0.21174301207065582, 0.21170571446418762, 0.21168571710586548, 0.2116914689540863, 0.2116851508617401, 0.2116335779428482, 0.21166588366031647, 0.21162760257720947, 0.21164827048778534, 0.21164052188396454, 0.21172800660133362, 0.21165238320827484, 0.21164532005786896, 0.21161684393882751, 0.21164031326770782, 0.21173538267612457, 0.21161791682243347, 0.21164754033088684, 0.21164703369140625, 0.2116170972585678, 0.21164579689502716, 0.21168707311153412, 0.21164968609809875, 0.21183644235134125, 0.2116895169019699, 0.21168924868106842, 0.21169312298297882, 0.2116500288248062, 0.21165437996387482, 0.2116498351097107, 26897.11328125, 26408.82421875, 23426.06640625, 18091.501953125, 15569.732421875, 12745.357421875, 11913.693359375, 6657.15234375, 3607.32470703125, 1589.0718994140625, 0.23391853272914886, 0.2338804453611374, 0.23388583958148956, 0.23383496701717377, 0.23384247720241547, 0.2338239699602127, 0.23386166989803314, 0.23382075130939484, 0.23380771279335022, 0.23382651805877686, 0.23386342823505402, 0.23382048308849335, 0.2340151071548462, 0.23384040594100952, 0.23380941152572632, 0.23379184305667877, 0.23379045724868774, 0.23379254341125488, 0.23382726311683655, 0.23378433287143707, 0.233836367726326, 0.23385947942733765, 0.2338220328092575, 0.2338622510433197, 0.2340804636478424, 0.23383910953998566, 0.23385702073574066, 0.2338782697916031, 0.23385761678218842, 0.23385407030582428, 0.23383717238903046, 45188.8984375, 29150.28515625, 24871.36328125, 19280.857421875, 6768.30615234375, 6241.39404296875, 4793.8193359375, 2411.683349609375, 277.8370361328125, 0.2538507282733917, 0.2537510395050049, 0.2537047564983368, 0.25386688113212585, 0.25366678833961487, 0.2536616623401642, 0.2537068724632263, 0.25370052456855774, 0.25365301966667175, 0.2536528706550598, 0.2536793053150177, 0.2536458969116211, 0.25365597009658813, 0.25365522503852844, 0.2536601722240448, 0.25372904539108276, 0.2536458969116211, 0.2536539137363434, 0.2536275386810303, 0.25363150238990784, 0.2536745071411133, 0.25373318791389465, 0.2536718547344208, 0.25369611382484436, 0.25372791290283203, 0.2536901831626892, 0.25381243228912354, 0.25368839502334595, 0.25367411971092224, 0.25366267561912537, 0.253689169883728, 0.25369060039520264, 0.2536775767803192, 0.2536689043045044, 41463.6796875, 24752.294921875, 22636.439453125, 19016.0625, 8002.9873046875, 3557.447265625, 3250.892578125, 1094.6546630859375, 0.22736233472824097, 0.22731655836105347, 0.22724983096122742, 0.227118581533432, 0.22713178396224976, 0.22716526687145233, 0.22710365056991577, 0.2270636111497879, 0.22701320052146912, 0.22704242169857025, 0.22701339423656464, 0.2270020991563797, 0.2270088642835617, 0.22699140012264252, 0.22701416909694672, 0.22702234983444214, 0.2270287424325943, 0.22698073089122772, 0.22697937488555908, 0.22698090970516205, 0.22698673605918884, 0.22697854042053223, 0.22698535025119781, 0.2271624505519867, 0.22699184715747833, 0.22700035572052002, 0.2270171344280243, 0.2271135151386261, 0.22701354324817657, 0.2270449846982956, 0.22719015181064606, 0.22701993584632874, 0.2270192801952362, 16999.4765625, 15544.90234375, 15304.9052734375, 13132.1640625, 12132.2373046875, 11645.701171875, 8163.77685546875, 7554.10595703125, 7517.37158203125, 5154.63720703125, 4301.53466796875, 3226.947998046875, 2092.700927734375, 0.2039402574300766, 0.20388810336589813, 0.20385318994522095, 0.20385868847370148, 0.20384883880615234, 0.20384415984153748, 0.2038310170173645, 0.20388048887252808, 0.2038307934999466, 0.20383323729038239, 0.20382338762283325, 0.20382218062877655, 0.20384283363819122, 0.20381712913513184, 0.20381838083267212, 0.2038135677576065, 0.2038135826587677, 0.2038785070180893, 0.20388199388980865, 0.2038324773311615, 0.20386634767055511, 0.20413173735141754, 0.20384246110916138, 0.20394666492938995, 0.2038821578025818, 0.203843891620636, 0.20387379825115204, 0.2038782835006714, 0.20386043190956116, 0.2038547843694687, 0.20386090874671936, 0.20385248959064484, 43059.3828125, 28358.169921875, 14731.98046875, 6071.0302734375, 4681.2294921875, 3786.135986328125, 3777.977294921875, 2560.071044921875, 1279.203857421875, 0.21670474112033844, 0.21665041148662567, 0.21670764684677124, 0.21659719944000244, 0.2165651172399521, 0.21660076081752777, 0.21655555069446564, 0.2165699452161789, 0.2165645956993103, 0.21657532453536987, 0.2165527492761612, 0.21654658019542694, 0.2165558934211731, 0.2165491133928299, 0.21654058992862701, 0.21654410660266876, 0.2165418416261673, 0.2165578454732895, 0.2165810614824295, 0.2165386825799942, 0.21654920279979706, 0.2165512591600418, 0.21659636497497559, 0.2165549099445343, 0.21656771004199982, 0.2166346311569214, 0.21677379310131073, 0.21657505631446838, 0.21658404171466827, 0.21655875444412231, 0.2165919691324234, 0.2165801227092743, 0.21656404435634613, 0.21656911075115204, 0.21658936142921448, 0.2165682315826416, 0.2165706902742386, 0.21656817197799683, 26503.88671875, 19425.302734375, 18246.009765625, 13653.8662109375, 3558.341064453125, 3098.964111328125, 2967.263671875, 2578.02392578125, 2415.123046875, 1216.5150146484375, 0.22061145305633545, 0.22042134404182434, 0.2204074263572693, 0.22040872275829315, 0.22043845057487488, 0.22043603658676147, 0.22039858996868134, 0.22040003538131714, 0.2204265296459198, 0.2204114943742752, 0.22040221095085144, 0.22048072516918182, 0.220415398478508, 0.22039492428302765, 0.2203882932662964, 0.22039766609668732, 0.2203829288482666, 0.22040340304374695, 0.22039102017879486, 0.2204047292470932, 0.22047485411167145, 0.22045280039310455, 0.22047540545463562, 0.22064322233200073, 0.2204456329345703, 0.22042205929756165, 0.22049595415592194, 0.22046950459480286, 0.22045952081680298, 0.22041989862918854, 0.22041457891464233, 52106.51171875, 21896.853515625, 7821.556640625, 5782.80322265625, 3570.6181640625, 1243.3349609375, 0.21974729001522064, 0.21970130503177643, 0.21965733170509338, 0.21965867280960083, 0.21973828971385956, 0.21963715553283691, 0.21963439881801605, 0.21963414549827576, 0.21962958574295044, 0.21963103115558624, 0.21964260935783386, 0.219632089138031, 0.21962884068489075, 0.21964406967163086, 0.21962355077266693, 0.21961669623851776, 0.21961894631385803, 0.21965408325195312, 0.21963566541671753, 0.21962310373783112, 0.21961352229118347, 0.2196117490530014, 0.2196180820465088, 0.21961036324501038, 0.21962769329547882, 0.2197207808494568, 0.21961943805217743, 0.21963930130004883, 0.21963563561439514, 0.21965943276882172, 0.21964697539806366, 0.21966147422790527, 0.21963909268379211, 0.2196315973997116, 0.21965819597244263, 0.2196533977985382, 0.21969512104988098, 0.2196362465620041, 0.21963804960250854, 0.2196359932422638, 29989.5859375, 23122.46875, 18791.056640625, 8215.455078125, 0.18730449676513672, 0.1872282326221466, 0.1872132122516632, 0.18726228177547455, 0.18721213936805725, 0.18723565340042114, 0.18717288970947266, 0.18718594312667847, 0.1871737390756607, 0.1871621012687683, 0.18717706203460693, 0.18715904653072357, 0.18715983629226685, 0.1871815174818039, 0.1871473640203476, 0.1871417909860611, 0.1871417909860611, 0.18716198205947876, 0.18714195489883423, 0.18714460730552673, 0.187142476439476, 0.18713758885860443, 0.18714658915996552, 0.1871449053287506, 0.18720979988574982, 0.18713390827178955, 0.187427818775177, 0.18719042837619781, 0.18718335032463074, 0.18719659745693207, 0.18724384903907776, 0.18716683983802795, 0.18718752264976501, 0.1871565282344818, 0.18715158104896545, 0.18715998530387878, 0.187154158949852, 0.18715757131576538, 39469.58203125, 9143.2412109375, 0.16089777648448944, 0.1607654094696045, 0.16069570183753967, 0.16070543229579926, 0.16071200370788574, 0.16068296134471893, 0.1607321798801422, 0.1606784462928772, 0.16066814959049225, 0.16066740453243256, 0.16066518425941467, 0.16066212952136993, 0.16070279479026794, 0.16068218648433685, 0.16065877676010132, 0.16066130995750427, 0.16067926585674286, 0.16066254675388336, 0.16066518425941467, 0.16066069900989532, 0.16066202521324158, 0.16067364811897278, 0.16066031157970428, 0.16066822409629822, 0.16066060960292816, 0.1606694459915161, 0.1606535166501999, 0.16068099439144135, 0.16068539023399353, 0.16066648066043854, 0.16068190336227417, 0.1606866866350174, 0.16067470610141754, 0.16068768501281738, 0.16068464517593384, 0.1606695055961609, 0.1606900691986084, 0.1606719046831131, 0.1606839895248413, 0.1606878936290741, 0.16069264709949493, 0.16067340970039368, 0.16068381071090698, 0.16068685054779053, 0.16067177057266235, 31130.64453125, 3664.914794921875, 0.15672092139720917, 0.15666364133358002, 0.15665312111377716, 0.15663711726665497, 0.156635582447052, 0.15663592517375946, 0.156629279255867, 0.1566096395254135, 0.1566096395254135, 0.1566111296415329, 0.15660737454891205, 0.1566377580165863, 0.15661375224590302, 0.1566316783428192, 0.1566033512353897, 0.1566009670495987, 0.15659131109714508, 0.15659847855567932, 0.1566024124622345, 0.15662823617458344, 0.15659958124160767, 0.1565932333469391, 0.15659339725971222, 0.15658946335315704, 0.15658719837665558, 0.15658867359161377, 0.1565990298986435, 0.15658465027809143, 0.1566140055656433, 0.15662221610546112, 0.15664170682430267, 0.15662959218025208, 0.1566147655248642, 0.15660730004310608, 0.15664292871952057, 0.15661048889160156, 0.15664756298065186, 0.15660244226455688, 0.15660889446735382, 2611.831787109375, 2341.8408203125, 1556.447021484375, 0.16740283370018005, 0.16740387678146362, 0.1674012690782547, 0.16733722388744354, 0.1673416644334793, 0.16731411218643188, 0.16731411218643188, 0.16731411218643188, 0.16734075546264648, 0.16729457676410675, 0.1673363447189331, 0.16728949546813965, 0.16728872060775757, 0.16728949546813965, 0.16728530824184418, 0.1672849953174591, 0.167282834649086, 0.16728372871875763, 0.16731411218643188, 0.1672849953174591, 0.16727934777736664, 0.1672782301902771, 0.1672831028699875, 0.1672782301902771, 0.16728372871875763, 0.1672886162996292, 0.16727317869663239, 0.16731230914592743, 0.16732478141784668, 0.16730478405952454, 0.16732321679592133, 0.16728398203849792, 0.1672845482826233], \"Total\": [114356.0, 73607.0, 67806.0, 84838.0, 52110.0, 78836.0, 63509.0, 39473.0, 70420.0, 71143.0, 55628.0, 51110.0, 43063.0, 45192.0, 59915.0, 31134.0, 41467.0, 48676.0, 39352.0, 29993.0, 47849.0, 36989.0, 28362.0, 31551.0, 26507.0, 34330.0, 29154.0, 40156.0, 29013.0, 32375.0, 71143.0859375, 40156.31640625, 30051.80859375, 27995.83984375, 27023.00390625, 26554.486328125, 26486.779296875, 25296.83203125, 21370.423828125, 20807.25390625, 11317.349609375, 8934.3369140625, 6710.74658203125, 5895.21337890625, 4385.12109375, 3574.493896484375, 3455.61279296875, 3051.112060546875, 2784.9169921875, 1590.4456787109375, 4.183184623718262, 4.178713321685791, 4.179419040679932, 4.1774396896362305, 4.177509307861328, 4.177915573120117, 4.177412986755371, 4.178944110870361, 4.178096294403076, 4.177206993103027, 4.178416728973389, 84838.09375, 70420.640625, 47849.18359375, 30077.58984375, 28917.005859375, 20309.12890625, 18993.658203125, 15185.603515625, 10144.669921875, 8960.7099609375, 7555.42041015625, 7378.84375, 3858.33984375, 2010.266845703125, 4.183184623718262, 4.178713321685791, 4.177509307861328, 4.177859783172607, 4.178416728973389, 4.176788330078125, 4.1774396896362305, 4.179419040679932, 4.177302837371826, 4.178944110870361, 4.177412986755371, 4.177915573120117, 4.176114082336426, 4.177181243896484, 4.176443576812744, 4.176848888397217, 4.178096294403076, 4.177093029022217, 114356.09375, 78836.734375, 59915.33984375, 20608.896484375, 19868.53515625, 17016.4765625, 15463.720703125, 4647.720703125, 4045.462158203125, 4.183184623718262, 4.178713321685791, 4.176136493682861, 4.1762261390686035, 4.176900863647461, 4.177093029022217, 4.178944110870361, 4.176219463348389, 4.178096294403076, 4.177859783172607, 4.176513671875, 4.178416728973389, 4.1774396896362305, 4.1771931648254395, 4.176397323608398, 4.177302837371826, 4.176788330078125, 4.177085876464844, 4.176206111907959, 4.179419040679932, 4.17604398727417, 4.177412986755371, 4.177915573120117, 4.177181243896484, 63509.3515625, 34330.15234375, 30828.77734375, 20672.5859375, 16485.662109375, 15847.9521484375, 15661.3251953125, 14926.2919921875, 7321.26025390625, 5819.19091796875, 1099.9207763671875, 4.183184623718262, 4.176900863647461, 4.176206111907959, 4.1759233474731445, 4.177915573120117, 4.177302837371826, 4.178713321685791, 4.178944110870361, 4.176167011260986, 4.178416728973389, 4.177412986755371, 4.176360607147217, 4.176765441894531, 4.177859783172607, 4.176252841949463, 4.177085876464844, 4.177181243896484, 4.17698860168457, 4.176485538482666, 4.1774821281433105, 4.179419040679932, 4.178096294403076, 4.177509307861328, 4.1774396896362305, 4.1771931648254395, 48676.20703125, 32375.740234375, 24529.287109375, 21761.75390625, 21215.259765625, 21086.912109375, 19905.048828125, 7028.56982421875, 4474.90576171875, 4459.23779296875, 3853.082275390625, 2889.571533203125, 2819.73046875, 2760.8759765625, 2108.1474609375, 4.1759724617004395, 4.176848888397217, 4.17698860168457, 4.183184623718262, 4.176894664764404, 4.178713321685791, 4.175604820251465, 4.177302837371826, 4.179419040679932, 4.175817012786865, 4.1758246421813965, 4.178096294403076, 4.176601409912109, 4.177052021026611, 4.17578125, 4.176869869232178, 4.178944110870361, 4.177509307861328, 4.177915573120117, 4.177859783172607, 4.177181243896484, 4.178416728973389, 55628.5234375, 39352.484375, 36989.47265625, 17548.666015625, 15280.263671875, 14313.9619140625, 8665.703125, 4504.1513671875, 4337.39404296875, 3703.8017578125, 4.176321506500244, 4.179419040679932, 4.176302909851074, 4.1774821281433105, 4.176572799682617, 4.1771931648254395, 4.178944110870361, 4.175684928894043, 4.176180839538574, 4.176894664764404, 4.177094459533691, 4.176266670227051, 4.177052021026611, 4.176695346832275, 4.176621913909912, 4.1762847900390625, 4.176126956939697, 4.176427364349365, 4.17671537399292, 4.183184623718262, 4.178416728973389, 4.177915573120117, 4.1770782470703125, 4.178096294403076, 4.177302837371826, 4.177206993103027, 4.177859783172607, 67806.0703125, 29399.388671875, 18789.349609375, 18456.24609375, 14481.0, 9165.1044921875, 8505.8603515625, 5935.044921875, 5153.169921875, 4325.271484375, 2764.38671875, 1546.902587890625, 4.178944110870361, 4.179419040679932, 4.176601409912109, 4.1761040687561035, 4.175950527191162, 4.176302909851074, 4.176607131958008, 4.176356315612793, 4.175854206085205, 4.175989151000977, 4.177412986755371, 4.176093101501465, 4.17671537399292, 4.175689697265625, 4.177089691162109, 4.175861358642578, 4.175941467285156, 4.175624847412109, 4.17608642578125, 4.176715850830078, 4.183184623718262, 4.177915573120117, 4.178096294403076, 4.178713321685791, 4.1771931648254395, 4.177859783172607, 4.178416728973389, 4.177181243896484, 73607.2421875, 14278.4677734375, 13747.3232421875, 8996.3076171875, 8736.615234375, 7923.86328125, 7384.33642578125, 6460.39990234375, 6111.7255859375, 4854.42578125, 4502.13720703125, 4242.95166015625, 2169.80908203125, 2081.302001953125, 615.6832275390625, 4.176476001739502, 4.175963401794434, 4.176405906677246, 4.177181243896484, 4.175964832305908, 4.177350044250488, 4.176499366760254, 4.17617130279541, 4.176163196563721, 4.175839900970459, 4.176703453063965, 4.175865650177002, 4.175861835479736, 4.175556659698486, 4.175666332244873, 4.178096294403076, 4.176144123077393, 4.176607131958008, 4.178944110870361, 4.17671537399292, 4.183184623718262, 4.179419040679932, 4.178713321685791, 4.176947593688965, 4.177206993103027, 4.176942348480225, 4.178416728973389, 51110.32421875, 31551.19140625, 29013.298828125, 17125.61328125, 14725.67578125, 8851.5380859375, 3582.906005859375, 2407.553955078125, 4.178416728973389, 4.176443576812744, 4.1770782470703125, 4.176576137542725, 4.176486015319824, 4.176775932312012, 4.176848888397217, 4.175899505615234, 4.176572799682617, 4.175825119018555, 4.176250457763672, 4.176105976104736, 4.177859783172607, 4.176402568817139, 4.176266670227051, 4.175717353820801, 4.1761932373046875, 4.178096294403076, 4.175806522369385, 4.176393985748291, 4.176397323608398, 4.175853729248047, 4.1764678955078125, 4.1774396896362305, 4.176765441894531, 4.183184623718262, 4.178713321685791, 4.178944110870361, 4.179419040679932, 4.176869869232178, 4.1774821281433105, 4.177094459533691, 26901.0546875, 26412.765625, 23430.0078125, 18095.443359375, 15573.6748046875, 12749.2998046875, 11917.6357421875, 6661.09375, 3611.266357421875, 1593.013671875, 4.176621913909912, 4.176209926605225, 4.176695346832275, 4.1758856773376465, 4.176185131072998, 4.175879955291748, 4.176572799682617, 4.175849437713623, 4.1756486892700195, 4.175994396209717, 4.176703453063965, 4.175940990447998, 4.179419040679932, 4.176327228546143, 4.175882339477539, 4.175631046295166, 4.17561149597168, 4.175657749176025, 4.1762800216674805, 4.17552375793457, 4.176485538482666, 4.176959991455078, 4.1762847900390625, 4.1771931648254395, 4.183184623718262, 4.177085876464844, 4.177915573120117, 4.178944110870361, 4.178416728973389, 4.178713321685791, 4.177302837371826, 45192.81640625, 29154.20703125, 24875.28515625, 19284.779296875, 6772.2275390625, 6245.3154296875, 4797.74072265625, 2415.605224609375, 281.7589111328125, 4.176209926605225, 4.1764678955078125, 4.175814151763916, 4.178944110870361, 4.175662994384766, 4.175644397735596, 4.176461219787598, 4.176379203796387, 4.175599575042725, 4.175617694854736, 4.176084995269775, 4.175580024719238, 4.175878047943115, 4.17587947845459, 4.1759796142578125, 4.177206993103027, 4.175851345062256, 4.176036834716797, 4.17561149597168, 4.17567777633667, 4.176393985748291, 4.177412986755371, 4.176367282867432, 4.176959991455078, 4.177859783172607, 4.1770782470703125, 4.183184623718262, 4.1774821281433105, 4.177094459533691, 4.176302909851074, 4.178416728973389, 4.178713321685791, 4.178096294403076, 4.177085876464844, 41467.625, 24756.2421875, 22640.38671875, 19020.009765625, 8006.935546875, 3561.3955078125, 3254.8408203125, 1098.6033935546875, 4.176381587982178, 4.1763691902160645, 4.177093029022217, 4.176113128662109, 4.176389217376709, 4.1774396896362305, 4.176900863647461, 4.176222324371338, 4.175601482391357, 4.176168441772461, 4.175769329071045, 4.175594329833984, 4.175870895385742, 4.175565719604492, 4.175997734069824, 4.1762800216674805, 4.176402568817139, 4.1755290031433105, 4.175557613372803, 4.1755900382995605, 4.175703048706055, 4.175553798675537, 4.175688743591309, 4.179419040679932, 4.175839900970459, 4.1760358810424805, 4.176443576812744, 4.178944110870361, 4.176406383514404, 4.1774821281433105, 4.183184623718262, 4.176715850830078, 4.177859783172607, 17003.44921875, 15548.8740234375, 15308.876953125, 13136.1357421875, 12136.208984375, 11649.6728515625, 8167.748046875, 7558.0771484375, 7521.3427734375, 5158.6083984375, 4305.505859375, 3230.91943359375, 2096.67236328125, 4.1774396896362305, 4.176485538482666, 4.1758317947387695, 4.1760711669921875, 4.175907135009766, 4.175828456878662, 4.17556095123291, 4.176695346832275, 4.175741672515869, 4.175810813903809, 4.1756157875061035, 4.175591945648193, 4.176020622253418, 4.175530910491943, 4.175606727600098, 4.175516605377197, 4.175517559051514, 4.176869869232178, 4.17698860168457, 4.1759233474731445, 4.17671537399292, 4.183184623718262, 4.176163196563721, 4.179419040679932, 4.177509307861328, 4.176331043243408, 4.177915573120117, 4.178713321685791, 4.1774821281433105, 4.1771931648254395, 4.178096294403076, 4.178416728973389, 43063.33984375, 28362.12890625, 14735.939453125, 6074.9892578125, 4685.1884765625, 3790.0947265625, 3781.93603515625, 2564.02978515625, 1283.1629638671875, 4.176942348480225, 4.176245212554932, 4.177915573120117, 4.175952911376953, 4.175610542297363, 4.176367282867432, 4.175568580627441, 4.175878047943115, 4.175812244415283, 4.176053047180176, 4.175633430480957, 4.17558479309082, 4.175830841064453, 4.175714015960693, 4.175583362579346, 4.175657749176025, 4.175616264343262, 4.175929069519043, 4.176379680633545, 4.175563812255859, 4.175769329071045, 4.175827980041504, 4.176894664764404, 4.175926208496094, 4.176280498504639, 4.178416728973389, 4.183184623718262, 4.176661491394043, 4.177089691162109, 4.176082611083984, 4.177509307861328, 4.1774821281433105, 4.176539897918701, 4.177094459533691, 4.179419040679932, 4.177085876464844, 4.178096294403076, 4.177859783172607, 26507.841796875, 19429.2578125, 18249.96484375, 13657.8212890625, 3562.2958984375, 3102.9189453125, 2971.218505859375, 2581.978759765625, 2419.077880859375, 1220.4703369140625, 4.176661491394043, 4.175687313079834, 4.175568580627441, 4.175608158111572, 4.176327228546143, 4.176292419433594, 4.175655364990234, 4.175700664520264, 4.176239967346191, 4.175997734069824, 4.175829887390137, 4.177350044250488, 4.176121711730957, 4.1757493019104, 4.175678253173828, 4.175861358642578, 4.175588607788086, 4.17605447769165, 4.175822734832764, 4.17608642578125, 4.1774821281433105, 4.177094459533691, 4.178096294403076, 4.183184623718262, 4.177412986755371, 4.17666482925415, 4.179419040679932, 4.178944110870361, 4.178713321685791, 4.177859783172607, 4.177915573120117, 52110.46875, 21900.810546875, 7825.51220703125, 5786.7587890625, 3574.573974609375, 1247.291015625, 4.175932884216309, 4.175853729248047, 4.1756768226623535, 4.1758036613464355, 4.177350044250488, 4.1756367683410645, 4.175587177276611, 4.175624847412109, 4.175546646118164, 4.1756486892700195, 4.1759138107299805, 4.1757426261901855, 4.175703525543213, 4.176002025604248, 4.175620079040527, 4.175545692443848, 4.175590991973877, 4.176278114318848, 4.175952911376953, 4.175736904144287, 4.175556182861328, 4.1755290031433105, 4.175652027130127, 4.175512790679932, 4.175847053527832, 4.177915573120117, 4.175714015960693, 4.176252841949463, 4.1761884689331055, 4.177094459533691, 4.17671537399292, 4.177302837371826, 4.17655086517334, 4.176112651824951, 4.178096294403076, 4.178416728973389, 4.183184623718262, 4.176765441894531, 4.177181243896484, 4.179419040679932, 29993.57421875, 23126.45703125, 18795.044921875, 8219.4423828125, 4.1764373779296875, 4.175866603851318, 4.175926685333252, 4.177206993103027, 4.176108360290527, 4.176959991455078, 4.175604343414307, 4.1759114265441895, 4.175861358642578, 4.175605297088623, 4.175964832305908, 4.175725936889648, 4.175808906555176, 4.176389217376709, 4.175650596618652, 4.175527095794678, 4.175527095794678, 4.175989151000977, 4.1755475997924805, 4.17563533782959, 4.175657272338867, 4.1755547523498535, 4.175760746002197, 4.1757378578186035, 4.1771931648254395, 4.175571918487549, 4.183184623718262, 4.177089691162109, 4.176947593688965, 4.1774821281433105, 4.179419040679932, 4.17666482925415, 4.178096294403076, 4.176485538482666, 4.176344871520996, 4.177859783172607, 4.177085876464844, 4.178713321685791, 39473.59765625, 9147.255859375, 4.178416728973389, 4.177350044250488, 4.1755876541137695, 4.175989151000977, 4.176405906677246, 4.17571496963501, 4.177052021026611, 4.175777912139893, 4.175596714019775, 4.17558479309082, 4.175559043884277, 4.175541877746582, 4.176607131958008, 4.176109313964844, 4.1755170822143555, 4.17558479309082, 4.176067352294922, 4.175634384155273, 4.175730228424072, 4.175617218017578, 4.175660610198975, 4.175991058349609, 4.175666332244873, 4.175879955291748, 4.175683498382568, 4.175931930541992, 4.175529479980469, 4.176245212554932, 4.176360607147217, 4.1759138107299805, 4.17655086517334, 4.176775932312012, 4.176302909851074, 4.17698860168457, 4.1770782470703125, 4.176111221313477, 4.1774821281433105, 4.176297187805176, 4.177412986755371, 4.177859783172607, 4.178944110870361, 4.176942348480225, 4.179419040679932, 4.183184623718262, 4.178096294403076, 31134.6640625, 3668.933837890625, 4.176715850830078, 4.1759443283081055, 4.176056385040283, 4.175708293914795, 4.175787448883057, 4.176084041595459, 4.175964832305908, 4.17559289932251, 4.1756086349487305, 4.175708293914795, 4.175634860992432, 4.176502227783203, 4.175877094268799, 4.176485538482666, 4.175808429718018, 4.175751209259033, 4.175530433654785, 4.175727367401123, 4.175839900970459, 4.176539897918701, 4.175787448883057, 4.175638198852539, 4.175645351409912, 4.175561904907227, 4.175549507141113, 4.175609111785889, 4.1758952140808105, 4.175512313842773, 4.176425933837891, 4.176775932312012, 4.177509307861328, 4.177181243896484, 4.176869869232178, 4.1764373779296875, 4.179419040679932, 4.177350044250488, 4.183184623718262, 4.17641544342041, 4.177859783172607, 2615.840087890625, 2345.84912109375, 1560.455322265625, 4.1759514808654785, 4.176959991455078, 4.176942348480225, 4.175673961639404, 4.17583703994751, 4.175563812255859, 4.1755781173706055, 4.175591945648193, 4.176576137542725, 4.1755523681640625, 4.176695346832275, 4.175546646118164, 4.175576210021973, 4.175627708435059, 4.175541877746582, 4.175554275512695, 4.175602912902832, 4.175631046295166, 4.176397323608398, 4.175698280334473, 4.175561904907227, 4.175549030303955, 4.1756720542907715, 4.175554275512695, 4.175745010375977, 4.175900936126709, 4.175540924072266, 4.176527500152588, 4.177089691162109, 4.176499366760254, 4.178944110870361, 4.176185131072998, 4.176765441894531], \"Category\": [\"Default\", \"Default\", \"Default\", \"Default\", \"Default\", \"Default\", \"Default\", \"Default\", \"Default\", \"Default\", \"Default\", \"Default\", \"Default\", \"Default\", \"Default\", \"Default\", \"Default\", \"Default\", \"Default\", \"Default\", \"Default\", \"Default\", \"Default\", \"Default\", \"Default\", \"Default\", \"Default\", \"Default\", \"Default\", \"Default\", \"Topic1\", \"Topic1\", \"Topic1\", \"Topic1\", \"Topic1\", \"Topic1\", \"Topic1\", \"Topic1\", \"Topic1\", \"Topic1\", \"Topic1\", \"Topic1\", \"Topic1\", \"Topic1\", \"Topic1\", \"Topic1\", \"Topic1\", \"Topic1\", \"Topic1\", \"Topic1\", \"Topic1\", \"Topic1\", \"Topic1\", \"Topic1\", \"Topic1\", \"Topic1\", \"Topic1\", \"Topic1\", \"Topic1\", \"Topic1\", \"Topic1\", \"Topic2\", \"Topic2\", \"Topic2\", \"Topic2\", \"Topic2\", \"Topic2\", \"Topic2\", \"Topic2\", \"Topic2\", \"Topic2\", \"Topic2\", \"Topic2\", \"Topic2\", \"Topic2\", \"Topic2\", \"Topic2\", \"Topic2\", \"Topic2\", \"Topic2\", \"Topic2\", \"Topic2\", \"Topic2\", \"Topic2\", \"Topic2\", \"Topic2\", \"Topic2\", \"Topic2\", \"Topic2\", \"Topic2\", \"Topic2\", \"Topic2\", \"Topic2\", \"Topic3\", \"Topic3\", \"Topic3\", \"Topic3\", \"Topic3\", \"Topic3\", \"Topic3\", \"Topic3\", \"Topic3\", \"Topic3\", \"Topic3\", \"Topic3\", \"Topic3\", \"Topic3\", \"Topic3\", \"Topic3\", \"Topic3\", \"Topic3\", \"Topic3\", \"Topic3\", \"Topic3\", \"Topic3\", \"Topic3\", \"Topic3\", \"Topic3\", \"Topic3\", \"Topic3\", \"Topic3\", \"Topic3\", \"Topic3\", \"Topic3\", \"Topic3\", \"Topic3\", \"Topic4\", \"Topic4\", \"Topic4\", \"Topic4\", \"Topic4\", \"Topic4\", \"Topic4\", \"Topic4\", \"Topic4\", \"Topic4\", \"Topic4\", \"Topic4\", \"Topic4\", \"Topic4\", \"Topic4\", \"Topic4\", \"Topic4\", \"Topic4\", \"Topic4\", \"Topic4\", \"Topic4\", \"Topic4\", \"Topic4\", \"Topic4\", \"Topic4\", \"Topic4\", \"Topic4\", \"Topic4\", \"Topic4\", \"Topic4\", \"Topic4\", \"Topic4\", \"Topic4\", \"Topic4\", \"Topic4\", \"Topic4\", \"Topic5\", \"Topic5\", \"Topic5\", \"Topic5\", \"Topic5\", \"Topic5\", \"Topic5\", \"Topic5\", \"Topic5\", \"Topic5\", \"Topic5\", \"Topic5\", \"Topic5\", \"Topic5\", \"Topic5\", \"Topic5\", \"Topic5\", \"Topic5\", \"Topic5\", \"Topic5\", \"Topic5\", \"Topic5\", \"Topic5\", \"Topic5\", \"Topic5\", \"Topic5\", \"Topic5\", \"Topic5\", \"Topic5\", \"Topic5\", \"Topic5\", \"Topic5\", \"Topic5\", \"Topic5\", \"Topic5\", \"Topic5\", \"Topic5\", \"Topic6\", \"Topic6\", \"Topic6\", \"Topic6\", \"Topic6\", \"Topic6\", \"Topic6\", \"Topic6\", \"Topic6\", \"Topic6\", \"Topic6\", \"Topic6\", \"Topic6\", \"Topic6\", \"Topic6\", \"Topic6\", \"Topic6\", \"Topic6\", \"Topic6\", \"Topic6\", \"Topic6\", \"Topic6\", \"Topic6\", \"Topic6\", \"Topic6\", \"Topic6\", \"Topic6\", \"Topic6\", \"Topic6\", \"Topic6\", \"Topic6\", \"Topic6\", \"Topic6\", \"Topic6\", \"Topic6\", \"Topic6\", \"Topic6\", \"Topic7\", \"Topic7\", \"Topic7\", \"Topic7\", \"Topic7\", \"Topic7\", \"Topic7\", \"Topic7\", \"Topic7\", \"Topic7\", \"Topic7\", \"Topic7\", \"Topic7\", \"Topic7\", \"Topic7\", \"Topic7\", \"Topic7\", \"Topic7\", \"Topic7\", \"Topic7\", \"Topic7\", \"Topic7\", \"Topic7\", \"Topic7\", \"Topic7\", \"Topic7\", \"Topic7\", \"Topic7\", \"Topic7\", \"Topic7\", \"Topic7\", \"Topic7\", \"Topic7\", \"Topic7\", \"Topic7\", \"Topic7\", \"Topic7\", \"Topic7\", \"Topic7\", \"Topic7\", \"Topic8\", \"Topic8\", \"Topic8\", \"Topic8\", \"Topic8\", \"Topic8\", \"Topic8\", \"Topic8\", \"Topic8\", \"Topic8\", \"Topic8\", \"Topic8\", \"Topic8\", \"Topic8\", \"Topic8\", \"Topic8\", \"Topic8\", \"Topic8\", \"Topic8\", \"Topic8\", \"Topic8\", \"Topic8\", \"Topic8\", \"Topic8\", \"Topic8\", \"Topic8\", \"Topic8\", \"Topic8\", \"Topic8\", \"Topic8\", \"Topic8\", \"Topic8\", \"Topic8\", \"Topic8\", \"Topic8\", \"Topic8\", \"Topic8\", \"Topic8\", \"Topic8\", \"Topic8\", \"Topic8\", \"Topic8\", \"Topic9\", \"Topic9\", \"Topic9\", \"Topic9\", \"Topic9\", \"Topic9\", \"Topic9\", \"Topic9\", \"Topic9\", \"Topic9\", \"Topic9\", \"Topic9\", \"Topic9\", \"Topic9\", \"Topic9\", \"Topic9\", \"Topic9\", \"Topic9\", \"Topic9\", \"Topic9\", \"Topic9\", \"Topic9\", \"Topic9\", \"Topic9\", \"Topic9\", \"Topic9\", \"Topic9\", \"Topic9\", \"Topic9\", \"Topic9\", \"Topic9\", \"Topic9\", \"Topic9\", \"Topic9\", \"Topic9\", \"Topic9\", \"Topic9\", \"Topic9\", \"Topic9\", \"Topic9\", \"Topic10\", \"Topic10\", \"Topic10\", \"Topic10\", \"Topic10\", \"Topic10\", \"Topic10\", \"Topic10\", \"Topic10\", \"Topic10\", \"Topic10\", \"Topic10\", \"Topic10\", \"Topic10\", \"Topic10\", \"Topic10\", \"Topic10\", \"Topic10\", \"Topic10\", \"Topic10\", \"Topic10\", \"Topic10\", \"Topic10\", \"Topic10\", \"Topic10\", \"Topic10\", \"Topic10\", \"Topic10\", \"Topic10\", \"Topic10\", \"Topic10\", \"Topic10\", \"Topic10\", \"Topic10\", \"Topic10\", \"Topic10\", \"Topic10\", \"Topic10\", \"Topic10\", \"Topic10\", \"Topic10\", \"Topic11\", \"Topic11\", \"Topic11\", \"Topic11\", \"Topic11\", \"Topic11\", \"Topic11\", \"Topic11\", \"Topic11\", \"Topic11\", \"Topic11\", \"Topic11\", \"Topic11\", \"Topic11\", \"Topic11\", \"Topic11\", \"Topic11\", \"Topic11\", \"Topic11\", \"Topic11\", \"Topic11\", \"Topic11\", \"Topic11\", \"Topic11\", \"Topic11\", \"Topic11\", \"Topic11\", \"Topic11\", \"Topic11\", \"Topic11\", \"Topic11\", \"Topic11\", \"Topic11\", \"Topic11\", \"Topic11\", \"Topic11\", \"Topic11\", \"Topic11\", \"Topic11\", \"Topic11\", \"Topic11\", \"Topic11\", \"Topic11\", \"Topic12\", \"Topic12\", \"Topic12\", \"Topic12\", \"Topic12\", \"Topic12\", \"Topic12\", \"Topic12\", \"Topic12\", \"Topic12\", \"Topic12\", \"Topic12\", \"Topic12\", \"Topic12\", \"Topic12\", \"Topic12\", \"Topic12\", \"Topic12\", \"Topic12\", \"Topic12\", \"Topic12\", \"Topic12\", \"Topic12\", \"Topic12\", \"Topic12\", \"Topic12\", \"Topic12\", \"Topic12\", \"Topic12\", \"Topic12\", \"Topic12\", \"Topic12\", \"Topic12\", \"Topic12\", \"Topic12\", \"Topic12\", \"Topic12\", \"Topic12\", \"Topic12\", \"Topic12\", \"Topic12\", \"Topic13\", \"Topic13\", \"Topic13\", \"Topic13\", \"Topic13\", \"Topic13\", \"Topic13\", \"Topic13\", \"Topic13\", \"Topic13\", \"Topic13\", \"Topic13\", \"Topic13\", \"Topic13\", \"Topic13\", \"Topic13\", \"Topic13\", \"Topic13\", \"Topic13\", \"Topic13\", \"Topic13\", \"Topic13\", \"Topic13\", \"Topic13\", \"Topic13\", \"Topic13\", \"Topic13\", \"Topic13\", \"Topic13\", \"Topic13\", \"Topic13\", \"Topic13\", \"Topic13\", \"Topic13\", \"Topic13\", \"Topic13\", \"Topic13\", \"Topic13\", \"Topic13\", \"Topic13\", \"Topic13\", \"Topic13\", \"Topic13\", \"Topic13\", \"Topic13\", \"Topic14\", \"Topic14\", \"Topic14\", \"Topic14\", \"Topic14\", \"Topic14\", \"Topic14\", \"Topic14\", \"Topic14\", \"Topic14\", \"Topic14\", \"Topic14\", \"Topic14\", \"Topic14\", \"Topic14\", \"Topic14\", \"Topic14\", \"Topic14\", \"Topic14\", \"Topic14\", \"Topic14\", \"Topic14\", \"Topic14\", \"Topic14\", \"Topic14\", \"Topic14\", \"Topic14\", \"Topic14\", \"Topic14\", \"Topic14\", \"Topic14\", \"Topic14\", \"Topic14\", \"Topic14\", \"Topic14\", \"Topic14\", \"Topic14\", \"Topic14\", \"Topic14\", \"Topic14\", \"Topic14\", \"Topic14\", \"Topic14\", \"Topic14\", \"Topic14\", \"Topic14\", \"Topic14\", \"Topic15\", \"Topic15\", \"Topic15\", \"Topic15\", \"Topic15\", \"Topic15\", \"Topic15\", \"Topic15\", \"Topic15\", \"Topic15\", \"Topic15\", \"Topic15\", \"Topic15\", \"Topic15\", \"Topic15\", \"Topic15\", \"Topic15\", \"Topic15\", \"Topic15\", \"Topic15\", \"Topic15\", \"Topic15\", \"Topic15\", \"Topic15\", \"Topic15\", \"Topic15\", \"Topic15\", \"Topic15\", \"Topic15\", \"Topic15\", \"Topic15\", \"Topic15\", \"Topic15\", \"Topic15\", \"Topic15\", \"Topic15\", \"Topic15\", \"Topic15\", \"Topic15\", \"Topic15\", \"Topic15\", \"Topic16\", \"Topic16\", \"Topic16\", \"Topic16\", \"Topic16\", \"Topic16\", \"Topic16\", \"Topic16\", \"Topic16\", \"Topic16\", \"Topic16\", \"Topic16\", \"Topic16\", \"Topic16\", \"Topic16\", \"Topic16\", \"Topic16\", \"Topic16\", \"Topic16\", \"Topic16\", \"Topic16\", \"Topic16\", \"Topic16\", \"Topic16\", \"Topic16\", \"Topic16\", \"Topic16\", \"Topic16\", \"Topic16\", \"Topic16\", \"Topic16\", \"Topic16\", \"Topic16\", \"Topic16\", \"Topic16\", \"Topic16\", \"Topic16\", \"Topic16\", \"Topic16\", \"Topic16\", \"Topic16\", \"Topic16\", \"Topic16\", \"Topic16\", \"Topic16\", \"Topic16\", \"Topic17\", \"Topic17\", \"Topic17\", \"Topic17\", \"Topic17\", \"Topic17\", \"Topic17\", \"Topic17\", \"Topic17\", \"Topic17\", \"Topic17\", \"Topic17\", \"Topic17\", \"Topic17\", \"Topic17\", \"Topic17\", \"Topic17\", \"Topic17\", \"Topic17\", \"Topic17\", \"Topic17\", \"Topic17\", \"Topic17\", \"Topic17\", \"Topic17\", \"Topic17\", \"Topic17\", \"Topic17\", \"Topic17\", \"Topic17\", \"Topic17\", \"Topic17\", \"Topic17\", \"Topic17\", \"Topic17\", \"Topic17\", \"Topic17\", \"Topic17\", \"Topic17\", \"Topic17\", \"Topic17\", \"Topic17\", \"Topic18\", \"Topic18\", \"Topic18\", \"Topic18\", \"Topic18\", \"Topic18\", \"Topic18\", \"Topic18\", \"Topic18\", \"Topic18\", \"Topic18\", \"Topic18\", \"Topic18\", \"Topic18\", \"Topic18\", \"Topic18\", \"Topic18\", \"Topic18\", \"Topic18\", \"Topic18\", \"Topic18\", \"Topic18\", \"Topic18\", \"Topic18\", \"Topic18\", \"Topic18\", \"Topic18\", \"Topic18\", \"Topic18\", \"Topic18\", \"Topic18\", \"Topic18\", \"Topic18\", \"Topic18\", \"Topic18\", \"Topic18\", \"Topic18\", \"Topic18\", \"Topic18\", \"Topic18\", \"Topic18\", \"Topic18\", \"Topic18\", \"Topic18\", \"Topic18\", \"Topic18\", \"Topic18\", \"Topic19\", \"Topic19\", \"Topic19\", \"Topic19\", \"Topic19\", \"Topic19\", \"Topic19\", \"Topic19\", \"Topic19\", \"Topic19\", \"Topic19\", \"Topic19\", \"Topic19\", \"Topic19\", \"Topic19\", \"Topic19\", \"Topic19\", \"Topic19\", \"Topic19\", \"Topic19\", \"Topic19\", \"Topic19\", \"Topic19\", \"Topic19\", \"Topic19\", \"Topic19\", \"Topic19\", \"Topic19\", \"Topic19\", \"Topic19\", \"Topic19\", \"Topic19\", \"Topic19\", \"Topic19\", \"Topic19\", \"Topic19\", \"Topic19\", \"Topic19\", \"Topic19\", \"Topic19\", \"Topic19\", \"Topic20\", \"Topic20\", \"Topic20\", \"Topic20\", \"Topic20\", \"Topic20\", \"Topic20\", \"Topic20\", \"Topic20\", \"Topic20\", \"Topic20\", \"Topic20\", \"Topic20\", \"Topic20\", \"Topic20\", \"Topic20\", \"Topic20\", \"Topic20\", \"Topic20\", \"Topic20\", \"Topic20\", \"Topic20\", \"Topic20\", \"Topic20\", \"Topic20\", \"Topic20\", \"Topic20\", \"Topic20\", \"Topic20\", \"Topic20\", \"Topic20\", \"Topic20\", \"Topic20\", \"Topic20\", \"Topic20\", \"Topic20\"], \"logprob\": [30.0, 29.0, 28.0, 27.0, 26.0, 25.0, 24.0, 23.0, 22.0, 21.0, 20.0, 19.0, 18.0, 17.0, 16.0, 15.0, 14.0, 13.0, 12.0, 11.0, 10.0, 9.0, 8.0, 7.0, 6.0, 5.0, 4.0, 3.0, 2.0, 1.0, -1.6686999797821045, -2.240600109100342, -2.5304999351501465, -2.6013998985290527, -2.6368000507354736, -2.6542999744415283, -2.6568000316619873, -2.7028000354766846, -2.871500015258789, -2.898200035095215, -3.5072999000549316, -3.7439000606536865, -4.030200004577637, -4.159900188446045, -4.455999851226807, -4.660600185394287, -4.694499969482422, -4.8190999031066895, -4.9105000495910645, -5.471799850463867, -14.508099555969238, -14.510600090026855, -14.510700225830078, -14.511199951171875, -14.511199951171875, -14.511199951171875, -14.511300086975098, -14.51099967956543, -14.511199951171875, -14.511500358581543, -14.511300086975098, -1.4645999670028687, -1.6509000062942505, -2.037400007247925, -2.501699924468994, -2.5409998893737793, -2.8945000171661377, -2.961400032043457, -3.18530011177063, -3.5887999534606934, -3.712899923324585, -3.8835999965667725, -3.9072999954223633, -4.556099891662598, -5.209000110626221, -14.31089973449707, -14.312100410461426, -14.313300132751465, -14.313300132751465, -14.313199996948242, -14.313599586486816, -14.31350040435791, -14.313199996948242, -14.313699722290039, -14.313300132751465, -14.313699722290039, -14.313599586486816, -14.31410026550293, -14.313899993896484, -14.31410026550293, -14.314000129699707, -14.313799858093262, -14.314000129699707, -1.1043000221252441, -1.476199984550476, -1.7506999969482422, -2.818000078201294, -2.854599952697754, -3.0095999240875244, -3.105299949645996, -4.308000087738037, -4.446899890899658, -14.275099754333496, -14.277600288391113, -14.278400421142578, -14.278400421142578, -14.278300285339355, -14.278300285339355, -14.277899742126465, -14.278499603271484, -14.278200149536133, -14.278200149536133, -14.278599739074707, -14.278200149536133, -14.278400421142578, -14.278499603271484, -14.278800010681152, -14.278599739074707, -14.27869987487793, -14.278599739074707, -14.278800010681152, -14.27810001373291, -14.278900146484375, -14.278599739074707, -14.278499603271484, -14.27869987487793, -1.31850004196167, -1.9336999654769897, -2.041300058364868, -2.440999984741211, -2.6673998832702637, -2.7067999839782715, -2.7186999320983887, -2.766700029373169, -3.4793999195098877, -3.7091000080108643, -5.377999782562256, -13.843000411987305, -13.844900131225586, -13.845199584960938, -13.84529972076416, -13.844799995422363, -13.845000267028809, -13.84469985961914, -13.844599723815918, -13.84529972076416, -13.844799995422363, -13.845000267028809, -13.84529972076416, -13.845199584960938, -13.844900131225586, -13.84529972076416, -13.845199584960938, -13.845100402832031, -13.845199584960938, -13.84529972076416, -13.845100402832031, -13.844599723815918, -13.845000267028809, -13.845100402832031, -13.845100402832031, -13.845199584960938, -1.5547000169754028, -1.962499976158142, -2.2400999069213867, -2.359800100326538, -2.385200023651123, -2.3912999629974365, -2.4489998817443848, -3.490299940109253, -3.942199945449829, -3.94569993019104, -4.091899871826172, -4.380000114440918, -4.4045000076293945, -4.425600051879883, -4.695799827575684, -13.852999687194824, -13.852999687194824, -13.852999687194824, -13.851499557495117, -13.852999687194824, -13.85260009765625, -13.853400230407715, -13.852999687194824, -13.852499961853027, -13.853400230407715, -13.853400230407715, -13.852899551391602, -13.853300094604492, -13.85319995880127, -13.853500366210938, -13.85319995880127, -13.852800369262695, -13.853099822998047, -13.852999687194824, -13.853099822998047, -13.85319995880127, -13.85319995880127, -1.3349000215530396, -1.6811000108718872, -1.7430000305175781, -2.488800048828125, -2.62719988822937, -2.6926000118255615, -3.1946001052856445, -3.849400043487549, -3.887200117111206, -4.045199871063232, -13.713800430297852, -13.713399887084961, -13.714400291442871, -13.714200019836426, -13.714500427246094, -13.714400291442871, -13.71399974822998, -13.714799880981445, -13.714699745178223, -13.714599609375, -13.714500427246094, -13.714699745178223, -13.714599609375, -13.714599609375, -13.714699745178223, -13.714699745178223, -13.714799880981445, -13.714699745178223, -13.714699745178223, -13.71310043334961, -13.714300155639648, -13.714400291442871, -13.714599609375, -13.714500427246094, -13.714599609375, -13.714699745178223, -13.714699745178223, -1.0645999908447266, -1.9004000425338745, -2.3482000827789307, -2.365999937057495, -2.6087000370025635, -3.0662999153137207, -3.140899896621704, -3.500999927520752, -3.642400026321411, -3.817699909210205, -4.2657999992370605, -4.847499847412109, -13.710399627685547, -13.710399627685547, -13.711099624633789, -13.711199760437012, -13.711299896240234, -13.711199760437012, -13.711099624633789, -13.711199760437012, -13.711299896240234, -13.711299896240234, -13.711000442504883, -13.711299896240234, -13.711199760437012, -13.711400032043457, -13.711099624633789, -13.711400032043457, -13.711400032043457, -13.711400032043457, -13.711299896240234, -13.711199760437012, -13.709699630737305, -13.71090030670166, -13.71090030670166, -13.71090030670166, -13.711199760437012, -13.711099624633789, -13.711099624633789, -13.711199760437012, -0.8632000088691711, -2.5034000873565674, -2.541300058364868, -2.9655001163482666, -2.994800090789795, -3.0924999713897705, -3.1630001068115234, -3.296799898147583, -3.352299928665161, -3.5827999114990234, -3.6582000255584717, -3.7174999713897705, -4.389100074768066, -4.430799961090088, -5.65339994430542, -13.747900009155273, -13.748100280761719, -13.748100280761719, -13.747900009155273, -13.748200416564941, -13.747900009155273, -13.748100280761719, -13.748200416564941, -13.748200416564941, -13.748299598693848, -13.748100280761719, -13.748299598693848, -13.748299598693848, -13.74839973449707, -13.74839973449707, -13.747900009155273, -13.748299598693848, -13.748200416564941, -13.74779987335205, -13.748200416564941, -13.747200012207031, -13.747900009155273, -13.748000144958496, -13.748200416564941, -13.748200416564941, -13.748200416564941, -13.748100280761719, -1.192199945449829, -1.6746000051498413, -1.7584999799728394, -2.285799980163574, -2.436800003051758, -2.946000099182129, -3.8510000705718994, -4.249100208282471, -13.585800170898438, -13.586299896240234, -13.586199760437012, -13.586400032043457, -13.58650016784668, -13.58650016784668, -13.58650016784668, -13.586700439453125, -13.586600303649902, -13.586799621582031, -13.586700439453125, -13.586700439453125, -13.586299896240234, -13.586700439453125, -13.586700439453125, -13.586799621582031, -13.586700439453125, -13.586299896240234, -13.586799621582031, -13.586700439453125, -13.586700439453125, -13.586799621582031, -13.586700439453125, -13.58650016784668, -13.586700439453125, -13.585800170898438, -13.58650016784668, -13.58650016784668, -13.58650016784668, -13.586700439453125, -13.586600303649902, -13.586700439453125, -1.770400047302246, -1.7888000011444092, -1.9085999727249146, -2.1670000553131104, -2.3171000480651855, -2.5172998905181885, -2.5848000049591064, -3.166800022125244, -3.7795000076293945, -4.599299907684326, -13.42300033569336, -13.423199653625488, -13.423100471496582, -13.423399925231934, -13.423299789428711, -13.423399925231934, -13.423199653625488, -13.423399925231934, -13.423500061035156, -13.423399925231934, -13.423199653625488, -13.423399925231934, -13.422599792480469, -13.423299789428711, -13.423500061035156, -13.423500061035156, -13.423500061035156, -13.423500061035156, -13.423399925231934, -13.423600196838379, -13.423299789428711, -13.423199653625488, -13.423399925231934, -13.423199653625488, -13.422300338745117, -13.423299789428711, -13.423299789428711, -13.423199653625488, -13.423299789428711, -13.423299789428711, -13.423299789428711, -1.2064000368118286, -1.6447999477386475, -1.8035000562667847, -2.0580999851226807, -3.1050000190734863, -3.1861000061035156, -3.449899911880493, -4.136899948120117, -6.297999858856201, -13.295999526977539, -13.29640007019043, -13.296600341796875, -13.295999526977539, -13.296699523925781, -13.296799659729004, -13.296600341796875, -13.296600341796875, -13.296799659729004, -13.296799659729004, -13.296699523925781, -13.296799659729004, -13.296799659729004, -13.296799659729004, -13.296799659729004, -13.296500205993652, -13.296799659729004, -13.296799659729004, -13.296899795532227, -13.296899795532227, -13.296699523925781, -13.296500205993652, -13.296699523925781, -13.296600341796875, -13.296500205993652, -13.296699523925781, -13.296199798583984, -13.296699523925781, -13.296699523925781, -13.296799659729004, -13.296699523925781, -13.296699523925781, -13.296699523925781, -13.296699523925781, -1.176900029182434, -1.6928000450134277, -1.7821999788284302, -1.9565000534057617, -2.821899890899658, -3.632699966430664, -3.7228000164031982, -4.811299800872803, -13.29069995880127, -13.290900230407715, -13.291199684143066, -13.291799545288086, -13.29170036315918, -13.291600227355957, -13.291899681091309, -13.291999816894531, -13.292200088500977, -13.292099952697754, -13.292200088500977, -13.2923002243042, -13.2923002243042, -13.2923002243042, -13.292200088500977, -13.292200088500977, -13.292200088500977, -13.292400360107422, -13.292400360107422, -13.292400360107422, -13.292400360107422, -13.292400360107422, -13.292400360107422, -13.291600227355957, -13.2923002243042, -13.2923002243042, -13.292200088500977, -13.291799545288086, -13.292200088500977, -13.292099952697754, -13.291500091552734, -13.292200088500977, -13.292200088500977, -2.052799940109253, -2.1422998905181885, -2.1577999591827393, -2.3108999729156494, -2.3901000022888184, -2.4310998916625977, -2.78629994392395, -2.8638999462127686, -2.868799924850464, -3.2460999488830566, -3.427000045776367, -3.7144999504089355, -4.147500038146973, -13.383700370788574, -13.383899688720703, -13.384099960327148, -13.384099960327148, -13.384099960327148, -13.384200096130371, -13.384200096130371, -13.383999824523926, -13.384200096130371, -13.384200096130371, -13.384300231933594, -13.384300231933594, -13.384200096130371, -13.384300231933594, -13.384300231933594, -13.384300231933594, -13.384300231933594, -13.383999824523926, -13.383999824523926, -13.384200096130371, -13.383999824523926, -13.382699966430664, -13.384200096130371, -13.383700370788574, -13.383999824523926, -13.384200096130371, -13.383999824523926, -13.383999824523926, -13.384099960327148, -13.384099960327148, -13.384099960327148, -13.384099960327148, -1.0127999782562256, -1.4305000305175781, -2.085400104522705, -2.97189998626709, -3.2318999767303467, -3.4440999031066895, -3.446199893951416, -3.835400104522705, -4.529200077056885, -13.212400436401367, -13.212699890136719, -13.212400436401367, -13.212900161743164, -13.213000297546387, -13.212900161743164, -13.21310043334961, -13.213000297546387, -13.213000297546387, -13.213000297546387, -13.21310043334961, -13.21310043334961, -13.21310043334961, -13.21310043334961, -13.213199615478516, -13.21310043334961, -13.213199615478516, -13.21310043334961, -13.213000297546387, -13.213199615478516, -13.21310043334961, -13.21310043334961, -13.212900161743164, -13.21310043334961, -13.213000297546387, -13.212699890136719, -13.2121000289917, -13.213000297546387, -13.213000297546387, -13.21310043334961, -13.212900161743164, -13.213000297546387, -13.21310043334961, -13.213000297546387, -13.212900161743164, -13.213000297546387, -13.213000297546387, -13.213000297546387, -1.3681000471115112, -1.6787999868392944, -1.7414000034332275, -2.0313000679016113, -3.3761000633239746, -3.5143001079559326, -3.5576999187469482, -3.6982998847961426, -3.7636001110076904, -4.449399948120117, -13.064499855041504, -13.065299987792969, -13.065400123596191, -13.065400123596191, -13.065199851989746, -13.065299987792969, -13.065400123596191, -13.065400123596191, -13.065299987792969, -13.065400123596191, -13.065400123596191, -13.065099716186523, -13.065400123596191, -13.065400123596191, -13.065500259399414, -13.065400123596191, -13.065500259399414, -13.065400123596191, -13.065500259399414, -13.065400123596191, -13.065099716186523, -13.065199851989746, -13.065099716186523, -13.064299583435059, -13.065199851989746, -13.065299987792969, -13.0649995803833, -13.065099716186523, -13.065199851989746, -13.065299987792969, -13.065400123596191, -0.6797000169754028, -1.5467000007629395, -2.5761001110076904, -2.8780999183654785, -3.360300064086914, -4.415200233459473, -13.055999755859375, -13.056300163269043, -13.056500434875488, -13.056500434875488, -13.056099891662598, -13.056500434875488, -13.056599617004395, -13.056599617004395, -13.056599617004395, -13.056599617004395, -13.056500434875488, -13.056599617004395, -13.056599617004395, -13.056500434875488, -13.056599617004395, -13.056599617004395, -13.056599617004395, -13.056500434875488, -13.056599617004395, -13.056599617004395, -13.056699752807617, -13.056699752807617, -13.056599617004395, -13.056699752807617, -13.056599617004395, -13.05620002746582, -13.056599617004395, -13.056500434875488, -13.056599617004395, -13.056400299072266, -13.056500434875488, -13.056400299072266, -13.056500434875488, -13.056599617004395, -13.056500434875488, -13.056500434875488, -13.056300163269043, -13.056599617004395, -13.056500434875488, -13.056599617004395, -1.0875999927520752, -1.347599983215332, -1.5550999641418457, -2.3824000358581543, -13.071200370788574, -13.071599960327148, -13.071700096130371, -13.071399688720703, -13.071700096130371, -13.071599960327148, -13.071900367736816, -13.071800231933594, -13.071900367736816, -13.071999549865723, -13.071900367736816, -13.071999549865723, -13.071999549865723, -13.071900367736816, -13.072099685668945, -13.072099685668945, -13.072099685668945, -13.071999549865723, -13.072099685668945, -13.072099685668945, -13.072099685668945, -13.072099685668945, -13.072099685668945, -13.072099685668945, -13.071700096130371, -13.072099685668945, -13.070599555969238, -13.071800231933594, -13.071900367736816, -13.071800231933594, -13.071499824523926, -13.071900367736816, -13.071800231933594, -13.071999549865723, -13.071999549865723, -13.071999549865723, -13.071999549865723, -13.071999549865723, -0.3537999987602234, -1.8163000345230103, -12.764100074768066, -12.764900207519531, -12.765299797058105, -12.765299797058105, -12.765199661254883, -12.765399932861328, -12.76509952545166, -12.765399932861328, -12.76550006866455, -12.76550006866455, -12.76550006866455, -12.76550006866455, -12.765299797058105, -12.765399932861328, -12.765600204467773, -12.76550006866455, -12.765399932861328, -12.76550006866455, -12.76550006866455, -12.76550006866455, -12.76550006866455, -12.76550006866455, -12.76550006866455, -12.76550006866455, -12.76550006866455, -12.76550006866455, -12.765600204467773, -12.765399932861328, -12.765399932861328, -12.76550006866455, -12.765399932861328, -12.765399932861328, -12.76550006866455, -12.765399932861328, -12.765399932861328, -12.76550006866455, -12.765399932861328, -12.76550006866455, -12.765399932861328, -12.765399932861328, -12.765299797058105, -12.76550006866455, -12.765399932861328, -12.765399932861328, -12.76550006866455, -0.304500013589859, -2.4439001083374023, -12.503800392150879, -12.50409984588623, -12.504199981689453, -12.504300117492676, -12.504300117492676, -12.504300117492676, -12.504400253295898, -12.504500389099121, -12.504500389099121, -12.504500389099121, -12.504500389099121, -12.504300117492676, -12.504400253295898, -12.504300117492676, -12.504500389099121, -12.504500389099121, -12.504599571228027, -12.504500389099121, -12.504500389099121, -12.504400253295898, -12.504500389099121, -12.504599571228027, -12.504599571228027, -12.504599571228027, -12.504599571228027, -12.504599571228027, -12.504500389099121, -12.504599571228027, -12.504400253295898, -12.504400253295898, -12.504300117492676, -12.504300117492676, -12.504400253295898, -12.504500389099121, -12.504300117492676, -12.504500389099121, -12.504199981689453, -12.504500389099121, -12.504500389099121, -1.7094999551773071, -1.818600058555603, -2.227099895477295, -11.36460018157959, -11.36460018157959, -11.36460018157959, -11.364999771118164, -11.364999771118164, -11.365099906921387, -11.365099906921387, -11.365099906921387, -11.364999771118164, -11.365300178527832, -11.364999771118164, -11.365300178527832, -11.365300178527832, -11.365300178527832, -11.365300178527832, -11.365300178527832, -11.365300178527832, -11.365300178527832, -11.365099906921387, -11.365300178527832, -11.365400314331055, -11.365400314331055, -11.365300178527832, -11.365400314331055, -11.365300178527832, -11.365300178527832, -11.365400314331055, -11.36520004272461, -11.365099906921387, -11.36520004272461, -11.365099906921387, -11.365300178527832, -11.365300178527832], \"loglift\": [30.0, 29.0, 28.0, 27.0, 26.0, 25.0, 24.0, 23.0, 22.0, 21.0, 20.0, 19.0, 18.0, 17.0, 16.0, 15.0, 14.0, 13.0, 12.0, 11.0, 10.0, 9.0, 8.0, 7.0, 6.0, 5.0, 4.0, 3.0, 2.0, 1.0, 2.2014000415802, 2.2014000415802, 2.2014000415802, 2.2014000415802, 2.2014000415802, 2.2014000415802, 2.2014000415802, 2.2012999057769775, 2.2012999057769775, 2.2012999057769775, 2.201200008392334, 2.2011001110076904, 2.200900077819824, 2.2007999420166016, 2.2005999088287354, 2.2004001140594482, 2.2002999782562256, 2.200200080871582, 2.2000999450683594, 2.1989998817443848, -0.8966000080108643, -0.8981000185012817, -0.8982999920845032, -0.8982999920845032, -0.8984000086784363, -0.8984000086784363, -0.8984000086784363, -0.8985000252723694, -0.8985000252723694, -0.8985000252723694, -0.8986999988555908, 2.2293999195098877, 2.2293999195098877, 2.2293999195098877, 2.2293999195098877, 2.229300022125244, 2.229300022125244, 2.229300022125244, 2.2291998863220215, 2.229099988937378, 2.2290000915527344, 2.2290000915527344, 2.2288999557495117, 2.2284998893737793, 2.2274999618530273, -0.699400007724762, -0.6995000243186951, -0.7005000114440918, -0.7005000114440918, -0.7006000280380249, -0.7006000280380249, -0.7006000280380249, -0.7008000016212463, -0.7008000016212463, -0.7008000016212463, -0.7008000016212463, -0.7009000182151794, -0.7009000182151794, -0.7009000182151794, -0.7009999752044678, -0.7009999752044678, -0.7009999752044678, -0.7010999917984009, 2.291300058364868, 2.2911999225616455, 2.2911999225616455, 2.291100025177002, 2.291100025177002, 2.291100025177002, 2.2909998893737793, 2.2904000282287598, 2.290299892425537, -0.6636000275611877, -0.6650000214576721, -0.6651999950408936, -0.6653000116348267, -0.6653000116348267, -0.6653000116348267, -0.6653000116348267, -0.6654000282287598, -0.6654000282287598, -0.6654000282287598, -0.6654999852180481, -0.6654999852180481, -0.6656000018119812, -0.6656000018119812, -0.6656000018119812, -0.6656000018119812, -0.6656000018119812, -0.6657000184059143, -0.6657000184059143, -0.6657000184059143, -0.6657000184059143, -0.6657000184059143, -0.6657000184059143, -0.6657000184059143, 2.6651999950408936, 2.66510009765625, 2.66510009765625, 2.6649999618530273, 2.6649999618530273, 2.6649999618530273, 2.6649999618530273, 2.6649999618530273, 2.6647000312805176, 2.6644999980926514, 2.661600112915039, -0.23149999976158142, -0.23190000653266907, -0.23199999332427979, -0.23199999332427979, -0.23199999332427979, -0.2320999950170517, -0.2320999950170517, -0.2320999950170517, -0.2320999950170517, -0.2320999950170517, -0.2320999950170517, -0.2320999950170517, -0.2321999967098236, -0.2321999967098236, -0.2321999967098236, -0.2321999967098236, -0.2321999967098236, -0.2321999967098236, -0.2321999967098236, -0.2321999967098236, -0.2321999967098236, -0.23229999840259552, -0.23229999840259552, -0.23229999840259552, -0.2321999967098236, 2.694999933242798, 2.6949000358581543, 2.6949000358581543, 2.6949000358581543, 2.6949000358581543, 2.6949000358581543, 2.6949000358581543, 2.694499969482422, 2.694200038909912, 2.694200038909912, 2.694000005722046, 2.693700075149536, 2.693700075149536, 2.6935999393463135, 2.69320011138916, -0.23970000445842743, -0.23999999463558197, -0.23999999463558197, -0.23999999463558197, -0.23999999463558197, -0.23999999463558197, -0.23999999463558197, -0.24009999632835388, -0.24009999632835388, -0.2401999980211258, -0.2401999980211258, -0.2401999980211258, -0.2401999980211258, -0.2401999980211258, -0.2401999980211258, -0.2401999980211258, -0.2401999980211258, -0.2401999980211258, -0.2402999997138977, -0.2402999997138977, -0.2402999997138977, -0.24050000309944153, 2.7811999320983887, 2.7811999320983887, 2.7811999320983887, 2.781100034713745, 2.7809998989105225, 2.7809998989105225, 2.7808001041412354, 2.780400037765503, 2.780400037765503, 2.7802000045776367, -0.1006999984383583, -0.10100000351667404, -0.10130000114440918, -0.10130000114440918, -0.10140000283718109, -0.10140000283718109, -0.1014999970793724, -0.1014999970793724, -0.1014999970793724, -0.1014999970793724, -0.10159999877214432, -0.10159999877214432, -0.10159999877214432, -0.10159999877214432, -0.10159999877214432, -0.10159999877214432, -0.10159999877214432, -0.10159999877214432, -0.10159999877214432, -0.10159999877214432, -0.10170000046491623, -0.10170000046491623, -0.10159999877214432, -0.10180000215768814, -0.10170000046491623, -0.10170000046491623, -0.10189999639987946, 2.8534998893737793, 2.8534998893737793, 2.8533999919891357, 2.8533999919891357, 2.853300094604492, 2.8531999588012695, 2.853100061416626, 2.8529000282287598, 2.852799892425537, 2.8526999950408936, 2.8522000312805176, 2.8510000705718994, -0.09780000150203705, -0.09799999743700027, -0.09799999743700027, -0.09799999743700027, -0.09799999743700027, -0.09809999912977219, -0.09809999912977219, -0.09809999912977219, -0.09809999912977219, -0.09809999912977219, -0.09809999912977219, -0.09809999912977219, -0.09809999912977219, -0.09809999912977219, -0.09809999912977219, -0.09809999912977219, -0.09809999912977219, -0.09809999912977219, -0.09809999912977219, -0.09809999912977219, -0.0982000008225441, -0.0982000008225441, -0.0982000008225441, -0.09830000251531601, -0.0982000008225441, -0.09830000251531601, -0.09849999845027924, -0.09830000251531601, 2.972899913787842, 2.9727001190185547, 2.9727001190185547, 2.9725000858306885, 2.9725000858306885, 2.9725000858306885, 2.972399950027466, 2.9723000526428223, 2.9723000526428223, 2.972100019454956, 2.972100019454956, 2.9719998836517334, 2.971100091934204, 2.9709999561309814, 2.9665000438690186, -0.1348000019788742, -0.1348000019788742, -0.13490000367164612, -0.13500000536441803, -0.13500000536441803, -0.13500000536441803, -0.13500000536441803, -0.13500000536441803, -0.13510000705718994, -0.13510000705718994, -0.13510000705718994, -0.13510000705718994, -0.13510000705718994, -0.13510000705718994, -0.13510000705718994, -0.13510000705718994, -0.13510000705718994, -0.13510000705718994, -0.13529999554157257, -0.13510000705718994, -0.13570000231266022, -0.1354999989271164, -0.13539999723434448, -0.13519999384880066, -0.13519999384880066, -0.13519999384880066, -0.1354999989271164, 3.008699893951416, 3.0085999965667725, 3.0085999965667725, 3.008500099182129, 3.008500099182129, 3.0083000659942627, 3.0076000690460205, 3.0071001052856445, 0.026900000870227814, 0.026799999177455902, 0.02669999934732914, 0.02669999934732914, 0.026599999517202377, 0.026599999517202377, 0.026499999687075615, 0.026499999687075615, 0.026499999687075615, 0.026499999687075615, 0.026499999687075615, 0.026499999687075615, 0.026499999687075615, 0.026499999687075615, 0.026499999687075615, 0.026499999687075615, 0.026499999687075615, 0.026499999687075615, 0.026499999687075615, 0.026499999687075615, 0.026399999856948853, 0.026399999856948853, 0.026399999856948853, 0.026399999856948853, 0.026399999856948853, 0.025699999183416367, 0.026100000366568565, 0.026000000536441803, 0.02590000070631504, 0.02630000002682209, 0.026200000196695328, 0.02630000002682209, 3.072200059890747, 3.072200059890747, 3.072200059890747, 3.072200059890747, 3.0720999240875244, 3.0720999240875244, 3.072000026702881, 3.0717999935150146, 3.0713000297546387, 3.0699000358581543, 0.19009999930858612, 0.1899999976158142, 0.1898999959230423, 0.1898999959230423, 0.1898999959230423, 0.1898999959230423, 0.1898999959230423, 0.1898999959230423, 0.18979999423027039, 0.18979999423027039, 0.18979999423027039, 0.18979999423027039, 0.18979999423027039, 0.18979999423027039, 0.18979999423027039, 0.18979999423027039, 0.18979999423027039, 0.18979999423027039, 0.18979999423027039, 0.18979999423027039, 0.18979999423027039, 0.18979999423027039, 0.18979999423027039, 0.18970000743865967, 0.1891999989748001, 0.18960000574588776, 0.18950000405311584, 0.18940000236034393, 0.18940000236034393, 0.18930000066757202, 0.18960000574588776, 3.117500066757202, 3.1173999309539795, 3.1173999309539795, 3.1173999309539795, 3.117000102996826, 3.1168999671936035, 3.11680006980896, 3.1159000396728516, 3.103600025177002, 0.3172000050544739, 0.3167000114917755, 0.3167000114917755, 0.3165999948978424, 0.3165999948978424, 0.3165000081062317, 0.3165000081062317, 0.3165000081062317, 0.3165000081062317, 0.3165000081062317, 0.3165000081062317, 0.3165000081062317, 0.3165000081062317, 0.3165000081062317, 0.3165000081062317, 0.3163999915122986, 0.3163999915122986, 0.3163999915122986, 0.3163999915122986, 0.3163999915122986, 0.3163999915122986, 0.3163999915122986, 0.3163999915122986, 0.3163999915122986, 0.31630000472068787, 0.31630000472068787, 0.31529998779296875, 0.31619998812675476, 0.31619998812675476, 0.3163999915122986, 0.3160000145435333, 0.3158999979496002, 0.3160000145435333, 0.31619998812675476, 3.2330000400543213, 3.2328999042510986, 3.2328999042510986, 3.2328999042510986, 3.232599973678589, 3.2320001125335693, 3.2318999767303467, 3.2295000553131104, 0.3224000036716461, 0.3222000002861023, 0.32179999351501465, 0.321399986743927, 0.321399986743927, 0.3212999999523163, 0.32120001316070557, 0.32109999656677246, 0.32109999656677246, 0.32109999656677246, 0.32100000977516174, 0.32100000977516174, 0.32100000977516174, 0.32100000977516174, 0.32100000977516174, 0.32100000977516174, 0.32089999318122864, 0.32089999318122864, 0.32089999318122864, 0.32089999318122864, 0.32089999318122864, 0.32089999318122864, 0.32089999318122864, 0.3208000063896179, 0.32089999318122864, 0.32089999318122864, 0.32089999318122864, 0.3206999897956848, 0.32089999318122864, 0.3208000063896179, 0.3199999928474426, 0.3208000063896179, 0.3206000030040741, 3.2486000061035156, 3.2486000061035156, 3.2486000061035156, 3.248500108718872, 3.248500108718872, 3.248500108718872, 3.248300075531006, 3.248300075531006, 3.248300075531006, 3.2481000423431396, 3.2479000091552734, 3.2476000785827637, 3.2469000816345215, 0.22920000553131104, 0.22920000553131104, 0.22920000553131104, 0.22910000383853912, 0.22910000383853912, 0.22910000383853912, 0.22910000383853912, 0.22910000383853912, 0.22910000383853912, 0.22910000383853912, 0.22910000383853912, 0.22910000383853912, 0.22910000383853912, 0.22910000383853912, 0.2290000021457672, 0.2290000021457672, 0.2290000021457672, 0.2290000021457672, 0.2290000021457672, 0.2290000021457672, 0.2290000021457672, 0.2287999987602234, 0.2290000021457672, 0.2287999987602234, 0.2289000004529953, 0.2290000021457672, 0.2287999987602234, 0.22859999537467957, 0.2287999987602234, 0.2287999987602234, 0.22869999706745148, 0.22849999368190765, 3.359299898147583, 3.359299898147583, 3.359100103378296, 3.3587000370025635, 3.358599901199341, 3.3584001064300537, 3.3584001064300537, 3.3578999042510986, 3.356300115585327, 0.40059998631477356, 0.40049999952316284, 0.4004000127315521, 0.400299996137619, 0.400299996137619, 0.400299996137619, 0.4002000093460083, 0.4002000093460083, 0.4002000093460083, 0.4002000093460083, 0.4002000093460083, 0.4002000093460083, 0.4002000093460083, 0.4002000093460083, 0.4002000093460083, 0.4002000093460083, 0.4002000093460083, 0.4002000093460083, 0.4002000093460083, 0.4002000093460083, 0.4002000093460083, 0.4002000093460083, 0.4000999927520752, 0.4002000093460083, 0.4000999927520752, 0.39989998936653137, 0.399399995803833, 0.4000999927520752, 0.4000000059604645, 0.4000999927520752, 0.39989998936653137, 0.39989998936653137, 0.4000000059604645, 0.39989998936653137, 0.3995000123977661, 0.39989998936653137, 0.39969998598098755, 0.39980000257492065, 3.489300012588501, 3.489300012588501, 3.489300012588501, 3.4892001152038574, 3.4883999824523926, 3.4881999492645264, 3.488100051879883, 3.4879000186920166, 3.487799882888794, 3.4862000942230225, 0.5486000180244446, 0.5479999780654907, 0.5479000210762024, 0.5479000210762024, 0.5479000210762024, 0.5479000210762024, 0.5479000210762024, 0.5479000210762024, 0.5479000210762024, 0.5479000210762024, 0.5479000210762024, 0.5478000044822693, 0.5478000044822693, 0.5478000044822693, 0.5478000044822693, 0.5478000044822693, 0.5478000044822693, 0.5478000044822693, 0.5478000044822693, 0.5478000044822693, 0.5478000044822693, 0.5478000044822693, 0.5475999712944031, 0.5472000241279602, 0.5476999878883362, 0.5476999878883362, 0.5473999977111816, 0.5473999977111816, 0.5473999977111816, 0.5475000143051147, 0.5473999977111816, 3.501699924468994, 3.5016000270843506, 3.501300096511841, 3.5011000633239746, 3.500699996948242, 3.4986000061035156, 0.557200014591217, 0.5569999814033508, 0.5568000078201294, 0.5568000078201294, 0.5568000078201294, 0.5568000078201294, 0.5568000078201294, 0.5568000078201294, 0.5568000078201294, 0.5566999912261963, 0.5566999912261963, 0.5566999912261963, 0.5566999912261963, 0.5566999912261963, 0.5566999912261963, 0.5566999912261963, 0.5566999912261963, 0.5566999912261963, 0.5566999912261963, 0.5566999912261963, 0.5566999912261963, 0.5566999912261963, 0.5566999912261963, 0.5566999912261963, 0.5566999912261963, 0.5565999746322632, 0.5566999912261963, 0.5565999746322632, 0.5565999746322632, 0.5565000176429749, 0.5565999746322632, 0.5565000176429749, 0.5565999746322632, 0.5565999746322632, 0.5562999844551086, 0.5562000274658203, 0.5551999807357788, 0.5565000176429749, 0.5564000010490417, 0.555899977684021, 3.6463000774383545, 3.646199941635132, 3.646199941635132, 3.645900011062622, 0.5418999791145325, 0.5415999889373779, 0.5414999723434448, 0.5414999723434448, 0.5414999723434448, 0.5414000153541565, 0.5414000153541565, 0.5414000153541565, 0.5414000153541565, 0.5412999987602234, 0.5412999987602234, 0.5412999987602234, 0.5412999987602234, 0.5412999987602234, 0.5412999987602234, 0.5412999987602234, 0.5412999987602234, 0.5412999987602234, 0.5412999987602234, 0.5411999821662903, 0.5411999821662903, 0.5411999821662903, 0.5411999821662903, 0.5411999821662903, 0.5411999821662903, 0.5411999821662903, 0.5410000085830688, 0.541100025177002, 0.541100025177002, 0.541100025177002, 0.5408999919891357, 0.541100025177002, 0.5408999919891357, 0.541100025177002, 0.541100025177002, 0.5407999753952026, 0.5410000085830688, 0.5406000018119812, 4.105400085449219, 4.105100154876709, 0.8485999703407288, 0.8479999899864197, 0.8479999899864197, 0.8479999899864197, 0.8478999733924866, 0.8478999733924866, 0.8478999733924866, 0.8478999733924866, 0.8478000164031982, 0.8478000164031982, 0.8478000164031982, 0.8478000164031982, 0.8478000164031982, 0.8478000164031982, 0.8478000164031982, 0.8478000164031982, 0.8478000164031982, 0.8478000164031982, 0.8478000164031982, 0.8478000164031982, 0.8478000164031982, 0.8478000164031982, 0.8478000164031982, 0.8478000164031982, 0.8478000164031982, 0.8478000164031982, 0.8478000164031982, 0.8478000164031982, 0.8478000164031982, 0.8476999998092651, 0.8476999998092651, 0.8476999998092651, 0.8476999998092651, 0.847599983215332, 0.847599983215332, 0.8476999998092651, 0.8475000262260437, 0.8476999998092651, 0.8475000262260437, 0.8474000096321106, 0.8471999764442444, 0.8475000262260437, 0.847000002861023, 0.8460999727249146, 0.8472999930381775, 4.392000198364258, 4.390999794006348, 1.1093000173568726, 1.1090999841690063, 1.1089999675750732, 1.1089999675750732, 1.1089999675750732, 1.1088999509811401, 1.1088999509811401, 1.1088000535964966, 1.1088000535964966, 1.1088000535964966, 1.1088000535964966, 1.1088000535964966, 1.1088000535964966, 1.1088000535964966, 1.1088000535964966, 1.1088000535964966, 1.1087000370025635, 1.1087000370025635, 1.1087000370025635, 1.1087000370025635, 1.1087000370025635, 1.1087000370025635, 1.1087000370025635, 1.1087000370025635, 1.1087000370025635, 1.1087000370025635, 1.1087000370025635, 1.1087000370025635, 1.1087000370025635, 1.1086000204086304, 1.1086000204086304, 1.1086000204086304, 1.1086000204086304, 1.1086000204086304, 1.1081000566482544, 1.1083999872207642, 1.107300043106079, 1.1086000204086304, 1.108299970626831, 5.463799953460693, 5.463600158691406, 5.462699890136719, 2.2486000061035156, 2.2483999729156494, 2.2483999729156494, 2.248300075531006, 2.248300075531006, 2.248199939727783, 2.248199939727783, 2.248199939727783, 2.2481000423431396, 2.2481000423431396, 2.247999906539917, 2.247999906539917, 2.247999906539917, 2.247999906539917, 2.247999906539917, 2.247999906539917, 2.247999906539917, 2.247999906539917, 2.247999906539917, 2.247999906539917, 2.247999906539917, 2.247999906539917, 2.247999906539917, 2.247999906539917, 2.247999906539917, 2.2479000091552734, 2.2479000091552734, 2.2479000091552734, 2.2479000091552734, 2.2479000091552734, 2.2474000453948975, 2.2479000091552734, 2.2476999759674072]}, \"token.table\": {\"Topic\": [2, 8, 1, 13, 8, 6, 16, 10, 5, 12, 8, 5, 2, 4, 1, 8, 4, 15, 6, 6, 8, 5, 4, 7, 1, 7, 5, 18, 19, 2, 13, 13, 4, 9, 7, 8, 15, 11, 13, 15, 1, 12, 1, 1, 10, 3, 9, 8, 5, 10, 5, 14, 8, 8, 1, 14, 2, 10, 5, 3, 2, 4, 10, 9, 6, 15, 8, 1, 13, 1, 6, 3, 20, 7, 13, 3, 9, 12, 15, 11, 15, 2, 13, 12, 11, 8, 7, 6, 15, 14, 12, 10, 9, 16, 5, 7, 1, 1, 9, 20, 7, 1, 10, 2, 14, 1, 19, 13, 8, 4, 7, 12, 2, 13, 6, 14, 16, 11, 3, 7, 2, 17, 5, 5, 6, 3, 4, 10, 11, 1, 16, 4, 12, 5, 2, 12, 2, 11, 15, 13, 1, 14, 4, 6, 11, 17, 1, 1, 10, 3, 7, 10, 2, 2, 17, 3, 4, 17, 15, 6, 7, 14, 18, 11, 1, 1, 2, 8, 7, 3, 14, 13, 8, 5, 9, 15, 14, 20, 16, 5, 4, 11, 8, 1, 16, 13, 13, 5, 5, 9], \"Freq\": [0.9997966885566711, 0.9994127750396729, 0.9998310804367065, 0.999684751033783, 0.9993189573287964, 0.9997910857200623, 0.9993504285812378, 0.999385416507721, 0.9985961318016052, 0.9997891783714294, 0.9982445240020752, 0.99982750415802, 0.999861478805542, 0.9994180798530579, 0.9999425411224365, 0.9999423623085022, 0.9998790621757507, 0.9997827410697937, 0.9999114871025085, 0.9997209906578064, 0.999685525894165, 0.9980326294898987, 0.999279797077179, 0.9997237920761108, 0.9998518228530884, 0.9999399781227112, 0.9998144507408142, 0.9995347261428833, 0.9998823404312134, 0.9999483227729797, 0.9987869262695312, 0.9995411038398743, 0.9997238516807556, 0.9998518228530884, 0.9990124106407166, 0.9995862245559692, 0.9984590411186218, 0.9998040199279785, 0.9996851682662964, 0.9985802173614502, 0.99989253282547, 0.9999125599861145, 0.9972047805786133, 0.9992852807044983, 0.999849259853363, 0.9999275803565979, 0.9989098310470581, 0.9996870756149292, 0.9986770153045654, 0.9996627569198608, 0.9999135732650757, 0.9991059899330139, 0.9993904232978821, 0.9940176606178284, 0.9997955560684204, 0.9998544454574585, 0.9995859861373901, 0.9998096823692322, 0.9997965693473816, 0.9999526143074036, 0.9997627139091492, 0.9999314546585083, 0.9998289346694946, 0.9996002912521362, 0.998973548412323, 0.9997202157974243, 0.9990810751914978, 0.9989545345306396, 0.9997508525848389, 0.9998485445976257, 0.9999061226844788, 0.9991994500160217, 0.9985319972038269, 0.9995461702346802, 0.999738335609436, 0.99979567527771, 0.9999154210090637, 0.9988199472427368, 0.9997808337211609, 0.9999155402183533, 0.9987370371818542, 0.9988752007484436, 0.999653160572052, 0.996720016002655, 0.9866591095924377, 0.9990882873535156, 0.9993184804916382, 0.9989869594573975, 0.9987940788269043, 0.9967557191848755, 0.998765766620636, 0.9997640252113342, 0.9998671412467957, 0.9990001916885376, 0.9990496635437012, 0.9998507499694824, 0.9990225434303284, 0.9998732805252075, 0.9985238313674927, 0.997144877910614, 0.9984131455421448, 0.9998573064804077, 0.9996949434280396, 0.9999517202377319, 0.9989196062088013, 0.9985935091972351, 0.9989277720451355, 0.9997467398643494, 0.9995124340057373, 0.9998774528503418, 0.9995521903038025, 0.9998062252998352, 0.9999125599861145, 0.9994226098060608, 0.9997231960296631, 0.9989592432975769, 0.996559739112854, 0.9993757605552673, 0.9997593760490417, 0.9997684955596924, 0.9998806715011597, 0.9998072981834412, 0.9989405274391174, 0.999127209186554, 0.9999366402626038, 0.99996417760849, 0.9997124671936035, 0.9974804520606995, 0.9992203116416931, 0.9995145797729492, 0.9995511770248413, 0.9997506141662598, 0.9995085000991821, 0.9994921088218689, 0.9994790554046631, 0.9998286366462708, 0.9994149208068848, 0.9998277425765991, 0.9983142614364624, 0.9991857409477234, 0.9986522793769836, 0.9998992085456848, 0.9964354038238525, 0.9990783333778381, 0.9985074996948242, 0.999880850315094, 0.9997929930686951, 0.9990602135658264, 0.998818576335907, 0.9998220801353455, 0.999769926071167, 0.9998574256896973, 0.9978774785995483, 0.9996382594108582, 0.9994595050811768, 0.9998109340667725, 0.9998265504837036, 0.9997847676277161, 0.99715656042099, 0.9995726943016052, 0.9974771738052368, 0.9984283447265625, 0.9999088644981384, 0.9993090033531189, 0.9998628497123718, 0.9994416832923889, 0.9998074173927307, 0.9990686774253845, 0.9991908073425293, 0.9991441965103149, 0.9993433356285095, 0.9994605779647827, 0.997933030128479, 0.9987639784812927, 0.9997889995574951, 0.9998550415039062, 0.9997326731681824, 0.998359203338623, 0.9998260140419006, 0.9998844861984253, 0.9997778534889221, 0.9998556971549988, 0.9995211958885193, 0.9996156692504883, 0.9999334216117859, 0.999300479888916, 0.9982484579086304, 0.9998252391815186, 0.9997991919517517, 0.9997503757476807], \"Term\": [\"aboriginal\", \"access\", \"accuse\", \"act\", \"affect\", \"ahead\", \"aid\", \"air\", \"alcohol\", \"allege\", \"ambulance\", \"announce\", \"arrest\", \"arrive\", \"attack\", \"australian\", \"back\", \"become\", \"big\", \"boost\", \"break\", \"bridge\", \"british\", \"build\", \"business\", \"call\", \"case\", \"celebrate\", \"change\", \"charge\", \"chemical\", \"clean\", \"come\", \"community\", \"confidence\", \"consider\", \"contest\", \"continue\", \"cost\", \"councillor\", \"court\", \"crash\", \"critic\", \"crop\", \"cut\", \"death\", \"decide\", \"decision\", \"defeat\", \"demand\", \"die\", \"dismiss\", \"double\", \"down\", \"drug\", \"end\", \"expect\", \"fail\", \"final\", \"find\", \"fine\", \"fire\", \"force\", \"fraud\", \"fuel\", \"fund\", \"gain\", \"german\", \"girl\", \"give\", \"go\", \"gold_coast\", \"growth\", \"hand\", \"head\", \"hear\", \"help\", \"highway\", \"hold\", \"home\", \"independent\", \"infrastructure\", \"injure\", \"injured\", \"inspection\", \"insurance\", \"interest\", \"introduce\", \"iraqi\", \"irrigator\", \"israeli\", \"issue\", \"jail\", \"jump\", \"korean\", \"lead\", \"leadership\", \"leave\", \"licence\", \"lift\", \"livestock\", \"lose\", \"low\", \"man\", \"management\", \"massive\", \"match\", \"meet\", \"meeting\", \"miss\", \"month\", \"move\", \"murder\", \"must\", \"national\", \"near\", \"net\", \"northern\", \"offer\", \"old\", \"open\", \"pay\", \"pc\", \"phone\", \"plan\", \"police\", \"policy\", \"position\", \"predict\", \"prepare\", \"profit\", \"project\", \"protect\", \"protester\", \"pull\", \"push\", \"raid\", \"rate\", \"rebuild\", \"recover\", \"regulation\", \"report\", \"rest\", \"restore\", \"restriction\", \"rise\", \"risk\", \"seat\", \"secure\", \"see\", \"seek\", \"service\", \"smoke\", \"soldier\", \"staff\", \"station\", \"still\", \"strike\", \"summit\", \"supply\", \"surprise\", \"survey\", \"take\", \"tas\", \"tell\", \"terrorist\", \"threat\", \"tie\", \"toddler\", \"toll\", \"troop\", \"try\", \"unlikely\", \"upgrade\", \"urge\", \"victim\", \"vote\", \"wage\", \"war\", \"warn\", \"waste\", \"water\", \"welcome\", \"western\", \"win\", \"witness\", \"woe\", \"work\", \"young\", \"youth\"]}, \"R\": 30, \"lambda.step\": 0.01, \"plot.opts\": {\"xlab\": \"PC1\", \"ylab\": \"PC2\"}, \"topic.order\": [1, 2, 9, 6, 5, 20, 18, 4, 12, 17, 11, 19, 16, 13, 3, 8, 14, 10, 15, 7]};\n",
       "\n",
       "function LDAvis_load_lib(url, callback){\n",
       "  var s = document.createElement('script');\n",
       "  s.src = url;\n",
       "  s.async = true;\n",
       "  s.onreadystatechange = s.onload = callback;\n",
       "  s.onerror = function(){console.warn(\"failed to load library \" + url);};\n",
       "  document.getElementsByTagName(\"head\")[0].appendChild(s);\n",
       "}\n",
       "\n",
       "if(typeof(LDAvis) !== \"undefined\"){\n",
       "   // already loaded: just create the visualization\n",
       "   !function(LDAvis){\n",
       "       new LDAvis(\"#\" + \"ldavis_el1434022737224964569196047356\", ldavis_el1434022737224964569196047356_data);\n",
       "   }(LDAvis);\n",
       "}else if(typeof define === \"function\" && define.amd){\n",
       "   // require.js is available: use it to load d3/LDAvis\n",
       "   require.config({paths: {d3: \"https://cdnjs.cloudflare.com/ajax/libs/d3/3.5.5/d3.min\"}});\n",
       "   require([\"d3\"], function(d3){\n",
       "      window.d3 = d3;\n",
       "      LDAvis_load_lib(\"https://cdn.rawgit.com/bmabey/pyLDAvis/files/ldavis.v1.0.0.js\", function(){\n",
       "        new LDAvis(\"#\" + \"ldavis_el1434022737224964569196047356\", ldavis_el1434022737224964569196047356_data);\n",
       "      });\n",
       "    });\n",
       "}else{\n",
       "    // require.js not available: dynamically load d3 & LDAvis\n",
       "    LDAvis_load_lib(\"https://cdnjs.cloudflare.com/ajax/libs/d3/3.5.5/d3.min.js\", function(){\n",
       "         LDAvis_load_lib(\"https://cdn.rawgit.com/bmabey/pyLDAvis/files/ldavis.v1.0.0.js\", function(){\n",
       "                 new LDAvis(\"#\" + \"ldavis_el1434022737224964569196047356\", ldavis_el1434022737224964569196047356_data);\n",
       "            })\n",
       "         });\n",
       "}\n",
       "</script>"
      ],
      "text/plain": [
       "PreparedData(topic_coordinates=              x         y  topics  cluster       Freq\n",
       "topic                                                \n",
       "0     -0.242668  0.378928       1        1  11.063669\n",
       "1     -0.197928 -0.231857       2        1  10.758386\n",
       "8     -0.190446 -0.170364       3        1  10.113615\n",
       "5     -0.082913 -0.017052       4        1   6.958416\n",
       "4     -0.084271 -0.017524       5        1   6.753817\n",
       "19    -0.050889 -0.008133       6        1   6.195823\n",
       "17    -0.049755 -0.007867       7        1   5.763697\n",
       "3     -0.058366 -0.009870       8        1   5.115157\n",
       "11    -0.020331 -0.002274       9        1   4.935418\n",
       "16     0.017677  0.002896      10        1   4.631126\n",
       "10     0.045058  0.005622      11        1   4.426466\n",
       "18     0.045917  0.005694      12        1   3.943594\n",
       "15     0.026771  0.003896      13        1   3.881978\n",
       "12     0.062306  0.007040      14        1   3.475614\n",
       "2      0.090602  0.008950      15        1   3.051699\n",
       "7      0.091852  0.009009      16        1   3.014275\n",
       "13     0.088889  0.008827      17        1   2.608514\n",
       "9      0.137700  0.011159      18        1   1.648174\n",
       "14     0.167907  0.011996      19        1   1.237465\n",
       "6      0.202889  0.010925      20        1   0.423101, topic_info=           Term           Freq          Total Category  logprob  loglift\n",
       "194      police  114356.000000  114356.000000  Default  30.0000  30.0000\n",
       "19   australian   73607.000000   73607.000000  Default  29.0000  29.0000\n",
       "10         call   67806.000000   67806.000000  Default  28.0000  28.0000\n",
       "224         man   84838.000000   84838.000000  Default  27.0000  27.0000\n",
       "24          win   52110.000000   52110.000000  Default  26.0000  26.0000\n",
       "..          ...            ...            ...      ...      ...      ...\n",
       "339        show       0.167325       4.177090  Topic20 -11.3651   2.2479\n",
       "440    industry       0.167305       4.176499  Topic20 -11.3652   2.2479\n",
       "301         new       0.167323       4.178944  Topic20 -11.3651   2.2474\n",
       "834    increase       0.167284       4.176185  Topic20 -11.3653   2.2479\n",
       "771       fight       0.167285       4.176765  Topic20 -11.3653   2.2477\n",
       "\n",
       "[828 rows x 6 columns], token_table=      Topic      Freq        Term\n",
       "term                             \n",
       "251       2  0.999797  aboriginal\n",
       "199       8  0.999413      access\n",
       "177       1  0.999831      accuse\n",
       "4        13  0.999685         act\n",
       "18        8  0.999319      affect\n",
       "...     ...       ...         ...\n",
       "9        13  0.999300     witness\n",
       "270      13  0.998248         woe\n",
       "172       5  0.999825        work\n",
       "278       5  0.999799       young\n",
       "96        9  0.999750       youth\n",
       "\n",
       "[190 rows x 3 columns], R=30, lambda_step=0.01, plot_opts={'xlab': 'PC1', 'ylab': 'PC2'}, topic_order=[1, 2, 9, 6, 5, 20, 18, 4, 12, 17, 11, 19, 16, 13, 3, 8, 14, 10, 15, 7])"
      ]
     },
     "execution_count": 17,
     "metadata": {},
     "output_type": "execute_result"
    }
   ],
   "source": [
    "# Visualize the topics\n",
    "pyLDAvis.enable_notebook()\n",
    "vis = pyLDAvis.gensim.prepare(lda_model, corpus, id2word)\n",
    "vis"
   ]
  }
 ],
 "metadata": {
  "kernelspec": {
   "display_name": "gputest",
   "language": "python",
   "name": "gputest"
  },
  "language_info": {
   "codemirror_mode": {
    "name": "ipython",
    "version": 3
   },
   "file_extension": ".py",
   "mimetype": "text/x-python",
   "name": "python",
   "nbconvert_exporter": "python",
   "pygments_lexer": "ipython3",
   "version": "3.7.5"
  }
 },
 "nbformat": 4,
 "nbformat_minor": 2
}
