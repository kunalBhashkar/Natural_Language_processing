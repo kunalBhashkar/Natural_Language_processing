{
 "cells": [
  {
   "cell_type": "markdown",
   "metadata": {},
   "source": [
    "#### Language Translation from English to French "
   ]
  },
  {
   "cell_type": "code",
   "execution_count": 22,
   "metadata": {},
   "outputs": [],
   "source": [
    "#Importing library\n",
    "import numpy as np\n",
    "from keras.models import Model\n",
    "from keras.layers import Input, LSTM, Dense\n",
    "from keras.utils import *\n",
    "from keras.initializers import *\n",
    "import tensorflow as tf\n",
    "import time, random\n",
    "from keras.optimizers import Adam"
   ]
  },
  {
   "cell_type": "code",
   "execution_count": 23,
   "metadata": {},
   "outputs": [],
   "source": [
    "#Hyperparameters\n",
    "batch_size = 64\n",
    "latent_dim = 256\n",
    "num_samples = 10000"
   ]
  },
  {
   "cell_type": "code",
   "execution_count": 24,
   "metadata": {},
   "outputs": [
    {
     "name": "stdout",
     "output_type": "stream",
     "text": [
      "Number of samples: 10000\n",
      "Number of unique input tokens: 71\n",
      "Number of unique output tokens: 93\n",
      "Max sequence length for inputs: 16\n",
      "Max sequence length for outputs: 59\n"
     ]
    }
   ],
   "source": [
    "#Vectorize the data.\n",
    "input_texts = []\n",
    "target_texts = []\n",
    "input_chars = set()\n",
    "target_chars = set()\n",
    "\n",
    "with open('./data/fra.txt', 'r', encoding='utf-8') as f:\n",
    "    lines = f.read().split('\\n')\n",
    "for line in lines[: min(num_samples, len(lines) - 1)]:\n",
    "    input_text, target_text = line.split('\\t')\n",
    "    target_text = '\\t' + target_text + '\\n'\n",
    "    input_texts.append(input_text)\n",
    "    target_texts.append(target_text)\n",
    "    for char in input_text:\n",
    "        if char not in input_chars:\n",
    "            input_chars.add(char)\n",
    "    for char in target_text:\n",
    "        if char not in target_chars:\n",
    "            target_chars.add(char)\n",
    "\n",
    "input_chars = sorted(list(input_chars))\n",
    "target_chars = sorted(list(target_chars))\n",
    "num_encoder_tokens = len(input_chars)\n",
    "num_decoder_tokens = len(target_chars)\n",
    "max_encoder_seq_length = max([len(txt) for txt in input_texts])\n",
    "max_decoder_seq_length = max([len(txt) for txt in target_texts])\n",
    "\n",
    "#Print size\n",
    "print('Number of samples:', len(input_texts))\n",
    "print('Number of unique input tokens:', num_encoder_tokens)\n",
    "print('Number of unique output tokens:', num_decoder_tokens)\n",
    "print('Max sequence length for inputs:', max_encoder_seq_length)\n",
    "print('Max sequence length for outputs:', max_decoder_seq_length)"
   ]
  },
  {
   "cell_type": "code",
   "execution_count": 25,
   "metadata": {},
   "outputs": [],
   "source": [
    "#Define data for encoder and decoder\n",
    "input_token_id = dict([(char, i) for i, char in enumerate(input_chars)])\n",
    "target_token_id = dict([(char, i) for i, char in enumerate(target_chars)])\n",
    "\n",
    "encoder_in_data = np.zeros((len(input_texts), max_encoder_seq_length, num_encoder_tokens), dtype='float32')\n",
    "\n",
    "decoder_in_data = np.zeros((len(input_texts), max_decoder_seq_length, num_decoder_tokens), dtype='float32')\n",
    "\n",
    "decoder_target_data = np.zeros((len(input_texts), max_decoder_seq_length, num_decoder_tokens), dtype='float32')\n",
    "\n",
    "for i, (input_text, target_text) in enumerate(zip(input_texts, target_texts)):\n",
    "    for t, char in enumerate(input_text):\n",
    "        encoder_in_data[i, t, input_token_id[char]] = 1.\n",
    "    for t, char in enumerate(target_text):\n",
    "        decoder_in_data[i, t, target_token_id[char]] = 1.\n",
    "        if t > 0:\n",
    "            decoder_target_data[i, t - 1, target_token_id[char]] = 1."
   ]
  },
  {
   "cell_type": "code",
   "execution_count": 26,
   "metadata": {},
   "outputs": [],
   "source": [
    "#Define and process the input sequence\n",
    "encoder_inputs = Input(shape=(None, num_encoder_tokens))\n",
    "encoder = LSTM(latent_dim, return_state=True)\n",
    "encoder_outputs, state_h, state_c = encoder(encoder_inputs)\n",
    "#We discard `encoder_outputs` and only keep the states.\n",
    "encoder_states = [state_h, state_c]\n",
    "\n",
    "#Using `encoder_states` set up the decoder as initial state.\n",
    "decoder_inputs = Input(shape=(None, num_decoder_tokens))\n",
    "decoder_lstm = LSTM(latent_dim, return_sequences=True, return_state=True)\n",
    "decoder_outputs, _, _ = decoder_lstm(decoder_inputs, initial_state=encoder_states)\n",
    "decoder_dense = Dense(num_decoder_tokens, activation='softmax')\n",
    "decoder_outputs = decoder_dense(decoder_outputs)"
   ]
  },
  {
   "cell_type": "code",
   "execution_count": 27,
   "metadata": {},
   "outputs": [],
   "source": [
    "#Final model\n",
    "model = Model([encoder_inputs, decoder_inputs], decoder_outputs)"
   ]
  },
  {
   "cell_type": "code",
   "execution_count": 28,
   "metadata": {},
   "outputs": [
    {
     "name": "stdout",
     "output_type": "stream",
     "text": [
      "Model: \"model_3\"\n",
      "__________________________________________________________________________________________________\n",
      "Layer (type)                    Output Shape         Param #     Connected to                     \n",
      "==================================================================================================\n",
      "input_5 (InputLayer)            (None, None, 71)     0                                            \n",
      "__________________________________________________________________________________________________\n",
      "input_6 (InputLayer)            (None, None, 93)     0                                            \n",
      "__________________________________________________________________________________________________\n",
      "lstm_5 (LSTM)                   [(None, 256), (None, 335872      input_5[0][0]                    \n",
      "__________________________________________________________________________________________________\n",
      "lstm_6 (LSTM)                   [(None, None, 256),  358400      input_6[0][0]                    \n",
      "                                                                 lstm_5[0][1]                     \n",
      "                                                                 lstm_5[0][2]                     \n",
      "__________________________________________________________________________________________________\n",
      "dense_3 (Dense)                 (None, None, 93)     23901       lstm_6[0][0]                     \n",
      "==================================================================================================\n",
      "Total params: 718,173\n",
      "Trainable params: 718,173\n",
      "Non-trainable params: 0\n",
      "__________________________________________________________________________________________________\n"
     ]
    }
   ],
   "source": [
    "#Model Summary\n",
    "model.summary()"
   ]
  },
  {
   "cell_type": "code",
   "execution_count": 29,
   "metadata": {},
   "outputs": [
    {
     "name": "stdout",
     "output_type": "stream",
     "text": [
      "encoder_in_data shape: (10000, 16, 71)\n",
      "decoder_in_data shape: (10000, 59, 93)\n",
      "decoder_target_data shape: (10000, 59, 93)\n"
     ]
    }
   ],
   "source": [
    "#Model data Shape\n",
    "print(\"encoder_in_data shape:\",encoder_in_data.shape)\n",
    "print(\"decoder_in_data shape:\",decoder_in_data.shape)\n",
    "print(\"decoder_target_data shape:\",decoder_target_data.shape)"
   ]
  },
  {
   "cell_type": "code",
   "execution_count": 30,
   "metadata": {},
   "outputs": [
    {
     "data": {
      "image/png": "[encoded data removed]",
      "text/plain": [
       "<IPython.core.display.Image object>"
      ]
     },
     "execution_count": 30,
     "metadata": {},
     "output_type": "execute_result"
    }
   ],
   "source": [
    "#Visuaize the model\n",
    "plot_model(model,show_shapes=True)"
   ]
  },
  {
   "cell_type": "code",
   "execution_count": 31,
   "metadata": {},
   "outputs": [
    {
     "name": "stdout",
     "output_type": "stream",
     "text": [
      "WARNING:tensorflow:From C:\\Users\\Kunal\\Anaconda3\\envs\\gputest\\lib\\site-packages\\tensorflow\\python\\ops\\math_ops.py:3066: to_int32 (from tensorflow.python.ops.math_ops) is deprecated and will be removed in a future version.\n",
      "Instructions for updating:\n",
      "Use tf.cast instead.\n",
      "WARNING:tensorflow:From C:\\Users\\Kunal\\Anaconda3\\envs\\gputest\\lib\\site-packages\\tensorflow\\python\\ops\\math_grad.py:102: div (from tensorflow.python.ops.math_ops) is deprecated and will be removed in a future version.\n",
      "Instructions for updating:\n",
      "Deprecated in favor of operator or tf.math.divide.\n",
      "Train on 8000 samples, validate on 2000 samples\n",
      "Epoch 1/50\n",
      "8000/8000 [==============================] - 20s 3ms/step - loss: 0.7264 - val_loss: 0.6621\n",
      "Epoch 2/50\n",
      "8000/8000 [==============================] - 17s 2ms/step - loss: 0.4893 - val_loss: 0.5612\n",
      "Epoch 3/50\n",
      "8000/8000 [==============================] - 17s 2ms/step - loss: 0.4147 - val_loss: 0.5169\n",
      "Epoch 4/50\n",
      "8000/8000 [==============================] - 19s 2ms/step - loss: 0.3666 - val_loss: 0.4853\n",
      "Epoch 5/50\n",
      "8000/8000 [==============================] - 18s 2ms/step - loss: 0.3321 - val_loss: 0.4687\n",
      "Epoch 6/50\n",
      "8000/8000 [==============================] - 17s 2ms/step - loss: 0.3046 - val_loss: 0.4542\n",
      "Epoch 7/50\n",
      "8000/8000 [==============================] - 17s 2ms/step - loss: 0.2833 - val_loss: 0.4491\n",
      "Epoch 8/50\n",
      "8000/8000 [==============================] - 18s 2ms/step - loss: 0.2654 - val_loss: 0.4488\n",
      "Epoch 9/50\n",
      "8000/8000 [==============================] - 18s 2ms/step - loss: 0.2493 - val_loss: 0.4477\n",
      "Epoch 10/50\n",
      "8000/8000 [==============================] - 18s 2ms/step - loss: 0.2358 - val_loss: 0.4591\n",
      "Epoch 11/50\n",
      "8000/8000 [==============================] - 17s 2ms/step - loss: 0.2249 - val_loss: 0.4536\n",
      "Epoch 12/50\n",
      "8000/8000 [==============================] - 17s 2ms/step - loss: 0.2135 - val_loss: 0.4592\n",
      "Epoch 13/50\n",
      "8000/8000 [==============================] - 17s 2ms/step - loss: 0.2039 - val_loss: 0.4675\n",
      "Epoch 14/50\n",
      "8000/8000 [==============================] - 18s 2ms/step - loss: 0.1957 - val_loss: 0.4744\n",
      "Epoch 15/50\n",
      "8000/8000 [==============================] - 18s 2ms/step - loss: 0.1878 - val_loss: 0.4748\n",
      "Epoch 16/50\n",
      "8000/8000 [==============================] - 18s 2ms/step - loss: 0.1809 - val_loss: 0.4825\n",
      "Epoch 17/50\n",
      "8000/8000 [==============================] - 18s 2ms/step - loss: 0.1741 - val_loss: 0.4877\n",
      "Epoch 18/50\n",
      "8000/8000 [==============================] - 18s 2ms/step - loss: 0.1686 - val_loss: 0.4912\n",
      "Epoch 19/50\n",
      "8000/8000 [==============================] - 18s 2ms/step - loss: 0.1637 - val_loss: 0.5007\n",
      "Epoch 20/50\n",
      "8000/8000 [==============================] - 18s 2ms/step - loss: 0.1586 - val_loss: 0.5048\n",
      "Epoch 21/50\n",
      "8000/8000 [==============================] - 18s 2ms/step - loss: 0.1539 - val_loss: 0.5051\n",
      "Epoch 22/50\n",
      "8000/8000 [==============================] - 18s 2ms/step - loss: 0.1500 - val_loss: 0.5112\n",
      "Epoch 23/50\n",
      "8000/8000 [==============================] - 18s 2ms/step - loss: 0.1465 - val_loss: 0.5244\n",
      "Epoch 24/50\n",
      "8000/8000 [==============================] - 18s 2ms/step - loss: 0.1428 - val_loss: 0.5243\n",
      "Epoch 25/50\n",
      "8000/8000 [==============================] - 18s 2ms/step - loss: 0.1392 - val_loss: 0.5316\n",
      "Epoch 26/50\n",
      "8000/8000 [==============================] - 20s 2ms/step - loss: 0.1360 - val_loss: 0.5364\n",
      "Epoch 27/50\n",
      "8000/8000 [==============================] - 19s 2ms/step - loss: 0.1335 - val_loss: 0.5426\n",
      "Epoch 28/50\n",
      "8000/8000 [==============================] - 19s 2ms/step - loss: 0.1305 - val_loss: 0.5460\n",
      "Epoch 29/50\n",
      "8000/8000 [==============================] - 18s 2ms/step - loss: 0.1280 - val_loss: 0.5512\n",
      "Epoch 30/50\n",
      "8000/8000 [==============================] - 18s 2ms/step - loss: 0.1260 - val_loss: 0.5528\n",
      "Epoch 31/50\n",
      "8000/8000 [==============================] - 18s 2ms/step - loss: 0.1238 - val_loss: 0.5616\n",
      "Epoch 32/50\n",
      "8000/8000 [==============================] - 18s 2ms/step - loss: 0.1221 - val_loss: 0.5631\n",
      "Epoch 33/50\n",
      "8000/8000 [==============================] - 18s 2ms/step - loss: 0.1196 - val_loss: 0.5692\n",
      "Epoch 34/50\n",
      "8000/8000 [==============================] - 18s 2ms/step - loss: 0.1183 - val_loss: 0.5718\n",
      "Epoch 35/50\n",
      "8000/8000 [==============================] - 18s 2ms/step - loss: 0.1167 - val_loss: 0.5802\n",
      "Epoch 36/50\n",
      "8000/8000 [==============================] - 18s 2ms/step - loss: 0.1151 - val_loss: 0.5837\n",
      "Epoch 37/50\n",
      "8000/8000 [==============================] - 18s 2ms/step - loss: 0.1135 - val_loss: 0.5833\n",
      "Epoch 38/50\n",
      "8000/8000 [==============================] - 18s 2ms/step - loss: 0.1119 - val_loss: 0.5889\n",
      "Epoch 39/50\n",
      "8000/8000 [==============================] - 18s 2ms/step - loss: 0.1103 - val_loss: 0.5884\n",
      "Epoch 40/50\n",
      "8000/8000 [==============================] - 18s 2ms/step - loss: 0.1094 - val_loss: 0.5947\n",
      "Epoch 41/50\n",
      "8000/8000 [==============================] - 18s 2ms/step - loss: 0.1082 - val_loss: 0.5931\n",
      "Epoch 42/50\n",
      "8000/8000 [==============================] - 18s 2ms/step - loss: 0.1070 - val_loss: 0.5957\n",
      "Epoch 43/50\n",
      "8000/8000 [==============================] - 18s 2ms/step - loss: 0.1060 - val_loss: 0.6029\n",
      "Epoch 44/50\n",
      "8000/8000 [==============================] - 18s 2ms/step - loss: 0.1045 - val_loss: 0.6066\n",
      "Epoch 45/50\n",
      "8000/8000 [==============================] - 18s 2ms/step - loss: 0.1039 - val_loss: 0.6097\n",
      "Epoch 46/50\n",
      "8000/8000 [==============================] - 18s 2ms/step - loss: 0.1030 - val_loss: 0.6180\n",
      "Epoch 47/50\n",
      "8000/8000 [==============================] - 18s 2ms/step - loss: 0.1020 - val_loss: 0.6157\n",
      "Epoch 48/50\n",
      "8000/8000 [==============================] - 18s 2ms/step - loss: 0.1005 - val_loss: 0.6172\n",
      "Epoch 49/50\n",
      "8000/8000 [==============================] - 18s 2ms/step - loss: 0.1000 - val_loss: 0.6175\n",
      "Epoch 50/50\n",
      "8000/8000 [==============================] - 18s 2ms/step - loss: 0.0988 - val_loss: 0.6176\n"
     ]
    },
    {
     "data": {
      "text/plain": [
       "<keras.callbacks.History at 0x1dce10606c8>"
      ]
     },
     "execution_count": 31,
     "metadata": {},
     "output_type": "execute_result"
    }
   ],
   "source": [
    "#Compiling and training the model\n",
    "model.compile(optimizer=Adam(lr=0.01, beta_1=0.9, beta_2=0.999, decay=0.001), loss='categorical_crossentropy')\n",
    "\n",
    "model.fit([encoder_in_data, decoder_in_data], decoder_target_data, batch_size = batch_size, epochs=50, validation_split=0.2)"
   ]
  },
  {
   "cell_type": "code",
   "execution_count": 32,
   "metadata": {},
   "outputs": [],
   "source": [
    "#Define sampling models\n",
    "encoder_model = Model(encoder_inputs, encoder_states)\n",
    "decoder_state_input_h = Input(shape=(latent_dim,))\n",
    "decoder_state_input_c = Input(shape=(latent_dim,))\n",
    "decoder_states_inputs = [decoder_state_input_h, decoder_state_input_c]\n",
    "decoder_outputs, state_h, state_c = decoder_lstm(decoder_inputs, initial_state=decoder_states_inputs)\n",
    "decoder_states = [state_h, state_c]\n",
    "decoder_outputs = decoder_dense(decoder_outputs)\n",
    "decoder_model = Model([decoder_inputs] + decoder_states_inputs, [decoder_outputs] + decoder_states)"
   ]
  },
  {
   "cell_type": "code",
   "execution_count": 33,
   "metadata": {},
   "outputs": [],
   "source": [
    "reverse_input_char_index = dict((i, char) for char, i in input_token_id.items())\n",
    "reverse_target_char_index = dict((i, char) for char, i in target_token_id.items())\n",
    "\n",
    "#Define Decode Sequence\n",
    "def decode_sequence(input_seq):\n",
    "    #Encode the input as state vectors.\n",
    "    states_value = encoder_model.predict(input_seq)\n",
    "\n",
    "    #Generate empty target sequence of length 1.\n",
    "    target_seq = np.zeros((1, 1, num_decoder_tokens))\n",
    "    #Get the first character of target sequence with the start character.\n",
    "    target_seq[0, 0, target_token_id['\\t']] = 1.\n",
    "\n",
    "    #Sampling loop for a batch of sequences\n",
    "    #(to simplify, here we assume a batch of size 1).\n",
    "    stop_condition = False\n",
    "    decoded_sentence = ''\n",
    "    while not stop_condition:\n",
    "        output_tokens, h, c = decoder_model.predict([target_seq] + states_value)\n",
    "\n",
    "        #Sample a token\n",
    "        sampled_token_index = np.argmax(output_tokens[0, -1, :])\n",
    "        sampled_char = reverse_target_char_index[sampled_token_index]\n",
    "        decoded_sentence += sampled_char\n",
    "\n",
    "        #Exit condition: either hit max length\n",
    "        #or find stop character.\n",
    "        if (sampled_char == '\\n' or\n",
    "           len(decoded_sentence) > max_decoder_seq_length):\n",
    "            stop_condition = True\n",
    "\n",
    "        #Update the target sequence (of length 1).\n",
    "        target_seq = np.zeros((1, 1, num_decoder_tokens))\n",
    "        target_seq[0, 0, sampled_token_index] = 1.\n",
    "\n",
    "        #Update states\n",
    "        states_value = [h, c]\n",
    "\n",
    "    return decoded_sentence"
   ]
  },
  {
   "cell_type": "code",
   "execution_count": 34,
   "metadata": {},
   "outputs": [
    {
     "name": "stdout",
     "output_type": "stream",
     "text": [
      "-\n",
      "Input sentence: Go.\n",
      "Decoded sentence: Va te changer !\n",
      "\n",
      "-\n",
      "Input sentence: Run!\n",
      "Decoded sentence: Assez à en parol !\n",
      "\n",
      "-\n",
      "Input sentence: Run!\n",
      "Decoded sentence: Assez à en parol !\n",
      "\n",
      "-\n",
      "Input sentence: Wow!\n",
      "Decoded sentence: Quelle proche !\n",
      "\n",
      "-\n",
      "Input sentence: Fire!\n",
      "Decoded sentence: Pars d'elle !\n",
      "\n",
      "-\n",
      "Input sentence: Help!\n",
      "Decoded sentence: Reste alitée !\n",
      "\n",
      "-\n",
      "Input sentence: Jump.\n",
      "Decoded sentence: Au plaisir de vous revoir.\n",
      "\n",
      "-\n",
      "Input sentence: Stop!\n",
      "Decoded sentence: Arrête de te quereller !\n",
      "\n",
      "-\n",
      "Input sentence: Stop!\n",
      "Decoded sentence: Arrête de te quereller !\n",
      "\n",
      "-\n",
      "Input sentence: Stop!\n",
      "Decoded sentence: Arrête de te quereller !\n",
      "\n"
     ]
    }
   ],
   "source": [
    "for seq_index in range(10):\n",
    "    input_seq = encoder_in_data[seq_index: seq_index + 1]\n",
    "    decoded_sentence = decode_sequence(input_seq)\n",
    "    print('-')\n",
    "    print('Input sentence:', input_texts[seq_index])\n",
    "    print('Decoded sentence:', decoded_sentence)"
   ]
  }
 ],
 "metadata": {
  "kernelspec": {
   "display_name": "gputest",
   "language": "python",
   "name": "gputest"
  },
  "language_info": {
   "codemirror_mode": {
    "name": "ipython",
    "version": 3
   },
   "file_extension": ".py",
   "mimetype": "text/x-python",
   "name": "python",
   "nbconvert_exporter": "python",
   "pygments_lexer": "ipython3",
   "version": "3.7.5"
  }
 },
 "nbformat": 4,
 "nbformat_minor": 2
}
