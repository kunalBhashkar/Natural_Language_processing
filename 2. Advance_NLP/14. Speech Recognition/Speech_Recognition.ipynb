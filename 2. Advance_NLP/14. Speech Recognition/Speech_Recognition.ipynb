{
 "cells": [
  {
   "cell_type": "markdown",
   "metadata": {},
   "source": [
    "#### First Example"
   ]
  },
  {
   "cell_type": "code",
   "execution_count": 1,
   "metadata": {},
   "outputs": [
    {
     "name": "stderr",
     "output_type": "stream",
     "text": [
      "C:\\Users\\Kunal\\Anaconda3\\envs\\gputest\\lib\\site-packages\\librosa\\util\\decorators.py:9: NumbaDeprecationWarning: \u001b[1mAn import was requested from a module that has moved location.\n",
      "Import requested from: 'numba.decorators', please update to use 'numba.core.decorators' or pin to Numba version 0.48.0. This alias will not be present in Numba version 0.50.0.\u001b[0m\n",
      "  from numba.decorators import jit as optional_jit\n",
      "C:\\Users\\Kunal\\Anaconda3\\envs\\gputest\\lib\\site-packages\\librosa\\util\\decorators.py:9: NumbaDeprecationWarning: \u001b[1mAn import was requested from a module that has moved location.\n",
      "Import of 'jit' requested from: 'numba.decorators', please update to use 'numba.core.decorators' or pin to Numba version 0.48.0. This alias will not be present in Numba version 0.50.0.\u001b[0m\n",
      "  from numba.decorators import jit as optional_jit\n",
      "WARNING: Logging before flag parsing goes to stderr.\n",
      "W0604 18:39:41.037695 30968 __init__.py:308] Limited tf.compat.v2.summary API due to missing TensorBoard installation.\n",
      "W0604 18:39:44.724317 30968 deprecation_wrapper.py:119] From C:\\Users\\Kunal\\Anaconda3\\envs\\gputest\\lib\\site-packages\\tflearn\\helpers\\summarizer.py:9: The name tf.summary.merge is deprecated. Please use tf.compat.v1.summary.merge instead.\n",
      "\n",
      "W0604 18:39:44.726294 30968 deprecation_wrapper.py:119] From C:\\Users\\Kunal\\Anaconda3\\envs\\gputest\\lib\\site-packages\\tflearn\\helpers\\trainer.py:25: The name tf.summary.FileWriter is deprecated. Please use tf.compat.v1.summary.FileWriter instead.\n",
      "\n",
      "W0604 18:39:44.778993 30968 deprecation_wrapper.py:119] From C:\\Users\\Kunal\\Anaconda3\\envs\\gputest\\lib\\site-packages\\tflearn\\collections.py:13: The name tf.GraphKeys is deprecated. Please use tf.compat.v1.GraphKeys instead.\n",
      "\n",
      "W0604 18:39:44.818888 30968 deprecation_wrapper.py:119] From C:\\Users\\Kunal\\Anaconda3\\envs\\gputest\\lib\\site-packages\\tflearn\\config.py:123: The name tf.get_collection is deprecated. Please use tf.compat.v1.get_collection instead.\n",
      "\n",
      "W0604 18:39:44.842822 30968 deprecation_wrapper.py:119] From C:\\Users\\Kunal\\Anaconda3\\envs\\gputest\\lib\\site-packages\\tflearn\\config.py:129: The name tf.add_to_collection is deprecated. Please use tf.compat.v1.add_to_collection instead.\n",
      "\n",
      "W0604 18:39:44.847385 30968 deprecation_wrapper.py:119] From C:\\Users\\Kunal\\Anaconda3\\envs\\gputest\\lib\\site-packages\\tflearn\\config.py:131: The name tf.assign is deprecated. Please use tf.compat.v1.assign instead.\n",
      "\n"
     ]
    },
    {
     "name": "stdout",
     "output_type": "stream",
     "text": [
      "curses is not supported on this machine (please install/reinstall curses for an optimal experience)\n"
     ]
    }
   ],
   "source": [
    "import numpy as np\n",
    "import librosa\n",
    "import os\n",
    "import random\n",
    "import tflearn\n",
    "import tensorflow as tf"
   ]
  },
  {
   "cell_type": "code",
   "execution_count": 2,
   "metadata": {},
   "outputs": [],
   "source": [
    "#parameters\n",
    "lr = 0.001\n",
    "iterations_train = 30\n",
    "bsize = 64\n",
    "audio_features = 20  \n",
    "utterance_length = 35  \n",
    "ndigits = 10 "
   ]
  },
  {
   "cell_type": "code",
   "execution_count": 3,
   "metadata": {},
   "outputs": [],
   "source": [
    "def get_mfcc_features(fpath):\n",
    "    raw_w,sampling_rate = librosa.load(fpath,mono=True)\n",
    "    mfcc_features = librosa.feature.mfcc(raw_w,sampling_rate)\n",
    "    if(mfcc_features.shape[1]>utterance_length):\n",
    "        mfcc_features = mfcc_features[:,0:utterance_length]\n",
    "    else:\n",
    "        mfcc_features=np.pad(mfcc_features,((0,0),(0,utterance_length-mfcc_features.shape[1])), \n",
    "                             mode='constant', constant_values=0)\n",
    "    return mfcc_features"
   ]
  },
  {
   "cell_type": "code",
   "execution_count": 4,
   "metadata": {},
   "outputs": [
    {
     "name": "stdout",
     "output_type": "stream",
     "text": [
      "Feature shape:  (20, 35)\n",
      "Features:  [-5.1646436e+02  2.1872009e+02 -9.4362831e+01  1.6351042e+01\n",
      "  2.0993744e+01 -4.3879120e+01  1.9426702e+01 -9.4150424e-02\n",
      " -2.9996101e+01  1.3972718e+01  6.6056484e-01 -1.1475899e+01\n",
      "  3.1368847e+00 -1.3455605e+01 -1.4368641e+00  1.1711964e+01\n",
      " -1.5449909e+01 -1.1310578e+01  2.5302711e+00 -1.3572546e+01]\n"
     ]
    },
    {
     "data": {
      "image/png": "[encoded data removed]",
      "text/plain": [
       "<Figure size 720x432 with 1 Axes>"
      ]
     },
     "metadata": {
      "needs_background": "light"
     },
     "output_type": "display_data"
    }
   ],
   "source": [
    "import matplotlib.pyplot as plt\n",
    "import librosa.display\n",
    "%matplotlib inline\n",
    "mfcc_features = get_mfcc_features('./dataset/recordings/train/5_theo_45.wav')\n",
    "plt.figure(figsize=(10, 6))\n",
    "plt.subplot(2, 1, 1)\n",
    "librosa.display.specshow(mfcc_features, x_axis='time')\n",
    "print(\"Feature shape: \", mfcc_features.shape)\n",
    "print(\"Features: \", mfcc_features[:,0])"
   ]
  },
  {
   "cell_type": "code",
   "execution_count": 5,
   "metadata": {},
   "outputs": [],
   "source": [
    "def get_batch_mfcc(fpath,batch_size=256):\n",
    "    ft_batch = []\n",
    "    labels_batch = []\n",
    "    files = os.listdir(fpath)\n",
    "    while True:\n",
    "        print(\"Total %d files\" % len(files))\n",
    "        random.shuffle(files)\n",
    "        for fname in files:\n",
    "            if not fname.endswith(\".wav\"): \n",
    "                continue\n",
    "            mfcc_features = get_mfcc_features(fpath+fname)  \n",
    "            label = np.eye(10)[int(fname[0])]\n",
    "            labels_batch.append(label)\n",
    "            ft_batch.append(mfcc_features)\n",
    "            if len(ft_batch) >= batch_size:\n",
    "                yield ft_batch, labels_batch \n",
    "                ft_batch = []  \n",
    "                labels_batch = []"
   ]
  },
  {
   "cell_type": "code",
   "execution_count": 6,
   "metadata": {},
   "outputs": [
    {
     "name": "stdout",
     "output_type": "stream",
     "text": [
      "Training Step: 1199  | total loss: \u001b[1m\u001b[32m1.10559\u001b[0m\u001b[0m | time: 0.690s\n",
      "| Adam | epoch: 300 | loss: 1.10559 - acc: 0.7745 -- iter: 192/256\n",
      "Training Step: 1200  | total loss: \u001b[1m\u001b[32m1.02130\u001b[0m\u001b[0m | time: 1.953s\n",
      "| Adam | epoch: 300 | loss: 1.02130 - acc: 0.7970 | val_loss: 0.17620 - val_acc: 0.9688 -- iter: 256/256\n",
      "--\n"
     ]
    }
   ],
   "source": [
    "train_batch = get_batch_mfcc('./dataset/recordings/train/')\n",
    "sp_network = tflearn.input_data([None, audio_features, utterance_length])\n",
    "sp_network = tflearn.lstm(sp_network, 128*4, dropout=0.5)\n",
    "sp_network = tflearn.fully_connected(sp_network, ndigits, activation='softmax')\n",
    "sp_network = tflearn.regression(sp_network, optimizer='adam', learning_rate=lr, loss='categorical_crossentropy')\n",
    "sp_model = tflearn.DNN(sp_network, tensorboard_verbose=0)\n",
    "while iterations_train > 0:\n",
    "    X_tr, y_tr = next(train_batch)\n",
    "    X_test, y_test = next(train_batch)\n",
    "    sp_model.fit(X_tr, y_tr, n_epoch=10, validation_set=(X_test, y_test), show_metric=True, batch_size=bsize)\n",
    "    iterations_train-=1\n",
    "sp_model.save(\"./speech_recognition.lstm\")"
   ]
  },
  {
   "cell_type": "code",
   "execution_count": 7,
   "metadata": {},
   "outputs": [
    {
     "name": "stderr",
     "output_type": "stream",
     "text": [
      "W0604 19:04:33.333756 30968 deprecation.py:323] From C:\\Users\\Kunal\\Anaconda3\\envs\\gputest\\lib\\site-packages\\tensorflow\\python\\training\\saver.py:1276: checkpoint_exists (from tensorflow.python.training.checkpoint_management) is deprecated and will be removed in a future version.\n",
      "Instructions for updating:\n",
      "Use standard file APIs to check for files with this prefix.\n"
     ]
    },
    {
     "name": "stdout",
     "output_type": "stream",
     "text": [
      "[[0.07670466 0.01334398 0.04393879 0.01255467 0.00908908 0.05189671\n",
      "  0.07036389 0.01560096 0.6555225  0.05098466]]\n",
      "Digit predicted:  8\n"
     ]
    }
   ],
   "source": [
    "sp_model.load('./speech_recognition.lstm')\n",
    "mfcc_features = get_mfcc_features('./dataset/recordings/test/8_theo_21.wav')\n",
    "mfcc_features = mfcc_features.reshape((1,mfcc_features.shape[0],mfcc_features.shape[1]))\n",
    "prediction_digit = sp_model.predict(mfcc_features)\n",
    "print(prediction_digit)\n",
    "print(\"Digit predicted: \", np.argmax(prediction_digit))"
   ]
  }
 ],
 "metadata": {
  "kernelspec": {
   "display_name": "gputest",
   "language": "python",
   "name": "gputest"
  },
  "language_info": {
   "codemirror_mode": {
    "name": "ipython",
    "version": 3
   },
   "file_extension": ".py",
   "mimetype": "text/x-python",
   "name": "python",
   "nbconvert_exporter": "python",
   "pygments_lexer": "ipython3",
   "version": "3.7.5"
  }
 },
 "nbformat": 4,
 "nbformat_minor": 2
}
