{
 "cells": [
  {
   "cell_type": "code",
   "execution_count": 1,
   "metadata": {
    "colab_type": "text",
    "id": "RhIMRXQPLaaA"
   },
   "outputs": [
    {
     "name": "stdout",
     "output_type": "stream",
     "text": [
      "Collecting google-cloud-speech\n",
      "  Downloading google_cloud_speech-1.3.2-py2.py3-none-any.whl (88 kB)\n",
      "Collecting google-api-core[grpc]<2.0.0dev,>=1.14.0\n",
      "  Downloading google_api_core-1.21.0-py2.py3-none-any.whl (90 kB)\n",
      "Requirement already satisfied: protobuf>=3.12.0 in c:\\users\\kunal\\anaconda3\\envs\\gputest\\lib\\site-packages (from google-api-core[grpc]<2.0.0dev,>=1.14.0->google-cloud-speech) (3.12.3)\n",
      "Collecting googleapis-common-protos<2.0dev,>=1.6.0\n",
      "  Downloading googleapis_common_protos-1.52.0-py2.py3-none-any.whl (100 kB)\n",
      "Requirement already satisfied: requests<3.0.0dev,>=2.18.0 in c:\\users\\kunal\\anaconda3\\envs\\gputest\\lib\\site-packages (from google-api-core[grpc]<2.0.0dev,>=1.14.0->google-cloud-speech) (2.22.0)\n",
      "Requirement already satisfied: pytz in c:\\users\\kunal\\anaconda3\\envs\\gputest\\lib\\site-packages (from google-api-core[grpc]<2.0.0dev,>=1.14.0->google-cloud-speech) (2019.3)\n"
     ]
    },
    {
     "name": "stderr",
     "output_type": "stream",
     "text": [
      "WARNING: No metadata found in c:\\users\\kunal\\anaconda3\\envs\\gputest\\lib\\site-packages\n",
      "ERROR: Could not install packages due to an EnvironmentError: [Errno 2] No such file or directory: 'c:\\\\users\\\\kunal\\\\anaconda3\\\\envs\\\\gputest\\\\lib\\\\site-packages\\\\pytz-2019.3.dist-info\\\\METADATA'\n",
      "\n"
     ]
    }
   ],
   "source": [
    "!pip3 install google-cloud-speech"
   ]
  },
  {
   "cell_type": "code",
   "execution_count": 2,
   "metadata": {
    "colab": {
     "base_uri": "https://localhost:8080/",
     "height": 301
    },
    "colab_type": "code",
    "id": "t3_2z6qMRXcY",
    "outputId": "97c7c6d4-2a39-4a5d-fefb-6c13621f1440"
   },
   "outputs": [
    {
     "name": "stderr",
     "output_type": "stream",
     "text": [
      "  % Total    % Received % Xferd  Average Speed   Time    Time     Time  Current\n",
      "                                 Dload  Upload   Total   Spent    Left  Speed\n",
      "\n",
      "  0     0    0     0    0     0      0      0 --:--:-- --:--:-- --:--:--     0\n",
      "  0     0    0     0    0     0      0      0 --:--:-- --:--:-- --:--:--     0\n",
      "100   629  100   629    0     0    629      0  0:00:01  0:00:01 --:--:--   610\n",
      "\n",
      "  0     0    0     0    0     0      0      0 --:--:--  0:00:01 --:--:--     0\n",
      "  0     0    0     0    0     0      0      0 --:--:--  0:00:02 --:--:--     0\n",
      "  8  192k    8 16972    0     0   5657      0  0:00:34  0:00:03  0:00:31  7817\n",
      " 88  192k   88  169k    0     0  43411      0  0:00:04  0:00:04 --:--:-- 56140\n",
      "100  192k  100  192k    0     0  49292      0  0:00:04  0:00:04 --:--:-- 63093\n",
      "x audio/\n",
      "x audio/2830-3980-0043.wav\n",
      "x audio/Attribution.txt\n",
      "x audio/4507-16021-0012.wav\n",
      "x audio/8455-210777-0068.wav\n",
      "x audio/License.txt\n"
     ]
    },
    {
     "name": "stdout",
     "output_type": "stream",
     "text": [
      "total 249\n",
      "-rw-r--r-- 1 Kunal Administrators 63244 Nov 18  2017 2830-3980-0043.wav\n",
      "-rw-r--r-- 1 Kunal Administrators 87564 Nov 18  2017 4507-16021-0012.wav\n",
      "-rw-r--r-- 1 Kunal Administrators 82924 Nov 18  2017 8455-210777-0068.wav\n",
      "-rw-r--r-- 1 Kunal Administrators   340 May 14  2018 Attribution.txt\n",
      "-rw-r--r-- 1 Kunal Administrators 18652 May 12  2018 License.txt\n"
     ]
    }
   ],
   "source": [
    "!curl -LO https://github.com/mozilla/DeepSpeech/releases/download/v0.6.0/audio-0.6.0.tar.gz\n",
    "!tar -xvzf audio-0.6.0.tar.gz\n",
    "!ls -l ./audio/"
   ]
  },
  {
   "cell_type": "code",
   "execution_count": 3,
   "metadata": {},
   "outputs": [
    {
     "name": "stdout",
     "output_type": "stream",
     "text": [
      "Requirement already satisfied: playsound in c:\\users\\kunal\\anaconda3\\envs\\gputest\\lib\\site-packages (1.2.2)\n"
     ]
    },
    {
     "name": "stderr",
     "output_type": "stream",
     "text": [
      "ERROR: Error checking for conflicts.\n",
      "Traceback (most recent call last):\n",
      "  File \"C:\\Users\\Kunal\\Anaconda3\\envs\\gputest\\lib\\site-packages\\pip\\_vendor\\pkg_resources\\__init__.py\", line 3021, in _dep_map\n",
      "    return self.__dep_map\n",
      "  File \"C:\\Users\\Kunal\\Anaconda3\\envs\\gputest\\lib\\site-packages\\pip\\_vendor\\pkg_resources\\__init__.py\", line 2815, in __getattr__\n",
      "    raise AttributeError(attr)\n",
      "AttributeError: _DistInfoDistribution__dep_map\n",
      "\n",
      "During handling of the above exception, another exception occurred:\n",
      "\n",
      "Traceback (most recent call last):\n",
      "  File \"C:\\Users\\Kunal\\Anaconda3\\envs\\gputest\\lib\\site-packages\\pip\\_vendor\\pkg_resources\\__init__.py\", line 3012, in _parsed_pkg_info\n",
      "    return self._pkg_info\n",
      "  File \"C:\\Users\\Kunal\\Anaconda3\\envs\\gputest\\lib\\site-packages\\pip\\_vendor\\pkg_resources\\__init__.py\", line 2815, in __getattr__\n",
      "    raise AttributeError(attr)\n",
      "AttributeError: _pkg_info\n",
      "\n",
      "During handling of the above exception, another exception occurred:\n",
      "\n",
      "Traceback (most recent call last):\n",
      "  File \"C:\\Users\\Kunal\\Anaconda3\\envs\\gputest\\lib\\site-packages\\pip\\_internal\\commands\\install.py\", line 512, in _warn_about_conflicts\n",
      "    package_set, _dep_info = check_install_conflicts(to_install)\n",
      "  File \"C:\\Users\\Kunal\\Anaconda3\\envs\\gputest\\lib\\site-packages\\pip\\_internal\\operations\\check.py\", line 114, in check_install_conflicts\n",
      "    package_set, _ = create_package_set_from_installed()\n",
      "  File \"C:\\Users\\Kunal\\Anaconda3\\envs\\gputest\\lib\\site-packages\\pip\\_internal\\operations\\check.py\", line 53, in create_package_set_from_installed\n",
      "    package_set[name] = PackageDetails(dist.version, dist.requires())\n",
      "  File \"C:\\Users\\Kunal\\Anaconda3\\envs\\gputest\\lib\\site-packages\\pip\\_vendor\\pkg_resources\\__init__.py\", line 2736, in requires\n",
      "    dm = self._dep_map\n",
      "  File \"C:\\Users\\Kunal\\Anaconda3\\envs\\gputest\\lib\\site-packages\\pip\\_vendor\\pkg_resources\\__init__.py\", line 3023, in _dep_map\n",
      "    self.__dep_map = self._compute_dependencies()\n",
      "  File \"C:\\Users\\Kunal\\Anaconda3\\envs\\gputest\\lib\\site-packages\\pip\\_vendor\\pkg_resources\\__init__.py\", line 3032, in _compute_dependencies\n",
      "    for req in self._parsed_pkg_info.get_all('Requires-Dist') or []:\n",
      "  File \"C:\\Users\\Kunal\\Anaconda3\\envs\\gputest\\lib\\site-packages\\pip\\_vendor\\pkg_resources\\__init__.py\", line 3014, in _parsed_pkg_info\n",
      "    metadata = self.get_metadata(self.PKG_INFO)\n",
      "  File \"C:\\Users\\Kunal\\Anaconda3\\envs\\gputest\\lib\\site-packages\\pip\\_vendor\\pkg_resources\\__init__.py\", line 1420, in get_metadata\n",
      "    value = self._get(path)\n",
      "  File \"C:\\Users\\Kunal\\Anaconda3\\envs\\gputest\\lib\\site-packages\\pip\\_vendor\\pkg_resources\\__init__.py\", line 1616, in _get\n",
      "    with open(path, 'rb') as stream:\n",
      "FileNotFoundError: [Errno 2] No such file or directory: 'c:\\\\users\\\\kunal\\\\anaconda3\\\\envs\\\\gputest\\\\lib\\\\site-packages\\\\pytz-2019.3.dist-info\\\\METADATA'\n"
     ]
    }
   ],
   "source": [
    "!pip install playsound"
   ]
  },
  {
   "cell_type": "code",
   "execution_count": 4,
   "metadata": {
    "colab": {
     "base_uri": "https://localhost:8080/",
     "height": 370
    },
    "colab_type": "code",
    "id": "LEZLu39Op7qN",
    "outputId": "0af7f972-3887-42b0-8fb8-9dbd615cf885"
   },
   "outputs": [],
   "source": [
    "from playsound import playsound\n",
    "playsound('audio/4507-16021-0012.wav')"
   ]
  },
  {
   "cell_type": "code",
   "execution_count": 5,
   "metadata": {
    "colab": {},
    "colab_type": "code",
    "id": "nbzYo01kRi8P"
   },
   "outputs": [],
   "source": [
    "TESTCASES = [\n",
    "  {\n",
    "    'filename': 'audio/2830-3980-0043.wav',\n",
    "    'text': 'experience proves this',\n",
    "    'encoding': 'LINEAR16',\n",
    "    'lang': 'en-US'\n",
    "  },\n",
    "  {\n",
    "    'filename': 'audio/4507-16021-0012.wav',\n",
    "    'text': 'why should one halt on the way',\n",
    "    'encoding': 'LINEAR16',\n",
    "    'lang': 'en-US'\n",
    "  },\n",
    "  {\n",
    "    'filename': 'audio/8455-210777-0068.wav',\n",
    "    'text': 'your power is sufficient i said',\n",
    "    'encoding': 'LINEAR16',\n",
    "    'lang': 'en-US'\n",
    "  }\n",
    "]"
   ]
  },
  {
   "cell_type": "code",
   "execution_count": 6,
   "metadata": {
    "colab": {},
    "colab_type": "code",
    "id": "Ujeuvj35Ksv8"
   },
   "outputs": [],
   "source": [
    "from typing import Tuple\n",
    "import wave\n",
    "\n",
    "def read_wav_file(filename) -> Tuple[bytes, int]:\n",
    "    with wave.open(filename, 'rb') as w:\n",
    "        rate = w.getframerate()\n",
    "        frames = w.getnframes()\n",
    "        buffer = w.readframes(frames)\n",
    "\n",
    "    return buffer, rate\n",
    "\n",
    "def simulate_stream(buffer: bytes, batch_size: int = 4096):\n",
    "    buffer_len = len(buffer)\n",
    "    offset = 0\n",
    "    while offset < buffer_len:\n",
    "        end_offset = offset + batch_size\n",
    "        buf = buffer[offset:end_offset]\n",
    "        yield buf\n",
    "        offset = end_offset"
   ]
  },
  {
   "cell_type": "code",
   "execution_count": 7,
   "metadata": {
    "colab": {
     "base_uri": "https://localhost:8080/",
     "height": 144
    },
    "colab_type": "code",
    "id": "gbWPbs_27f3Y",
    "outputId": "4a7e9e96-cd5b-4d0c-caaf-7d01fdf99db3"
   },
   "outputs": [
    {
     "name": "stderr",
     "output_type": "stream",
     "text": [
      "ERROR: Error checking for conflicts.\n",
      "Traceback (most recent call last):\n",
      "  File \"C:\\Users\\Kunal\\Anaconda3\\envs\\gputest\\lib\\site-packages\\pip\\_vendor\\pkg_resources\\__init__.py\", line 3021, in _dep_map\n",
      "    return self.__dep_map\n"
     ]
    },
    {
     "name": "stdout",
     "output_type": "stream",
     "text": [
      "Requirement already satisfied: deepspeech==0.6.0 in c:\\users\\kunal\\anaconda3\\envs\\gputest\\lib\\site-packages (0.6.0)\n",
      "Requirement already satisfied: numpy<=1.17.0,>=1.14.5 in c:\\users\\kunal\\anaconda3\\envs\\gputest\\lib\\site-packages (from deepspeech==0.6.0) (1.17.0)\n"
     ]
    },
    {
     "name": "stderr",
     "output_type": "stream",
     "text": [
      "  File \"C:\\Users\\Kunal\\Anaconda3\\envs\\gputest\\lib\\site-packages\\pip\\_vendor\\pkg_resources\\__init__.py\", line 2815, in __getattr__\n",
      "    raise AttributeError(attr)\n",
      "AttributeError: _DistInfoDistribution__dep_map\n",
      "\n",
      "During handling of the above exception, another exception occurred:\n",
      "\n",
      "Traceback (most recent call last):\n",
      "  File \"C:\\Users\\Kunal\\Anaconda3\\envs\\gputest\\lib\\site-packages\\pip\\_vendor\\pkg_resources\\__init__.py\", line 3012, in _parsed_pkg_info\n",
      "    return self._pkg_info\n",
      "  File \"C:\\Users\\Kunal\\Anaconda3\\envs\\gputest\\lib\\site-packages\\pip\\_vendor\\pkg_resources\\__init__.py\", line 2815, in __getattr__\n",
      "    raise AttributeError(attr)\n",
      "AttributeError: _pkg_info\n",
      "\n",
      "During handling of the above exception, another exception occurred:\n",
      "\n",
      "Traceback (most recent call last):\n",
      "  File \"C:\\Users\\Kunal\\Anaconda3\\envs\\gputest\\lib\\site-packages\\pip\\_internal\\commands\\install.py\", line 512, in _warn_about_conflicts\n",
      "    package_set, _dep_info = check_install_conflicts(to_install)\n",
      "  File \"C:\\Users\\Kunal\\Anaconda3\\envs\\gputest\\lib\\site-packages\\pip\\_internal\\operations\\check.py\", line 114, in check_install_conflicts\n",
      "    package_set, _ = create_package_set_from_installed()\n",
      "  File \"C:\\Users\\Kunal\\Anaconda3\\envs\\gputest\\lib\\site-packages\\pip\\_internal\\operations\\check.py\", line 53, in create_package_set_from_installed\n",
      "    package_set[name] = PackageDetails(dist.version, dist.requires())\n",
      "  File \"C:\\Users\\Kunal\\Anaconda3\\envs\\gputest\\lib\\site-packages\\pip\\_vendor\\pkg_resources\\__init__.py\", line 2736, in requires\n",
      "    dm = self._dep_map\n",
      "  File \"C:\\Users\\Kunal\\Anaconda3\\envs\\gputest\\lib\\site-packages\\pip\\_vendor\\pkg_resources\\__init__.py\", line 3023, in _dep_map\n",
      "    self.__dep_map = self._compute_dependencies()\n",
      "  File \"C:\\Users\\Kunal\\Anaconda3\\envs\\gputest\\lib\\site-packages\\pip\\_vendor\\pkg_resources\\__init__.py\", line 3032, in _compute_dependencies\n",
      "    for req in self._parsed_pkg_info.get_all('Requires-Dist') or []:\n",
      "  File \"C:\\Users\\Kunal\\Anaconda3\\envs\\gputest\\lib\\site-packages\\pip\\_vendor\\pkg_resources\\__init__.py\", line 3014, in _parsed_pkg_info\n",
      "    metadata = self.get_metadata(self.PKG_INFO)\n",
      "  File \"C:\\Users\\Kunal\\Anaconda3\\envs\\gputest\\lib\\site-packages\\pip\\_vendor\\pkg_resources\\__init__.py\", line 1420, in get_metadata\n",
      "    value = self._get(path)\n",
      "  File \"C:\\Users\\Kunal\\Anaconda3\\envs\\gputest\\lib\\site-packages\\pip\\_vendor\\pkg_resources\\__init__.py\", line 1616, in _get\n",
      "    with open(path, 'rb') as stream:\n",
      "FileNotFoundError: [Errno 2] No such file or directory: 'c:\\\\users\\\\kunal\\\\anaconda3\\\\envs\\\\gputest\\\\lib\\\\site-packages\\\\pytz-2019.3.dist-info\\\\METADATA'\n"
     ]
    }
   ],
   "source": [
    "!pip install deepspeech==0.6.0"
   ]
  },
  {
   "cell_type": "code",
   "execution_count": 15,
   "metadata": {
    "colab": {
     "base_uri": "https://localhost:8080/",
     "height": 301
    },
    "colab_type": "code",
    "id": "eT-n1jLj8Ff4",
    "outputId": "82af999e-bc23-494d-b1f4-ce9f94bbd1e1"
   },
   "outputs": [
    {
     "name": "stderr",
     "output_type": "stream",
     "text": [
      "x deepspeech-0.6.0-models/\n",
      "x deepspeech-0.6.0-models/lm.binary: Can't unlink already-existing object\n",
      "x deepspeech-0.6.0-models/output_graph.pbmm: Can't unlink already-existing object\n",
      "x deepspeech-0.6.0-models/output_graph.pb\n",
      "x deepspeech-0.6.0-models/trie\n",
      "x deepspeech-0.6.0-models/output_graph.tflite\n",
      "tar: Error exit delayed from previous errors.\n"
     ]
    },
    {
     "name": "stdout",
     "output_type": "stream",
     "text": [
      "total 1350654\n",
      "-rw-r--r-- 1 Kunal Administrators 945699324 Dec  3  2019 lm.binary\n",
      "-rw-r--r-- 1 Kunal Administrators 188914896 Dec  3  2019 output_graph.pb\n",
      "-rw-r--r-- 1 Kunal Administrators 188915850 Dec  3  2019 output_graph.pbmm\n",
      "-rw-r--r-- 1 Kunal Administrators  47335752 Dec  3  2019 output_graph.tflite\n",
      "-rw-r--r-- 1 Kunal Administrators  12200736 Dec  3  2019 trie\n"
     ]
    }
   ],
   "source": [
    "!curl -LO https://github.com/mozilla/DeepSpeech/releases/download/v0.6.0/deepspeech-0.6.0-models.tar.gz\n",
    "!tar -xvzf deepspeech-0.6.0-models.tar.gz\n",
    "!ls -l ./deepspeech-0.6.0-models/"
   ]
  },
  {
   "cell_type": "markdown",
   "metadata": {
    "colab_type": "text",
    "id": "uGGaM4wp8Ykp"
   },
   "source": [
    "3. **Test that it all works**\n",
    "\n",
    "Examine the output of the last three commands, and you will see results *“experience proof less”*, *“why should one halt on the way”*, and *“your power is sufficient i said”* respectively. You are all set."
   ]
  },
  {
   "cell_type": "code",
   "execution_count": 16,
   "metadata": {
    "colab": {
     "base_uri": "https://localhost:8080/",
     "height": 232
    },
    "colab_type": "code",
    "id": "3pPnZssj8fPY",
    "outputId": "db41701a-c176-4140-b1e1-e7fe7cb9fdba"
   },
   "outputs": [
    {
     "name": "stdout",
     "output_type": "stream",
     "text": [
      "experience proof less\n"
     ]
    },
    {
     "name": "stderr",
     "output_type": "stream",
     "text": [
      "TensorFlow: v1.14.0-21-ge77504ac6b\n",
      "DeepSpeech: v0.6.0-0-g6d43e21\n",
      "Warning: reading entire model file into memory. Transform model file into an mmapped graph to reduce heap usage.\n",
      "2020-07-06 11:10:53.097068: I tensorflow/core/platform/cpu_feature_guard.cc:142] Your CPU supports instructions that this TensorFlow binary was not compiled to use: AVX2\n",
      "c:\\users\\kunal\\anaconda3\\envs\\gputest\\lib\\site-packages\\numpy\\_distributor_init.py:32: UserWarning: loaded more than 1 DLL from .libs:\n",
      "c:\\users\\kunal\\anaconda3\\envs\\gputest\\lib\\site-packages\\numpy\\.libs\\libopenblas.IPBC74C7KURV7CB2PKT5Z5FNR3SIBV4J.gfortran-win_amd64.dll\n",
      "c:\\users\\kunal\\anaconda3\\envs\\gputest\\lib\\site-packages\\numpy\\.libs\\libopenblas.TXA6YQSD3GCQQC22GEQ54J2UDCXDXHWN.gfortran-win_amd64.dll\n",
      "  stacklevel=1)\n",
      "Loading model from file deepspeech-0.6.0-models/output_graph.pb\n",
      "Loaded model in 1.18s.\n",
      "Loading language model from files deepspeech-0.6.0-models/lm.binary ./deepspeech-0.6.0-models/trie\n",
      "Loaded language model in 0.0236s.\n",
      "Running inference.\n",
      "Inference took 8.935s for 1.975s audio file.\n"
     ]
    }
   ],
   "source": [
    "!deepspeech --model deepspeech-0.6.0-models/output_graph.pb --lm deepspeech-0.6.0-models/lm.binary --trie ./deepspeech-0.6.0-models/trie --audio ./audio/2830-3980-0043.wav"
   ]
  },
  {
   "cell_type": "code",
   "execution_count": 17,
   "metadata": {
    "colab": {
     "base_uri": "https://localhost:8080/",
     "height": 232
    },
    "colab_type": "code",
    "id": "gvxm5RE68zu4",
    "outputId": "4997ac61-3075-44e4-b7d5-5645495313c3"
   },
   "outputs": [
    {
     "name": "stdout",
     "output_type": "stream",
     "text": [
      "why should one halt on the way\n"
     ]
    },
    {
     "name": "stderr",
     "output_type": "stream",
     "text": [
      "TensorFlow: v1.14.0-21-ge77504ac6b\n",
      "DeepSpeech: v0.6.0-0-g6d43e21\n",
      "Warning: reading entire model file into memory. Transform model file into an mmapped graph to reduce heap usage.\n",
      "2020-07-06 11:11:03.872049: I tensorflow/core/platform/cpu_feature_guard.cc:142] Your CPU supports instructions that this TensorFlow binary was not compiled to use: AVX2\n",
      "c:\\users\\kunal\\anaconda3\\envs\\gputest\\lib\\site-packages\\numpy\\_distributor_init.py:32: UserWarning: loaded more than 1 DLL from .libs:\n",
      "c:\\users\\kunal\\anaconda3\\envs\\gputest\\lib\\site-packages\\numpy\\.libs\\libopenblas.IPBC74C7KURV7CB2PKT5Z5FNR3SIBV4J.gfortran-win_amd64.dll\n",
      "c:\\users\\kunal\\anaconda3\\envs\\gputest\\lib\\site-packages\\numpy\\.libs\\libopenblas.TXA6YQSD3GCQQC22GEQ54J2UDCXDXHWN.gfortran-win_amd64.dll\n",
      "  stacklevel=1)\n",
      "Loading model from file deepspeech-0.6.0-models/output_graph.pb\n",
      "Loaded model in 1.16s.\n",
      "Loading language model from files deepspeech-0.6.0-models/lm.binary ./deepspeech-0.6.0-models/trie\n",
      "Loaded language model in 0.0212s.\n",
      "Running inference.\n",
      "Inference took 9.275s for 2.735s audio file.\n"
     ]
    }
   ],
   "source": [
    "!deepspeech --model deepspeech-0.6.0-models/output_graph.pb --lm deepspeech-0.6.0-models/lm.binary --trie ./deepspeech-0.6.0-models/trie --audio ./audio/4507-16021-0012.wav"
   ]
  },
  {
   "cell_type": "code",
   "execution_count": 18,
   "metadata": {
    "colab": {
     "base_uri": "https://localhost:8080/",
     "height": 232
    },
    "colab_type": "code",
    "id": "1Hq_tEFQ8254",
    "outputId": "e2749a3e-32ed-4c87-c33d-4518b52fc5fe"
   },
   "outputs": [
    {
     "name": "stdout",
     "output_type": "stream",
     "text": [
      "your power is sufficient i said\n"
     ]
    },
    {
     "name": "stderr",
     "output_type": "stream",
     "text": [
      "TensorFlow: v1.14.0-21-ge77504ac6b\n",
      "DeepSpeech: v0.6.0-0-g6d43e21\n",
      "Warning: reading entire model file into memory. Transform model file into an mmapped graph to reduce heap usage.\n",
      "2020-07-06 11:11:14.838662: I tensorflow/core/platform/cpu_feature_guard.cc:142] Your CPU supports instructions that this TensorFlow binary was not compiled to use: AVX2\n",
      "c:\\users\\kunal\\anaconda3\\envs\\gputest\\lib\\site-packages\\numpy\\_distributor_init.py:32: UserWarning: loaded more than 1 DLL from .libs:\n",
      "c:\\users\\kunal\\anaconda3\\envs\\gputest\\lib\\site-packages\\numpy\\.libs\\libopenblas.IPBC74C7KURV7CB2PKT5Z5FNR3SIBV4J.gfortran-win_amd64.dll\n",
      "c:\\users\\kunal\\anaconda3\\envs\\gputest\\lib\\site-packages\\numpy\\.libs\\libopenblas.TXA6YQSD3GCQQC22GEQ54J2UDCXDXHWN.gfortran-win_amd64.dll\n",
      "  stacklevel=1)\n",
      "Loading model from file deepspeech-0.6.0-models/output_graph.pb\n",
      "Loaded model in 1.19s.\n",
      "Loading language model from files deepspeech-0.6.0-models/lm.binary ./deepspeech-0.6.0-models/trie\n",
      "Loaded language model in 0.0214s.\n",
      "Running inference.\n",
      "Inference took 9.061s for 2.590s audio file.\n"
     ]
    }
   ],
   "source": [
    "!deepspeech --model deepspeech-0.6.0-models/output_graph.pb --lm deepspeech-0.6.0-models/lm.binary --trie ./deepspeech-0.6.0-models/trie --audio ./audio/8455-210777-0068.wav"
   ]
  },
  {
   "cell_type": "code",
   "execution_count": 19,
   "metadata": {
    "colab": {
     "base_uri": "https://localhost:8080/",
     "height": 35
    },
    "colab_type": "code",
    "id": "tU41WTEr9G-X",
    "outputId": "f97e9d98-8608-496f-9d74-14b729c0d595"
   },
   "outputs": [
    {
     "data": {
      "text/plain": [
       "0"
      ]
     },
     "execution_count": 19,
     "metadata": {},
     "output_type": "execute_result"
    }
   ],
   "source": [
    "import deepspeech\n",
    "\n",
    "model_file_path = 'deepspeech-0.6.0-models/output_graph.pbmm'\n",
    "beam_width = 500\n",
    "model = deepspeech.Model(model_file_path, beam_width)\n",
    "\n",
    "# Add language model for better accuracy\n",
    "lm_file_path = 'deepspeech-0.6.0-models/lm.binary'\n",
    "trie_file_path = 'deepspeech-0.6.0-models/trie'\n",
    "lm_alpha = 0.75\n",
    "lm_beta = 1.85\n",
    "model.enableDecoderWithLM(lm_file_path, trie_file_path, lm_alpha, lm_beta)"
   ]
  },
  {
   "cell_type": "code",
   "execution_count": 20,
   "metadata": {
    "colab": {
     "base_uri": "https://localhost:8080/",
     "height": 177
    },
    "colab_type": "code",
    "id": "MTaKt_rm9wY_",
    "outputId": "5cdd41c8-0ce0-4777-9da6-a9928c0fd68e"
   },
   "outputs": [
    {
     "name": "stdout",
     "output_type": "stream",
     "text": [
      "\n",
      "audio file=\"audio/2830-3980-0043.wav\"    expected text=\"experience proves this\"\n",
      "deepspeech-batch-stt: \"experience proof less\"\n",
      "\n",
      "audio file=\"audio/4507-16021-0012.wav\"    expected text=\"why should one halt on the way\"\n",
      "deepspeech-batch-stt: \"why should one halt on the way\"\n",
      "\n",
      "audio file=\"audio/8455-210777-0068.wav\"    expected text=\"your power is sufficient i said\"\n",
      "deepspeech-batch-stt: \"your power is sufficient i said\"\n"
     ]
    }
   ],
   "source": [
    "import numpy as np\n",
    "\n",
    "def deepspeech_batch_stt(filename: str, lang: str, encoding: str) -> str:\n",
    "    buffer, rate = read_wav_file(filename)\n",
    "    data16 = np.frombuffer(buffer, dtype=np.int16)\n",
    "    return model.stt(data16)\n",
    "\n",
    "# Run tests\n",
    "for t in TESTCASES:\n",
    "    print('\\naudio file=\"{0}\"    expected text=\"{1}\"'.format(t['filename'], t['text']))\n",
    "    print('deepspeech-batch-stt: \"{}\"'.format(\n",
    "        deepspeech_batch_stt(t['filename'], t['lang'], t['encoding'])\n",
    "    ))"
   ]
  },
  {
   "cell_type": "code",
   "execution_count": 21,
   "metadata": {
    "colab": {
     "base_uri": "https://localhost:8080/",
     "height": 479
    },
    "colab_type": "code",
    "id": "EU7lHQ2A-svH",
    "outputId": "9350a3f4-26e7-4514-9305-81bb04a4b43c"
   },
   "outputs": [
    {
     "name": "stdout",
     "output_type": "stream",
     "text": [
      "\n",
      "audio file=\"audio/2830-3980-0043.wav\"    expected text=\"experience proves this\"\n",
      "inetrim text: i\n",
      "inetrim text: e\n",
      "inetrim text: experi en\n",
      "inetrim text: experience pro\n",
      "inetrim text: experience proof les\n",
      "deepspeech-streaming-stt: \"experience proof less\"\n",
      "\n",
      "audio file=\"audio/4507-16021-0012.wav\"    expected text=\"why should one halt on the way\"\n",
      "inetrim text: i\n",
      "inetrim text: why shou\n",
      "inetrim text: why should one\n",
      "inetrim text: why should one haul\n",
      "inetrim text: why should one halt \n",
      "inetrim text: why should one halt on the \n",
      "deepspeech-streaming-stt: \"why should one halt on the way\"\n",
      "\n",
      "audio file=\"audio/8455-210777-0068.wav\"    expected text=\"your power is sufficient i said\"\n",
      "inetrim text: i\n",
      "inetrim text: your p\n",
      "inetrim text: your power is\n",
      "inetrim text: your power is suffi\n",
      "inetrim text: your power is sufficient i\n",
      "inetrim text: your power is sufficient i said\n",
      "deepspeech-streaming-stt: \"your power is sufficient i said\"\n"
     ]
    }
   ],
   "source": [
    "def deepspeech_streaming_stt(filename: str, lang: str, encoding: str) -> str:\n",
    "    buffer, rate = read_wav_file(filename)\n",
    "    audio_generator = simulate_stream(buffer)\n",
    "\n",
    "    # Create stream\n",
    "    context = model.createStream()\n",
    "\n",
    "    text = ''\n",
    "    for chunk in audio_generator:\n",
    "        data16 = np.frombuffer(chunk, dtype=np.int16)\n",
    "        # feed stream of chunks\n",
    "        model.feedAudioContent(context, data16)\n",
    "        interim_text = model.intermediateDecode(context)\n",
    "        if interim_text != text:\n",
    "            text = interim_text\n",
    "            print('inetrim text: {}'.format(text))\n",
    "\n",
    "    # get final resut and close stream\n",
    "    text = model.finishStream(context)\n",
    "    return text\n",
    "\n",
    "# Run tests\n",
    "for t in TESTCASES:\n",
    "    print('\\naudio file=\"{0}\"    expected text=\"{1}\"'.format(t['filename'], t['text']))\n",
    "    print('deepspeech-streaming-stt: \"{}\"'.format(\n",
    "        deepspeech_streaming_stt(t['filename'], t['lang'], t['encoding'])\n",
    "    ))"
   ]
  }
 ],
 "metadata": {
  "accelerator": "GPU",
  "colab": {
   "collapsed_sections": [],
   "name": "python_speech_recognition.ipynb",
   "provenance": []
  },
  "kernelspec": {
   "display_name": "gputest",
   "language": "python",
   "name": "gputest"
  },
  "language_info": {
   "codemirror_mode": {
    "name": "ipython",
    "version": 3
   },
   "file_extension": ".py",
   "mimetype": "text/x-python",
   "name": "python",
   "nbconvert_exporter": "python",
   "pygments_lexer": "ipython3",
   "version": "3.7.5"
  }
 },
 "nbformat": 4,
 "nbformat_minor": 1
}
