{
 "cells": [
  {
   "cell_type": "code",
   "execution_count": 0,
   "metadata": {
    "colab": {
     "base_uri": "https://localhost:8080/",
     "height": 34
    },
    "colab_type": "code",
    "id": "P-TZJ-GsQ6Ux",
    "outputId": "d772196d-e332-4750-f89c-3533795db3ed"
   },
   "outputs": [
    {
     "name": "stdout",
     "output_type": "stream",
     "text": [
      "TensorFlow 2.x selected.\n"
     ]
    }
   ],
   "source": [
    "try:\n",
    "  # %tensorflow_version only exists in Colab.\n",
    "  %tensorflow_version 2.x\n",
    "except Exception:\n",
    "  pass"
   ]
  },
  {
   "cell_type": "code",
   "execution_count": 0,
   "metadata": {
    "colab": {},
    "colab_type": "code",
    "id": "jP3k0ljEQgp1"
   },
   "outputs": [],
   "source": [
    "import numpy as np\n",
    "import tensorflow as tf"
   ]
  },
  {
   "cell_type": "markdown",
   "metadata": {
    "colab_type": "text",
    "id": "mqLHeTh_UpTJ"
   },
   "source": [
    "## Fetching the Data \n",
    "\n",
    "This is a bit annoying. But to download from kaggle we need to upload the API key here. Then we need to move the file to the correct folder after which we need to change the permissions. The error messages will not provide helpful information. Then again, this code works;"
   ]
  },
  {
   "cell_type": "code",
   "execution_count": 0,
   "metadata": {
    "colab": {},
    "colab_type": "code",
    "id": "8qx7JAWSTkWY"
   },
   "outputs": [],
   "source": [
    "# from google.colab import files\n",
    "# files.upload()"
   ]
  },
  {
   "cell_type": "code",
   "execution_count": 0,
   "metadata": {
    "colab": {
     "base_uri": "https://localhost:8080/",
     "height": 69
    },
    "colab_type": "code",
    "id": "lfda-NQGUiN1",
    "outputId": "e7c48cef-ba5f-4f32-c281-37d65428ebbf"
   },
   "outputs": [
    {
     "name": "stdout",
     "output_type": "stream",
     "text": [
      "Downloading million-headlines.zip to /content\n",
      " 44% 9.00M/20.2M [00:00<00:00, 54.6MB/s]\n",
      "100% 20.2M/20.2M [00:00<00:00, 80.4MB/s]\n"
     ]
    }
   ],
   "source": [
    "! cp kaggle.json ~/.kaggle/\n",
    "! chmod 600 ~/.kaggle/kaggle.json\n",
    "! kaggle datasets download -d therohk/million-headlines"
   ]
  },
  {
   "cell_type": "code",
   "execution_count": 0,
   "metadata": {
    "colab": {},
    "colab_type": "code",
    "id": "kYxYOwUhU8YC"
   },
   "outputs": [],
   "source": [
    "import pandas as pd\n",
    "headlines = pd.read_csv('million-headlines.zip')['headline_text']"
   ]
  },
  {
   "cell_type": "markdown",
   "metadata": {
    "colab_type": "text",
    "id": "ttXDwNveVRt6"
   },
   "source": [
    "## Sequence of Letters \n",
    "\n",
    "Let's now take these headlines and grab sequences of letters out of them."
   ]
  },
  {
   "cell_type": "code",
   "execution_count": 0,
   "metadata": {
    "colab": {
     "base_uri": "https://localhost:8080/",
     "height": 34
    },
    "colab_type": "code",
    "id": "banoSM0VWuRG",
    "outputId": "7a4a5969-6a6a-4bbf-8ee0-5e86d994c2d9"
   },
   "outputs": [
    {
     "data": {
      "text/plain": [
       "'aba decides against community broadcasting licence'"
      ]
     },
     "execution_count": 10,
     "metadata": {
      "tags": []
     },
     "output_type": "execute_result"
    }
   ],
   "source": [
    "headlines[0]"
   ]
  },
  {
   "cell_type": "code",
   "execution_count": 0,
   "metadata": {
    "colab": {},
    "colab_type": "code",
    "id": "EwVCjxOPV1Hi"
   },
   "outputs": [],
   "source": [
    "import itertools as it \n",
    "\n",
    "def sliding_window(txt):\n",
    "  for i in range(len(txt) - 2):\n",
    "    yield txt[i], txt[i + 1], txt[i + 2]\n",
    "\n",
    "window = list(it.chain(*[sliding_window(_) for _ in headlines[:10000]]))"
   ]
  },
  {
   "cell_type": "code",
   "execution_count": 0,
   "metadata": {
    "colab": {},
    "colab_type": "code",
    "id": "K_Elh9ezX1c6"
   },
   "outputs": [],
   "source": [
    "mapping = {c: i for i, c in enumerate(pd.DataFrame(window)[0].unique())}\n",
    "integers_in = np.array([[mapping[w[0]], mapping[w[1]]] for w in window])\n",
    "integers_out = np.array([mapping[w[2]] for w in window]).reshape(-1, 1)"
   ]
  },
  {
   "cell_type": "code",
   "execution_count": 0,
   "metadata": {
    "colab": {
     "base_uri": "https://localhost:8080/",
     "height": 34
    },
    "colab_type": "code",
    "id": "Zaj-gjdAYzoA",
    "outputId": "3f5d2198-6004-4f16-f53c-72a23d8aee1b"
   },
   "outputs": [
    {
     "data": {
      "text/plain": [
       "(376880, 2)"
      ]
     },
     "execution_count": 13,
     "metadata": {
      "tags": []
     },
     "output_type": "execute_result"
    }
   ],
   "source": [
    "integers_in.shape"
   ]
  },
  {
   "cell_type": "code",
   "execution_count": 0,
   "metadata": {
    "colab": {
     "base_uri": "https://localhost:8080/",
     "height": 34
    },
    "colab_type": "code",
    "id": "Pmt1k0YhQi0m",
    "outputId": "47cd0975-f3c0-470c-f2dd-3aa12f9b23f5"
   },
   "outputs": [
    {
     "data": {
      "text/plain": [
       "(376880, 2, 2)"
      ]
     },
     "execution_count": 14,
     "metadata": {
      "tags": []
     },
     "output_type": "execute_result"
    }
   ],
   "source": [
    "from tensorflow.keras.layers import Embedding, Dense, Flatten\n",
    "from tensorflow.keras.models import Sequential\n",
    "\n",
    "num_letters = len(mapping) # typically 36 -> 26 letters + 10 numbers\n",
    "\n",
    "# this one is so we might grab the embeddings\n",
    "model_emb = Sequential()\n",
    "embedding = Embedding(num_letters, 2, input_length=2)\n",
    "model_emb.add(embedding)\n",
    "output_array = model_emb.predict(integers_in)\n",
    "output_array.shape"
   ]
  },
  {
   "cell_type": "code",
   "execution_count": 0,
   "metadata": {
    "colab": {
     "base_uri": "https://localhost:8080/",
     "height": 265
    },
    "colab_type": "code",
    "id": "6SCmddYQjiTq",
    "outputId": "3a85314e-fd5d-420a-edb2-680cc4f11cdf"
   },
   "outputs": [
    {
     "data": {
      "image/png": "[encoded data removed]",
      "text/plain": [
       "<Figure size 432x288 with 1 Axes>"
      ]
     },
     "metadata": {
      "tags": []
     },
     "output_type": "display_data"
    }
   ],
   "source": [
    "import matplotlib.pylab as plt\n",
    "\n",
    "idx_to_calc = list(mapping.values())\n",
    "idx_to_calc = np.array([idx_to_calc, idx_to_calc]).T\n",
    "\n",
    "translator = {v:k for k,v in mapping.items()}\n",
    "preds = model_emb.predict(idx_to_calc)\n",
    "\n",
    "plt.scatter(preds[:, 0, 0], preds[:, 0, 1], alpha=0)\n",
    "for i, idx in enumerate(idx_to_calc):\n",
    "  plt.text(preds[i, 0, 0], preds[i, 0, 1], translator[idx[0]])"
   ]
  },
  {
   "cell_type": "code",
   "execution_count": 0,
   "metadata": {
    "colab": {
     "base_uri": "https://localhost:8080/",
     "height": 34
    },
    "colab_type": "code",
    "id": "pEmpigx8aNEu",
    "outputId": "0f81f5f7-87ee-4115-b523-74681b24fbfd"
   },
   "outputs": [
    {
     "data": {
      "text/plain": [
       "(376880, 37)"
      ]
     },
     "execution_count": 16,
     "metadata": {
      "tags": []
     },
     "output_type": "execute_result"
    }
   ],
   "source": [
    "from tensorflow.keras.optimizers import Adam\n",
    "\n",
    "# this one is so we might learn the mapping\n",
    "model_pred = Sequential()\n",
    "model_pred.add(embedding)\n",
    "model_pred.add(Flatten())\n",
    "model_pred.add(Dense(num_letters, activation=\"softmax\"))\n",
    "\n",
    "adam = Adam(learning_rate=0.001, beta_1=0.9, beta_2=0.999, amsgrad=False)\n",
    "\n",
    "model_pred.compile(adam, 'categorical_crossentropy', metrics=['accuracy'])\n",
    "\n",
    "output_array = model_pred.predict(integers_in)\n",
    "output_array.shape"
   ]
  },
  {
   "cell_type": "code",
   "execution_count": 0,
   "metadata": {
    "colab": {
     "base_uri": "https://localhost:8080/",
     "height": 1000
    },
    "colab_type": "code",
    "id": "c5e5KjaSRfIn",
    "outputId": "5a024763-db4e-478b-aec3-d9644e31aafd"
   },
   "outputs": [
    {
     "name": "stdout",
     "output_type": "stream",
     "text": [
      "Train on 376880 samples\n",
      "Epoch 1/30\n",
      "376880/376880 [==============================] - 20s 53us/sample - loss: 2.6621 - accuracy: 0.2179\n",
      "Epoch 2/30\n",
      "376880/376880 [==============================] - 20s 53us/sample - loss: 2.5821 - accuracy: 0.2296\n",
      "Epoch 3/30\n",
      "376880/376880 [==============================] - 20s 52us/sample - loss: 2.5776 - accuracy: 0.2294\n",
      "Epoch 4/30\n",
      "376880/376880 [==============================] - 20s 52us/sample - loss: 2.5756 - accuracy: 0.2296\n",
      "Epoch 5/30\n",
      "376880/376880 [==============================] - 20s 52us/sample - loss: 2.5743 - accuracy: 0.2297\n",
      "Epoch 6/30\n",
      "376880/376880 [==============================] - 20s 52us/sample - loss: 2.5729 - accuracy: 0.2292\n",
      "Epoch 7/30\n",
      "376880/376880 [==============================] - 20s 52us/sample - loss: 2.5714 - accuracy: 0.2299\n",
      "Epoch 8/30\n",
      "376880/376880 [==============================] - 20s 53us/sample - loss: 2.5703 - accuracy: 0.2300\n",
      "Epoch 9/30\n",
      "376880/376880 [==============================] - 20s 52us/sample - loss: 2.5694 - accuracy: 0.2304\n",
      "Epoch 10/30\n",
      "376880/376880 [==============================] - 20s 52us/sample - loss: 2.5686 - accuracy: 0.2309\n",
      "Epoch 11/30\n",
      "376880/376880 [==============================] - 20s 52us/sample - loss: 2.5679 - accuracy: 0.2302\n",
      "Epoch 12/30\n",
      "376880/376880 [==============================] - 20s 52us/sample - loss: 2.5673 - accuracy: 0.2309\n",
      "Epoch 13/30\n",
      "376880/376880 [==============================] - 20s 53us/sample - loss: 2.5669 - accuracy: 0.2305\n",
      "Epoch 14/30\n",
      "376880/376880 [==============================] - 20s 53us/sample - loss: 2.5665 - accuracy: 0.2305\n",
      "Epoch 15/30\n",
      "376880/376880 [==============================] - 20s 52us/sample - loss: 2.5661 - accuracy: 0.2303\n",
      "Epoch 16/30\n",
      "376880/376880 [==============================] - 19s 52us/sample - loss: 2.5659 - accuracy: 0.2300\n",
      "Epoch 17/30\n",
      "376880/376880 [==============================] - 19s 52us/sample - loss: 2.5656 - accuracy: 0.2302\n",
      "Epoch 18/30\n",
      "376880/376880 [==============================] - 20s 52us/sample - loss: 2.5653 - accuracy: 0.2298\n",
      "Epoch 19/30\n",
      "376880/376880 [==============================] - 20s 52us/sample - loss: 2.5652 - accuracy: 0.2301\n",
      "Epoch 20/30\n",
      "376880/376880 [==============================] - 19s 52us/sample - loss: 2.5651 - accuracy: 0.2299\n",
      "Epoch 21/30\n",
      "376880/376880 [==============================] - 19s 52us/sample - loss: 2.5649 - accuracy: 0.2295\n",
      "Epoch 22/30\n",
      "376880/376880 [==============================] - 20s 52us/sample - loss: 2.5647 - accuracy: 0.2303\n",
      "Epoch 23/30\n",
      "376880/376880 [==============================] - 19s 51us/sample - loss: 2.5646 - accuracy: 0.2298\n",
      "Epoch 24/30\n",
      "376880/376880 [==============================] - 20s 52us/sample - loss: 2.5644 - accuracy: 0.2298\n",
      "Epoch 25/30\n",
      "376880/376880 [==============================] - 19s 52us/sample - loss: 2.5644 - accuracy: 0.2298\n",
      "Epoch 26/30\n",
      "376880/376880 [==============================] - 19s 51us/sample - loss: 2.5642 - accuracy: 0.2296\n",
      "Epoch 27/30\n",
      "376880/376880 [==============================] - 19s 51us/sample - loss: 2.5642 - accuracy: 0.2300\n",
      "Epoch 28/30\n",
      "376880/376880 [==============================] - 19s 51us/sample - loss: 2.5641 - accuracy: 0.2296\n",
      "Epoch 29/30\n",
      "376880/376880 [==============================] - 20s 52us/sample - loss: 2.5640 - accuracy: 0.2297\n",
      "Epoch 30/30\n",
      "376880/376880 [==============================] - 20s 52us/sample - loss: 2.5640 - accuracy: 0.2296\n"
     ]
    },
    {
     "data": {
      "text/plain": [
       "<tensorflow.python.keras.callbacks.History at 0x7f1eb6ebb2b0>"
      ]
     },
     "execution_count": 17,
     "metadata": {
      "tags": []
     },
     "output_type": "execute_result"
    }
   ],
   "source": [
    "from sklearn.preprocessing import OneHotEncoder\n",
    "\n",
    "to_predict = OneHotEncoder(sparse=False).fit_transform(integers_out)\n",
    "model_pred.fit(integers_in, to_predict, epochs=30, verbose=1)"
   ]
  },
  {
   "cell_type": "code",
   "execution_count": 0,
   "metadata": {
    "colab": {
     "base_uri": "https://localhost:8080/",
     "height": 265
    },
    "colab_type": "code",
    "id": "15mlBdDOcmNx",
    "outputId": "5d4682e4-fd64-484b-e2cc-ff86bdaf2871"
   },
   "outputs": [
    {
     "data": {
      "image/png": "[encoded data removed]",
      "text/plain": [
       "<Figure size 432x288 with 1 Axes>"
      ]
     },
     "metadata": {
      "tags": []
     },
     "output_type": "display_data"
    }
   ],
   "source": [
    "preds = model_emb.predict(idx_to_calc)\n",
    "plt.scatter(preds[:, 0, 0], preds[:, 0, 1], alpha=0)\n",
    "for i, idx in enumerate(idx_to_calc):\n",
    "  plt.text(preds[i, 0, 0], preds[i, 0, 1], translator[idx[0]])"
   ]
  },
  {
   "cell_type": "code",
   "execution_count": 0,
   "metadata": {
    "colab": {},
    "colab_type": "code",
    "id": "QQp8gi3fftUz"
   },
   "outputs": [],
   "source": []
  }
 ],
 "metadata": {
  "colab": {
   "collapsed_sections": [],
   "name": "algo-whiteboard-letter-embeddings-v2.ipynb",
   "provenance": []
  },
  "kernelspec": {
   "display_name": "Python 3",
   "language": "python",
   "name": "python3"
  }
 },
 "nbformat": 4,
 "nbformat_minor": 1
}
