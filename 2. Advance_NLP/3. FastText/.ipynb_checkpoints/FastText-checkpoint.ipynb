{
 "cells": [
  {
   "cell_type": "markdown",
   "metadata": {
    "colab_type": "text",
    "id": "kg9kgMnGqYkU"
   },
   "source": [
    "#### Install [FastText](https://fasttext.cc/docs/en/supervised-tutorial.html)"
   ]
  },
  {
   "cell_type": "code",
   "execution_count": null,
   "metadata": {
    "colab": {
     "base_uri": "https://localhost:8080/",
     "height": 11051
    },
    "colab_type": "code",
    "id": "3Iod5UKTqZnC",
    "outputId": "b10c85c0-c4cf-4f0b-a30e-2207ae4512b2"
   },
   "outputs": [],
   "source": [
    "# !wget https://github.com/facebookresearch/fastText/archive/0.2.0.zip\n",
    "# !unzip 0.2.0.zip\n",
    "# %cd fastText-0.2.0\n",
    "# !make"
   ]
  },
  {
   "cell_type": "markdown",
   "metadata": {
    "colab_type": "text",
    "id": "5JauDviyqqL-"
   },
   "source": [
    "#### Make simple dataset"
   ]
  },
  {
   "cell_type": "code",
   "execution_count": 1,
   "metadata": {
    "colab": {},
    "colab_type": "code",
    "id": "ALMQ3gjFqqZS"
   },
   "outputs": [],
   "source": [
    "# 1 is positive, 0 is negative\n",
    "f = open('train.txt', 'w')\n",
    "f.write('__label__1 i love you\\n')\n",
    "f.write('__label__1 he loves me\\n')\n",
    "f.write('__label__1 she likes baseball\\n')\n",
    "f.write('__label__0 i hate you\\n')\n",
    "f.write('__label__0 sorry for that\\n')\n",
    "f.write('__label__0 this is awful')\n",
    "f.close()\n",
    "\n",
    "f = open('test.txt', 'w')\n",
    "f.write('sorry hate you')\n",
    "f.close()"
   ]
  },
  {
   "cell_type": "code",
   "execution_count": 2,
   "metadata": {},
   "outputs": [],
   "source": [
    "from fastText import train_unsupervised\n",
    "model = train_unsupervised(input=\"train.txt\", model='skipgram')\n",
    "model.save_model('model.bin')"
   ]
  },
  {
   "cell_type": "code",
   "execution_count": 4,
   "metadata": {},
   "outputs": [
    {
     "data": {
      "text/plain": [
       "[array([ 1.28876884e-03,  8.03385745e-04, -4.35619848e-04, -5.46297058e-04,\n",
       "        -8.56190454e-04, -1.73219154e-03,  2.69652024e-04, -6.95449417e-04,\n",
       "         4.91129118e-04, -1.94576581e-03,  4.59991890e-04, -1.49171671e-03,\n",
       "         4.99503047e-04, -4.10348322e-04, -1.25942158e-03,  2.47515715e-03,\n",
       "        -7.98151712e-04, -1.48877432e-03,  1.01103703e-03,  2.29840240e-04,\n",
       "         5.23167779e-04,  1.23852969e-03,  1.46973680e-03, -1.73853623e-04,\n",
       "        -1.16325938e-03, -1.21747865e-03,  8.21988506e-04,  3.81752398e-05,\n",
       "        -1.99916144e-03,  6.38311554e-04,  5.81110420e-04,  7.70543877e-04,\n",
       "        -6.68799548e-05,  4.44208010e-04,  9.63677667e-05, -5.56171464e-04,\n",
       "        -1.96283101e-03, -1.66932715e-03, -2.64185306e-04, -1.21027709e-03,\n",
       "         4.66804660e-04,  1.54030684e-03,  5.58689761e-04,  9.05785128e-04,\n",
       "         1.71460921e-03,  1.59760553e-03,  7.59265851e-04, -2.26094649e-04,\n",
       "        -1.35212217e-03, -5.08897298e-04,  2.72247638e-03,  1.32054498e-03,\n",
       "        -1.37109100e-03,  2.10897299e-03, -1.04882187e-04,  8.42214329e-04,\n",
       "         1.59677526e-03,  6.48963905e-04,  8.97540740e-05,  1.14170986e-03,\n",
       "         9.10096060e-05, -4.50160442e-04,  1.52977498e-03, -1.83833390e-03,\n",
       "         1.96529110e-03, -3.16891965e-04, -1.11795394e-04, -2.24067620e-03,\n",
       "         4.15072427e-04,  1.91674486e-03,  1.18761505e-04, -4.65026213e-04,\n",
       "        -4.61248237e-05,  1.82318315e-03,  7.35249370e-04,  5.06947326e-05,\n",
       "        -3.91698326e-04, -6.65348314e-04,  1.28923252e-03,  1.52650056e-03,\n",
       "        -5.87593473e-04, -4.79177688e-04, -7.23639154e-04, -4.17580886e-04,\n",
       "        -8.99132574e-05,  1.36989495e-03, -8.52651079e-04, -3.29694292e-03,\n",
       "        -1.63976359e-03,  4.05336905e-04, -1.10330316e-03, -6.63902261e-04,\n",
       "         1.50096457e-04, -1.08000042e-03,  8.27282842e-04, -1.52235923e-04,\n",
       "        -1.48256705e-03, -6.81443431e-04,  1.55129889e-03,  1.11061765e-03],\n",
       "       dtype=float32),\n",
       " array([ 9.9959457e-04, -1.7943728e-03,  7.1031600e-04, -1.2882696e-04,\n",
       "        -3.6293215e-03,  1.4176570e-03, -2.2701572e-03,  1.1612320e-04,\n",
       "        -2.4695884e-04, -1.3348689e-04,  6.6610146e-04,  2.6042187e-03,\n",
       "        -3.1600930e-04, -6.5325398e-04,  1.1829889e-03, -7.7825057e-04,\n",
       "        -1.2564728e-03, -1.2116859e-03, -1.2527189e-03,  1.2292118e-03,\n",
       "         3.9638532e-04, -2.2399931e-03,  1.1094142e-03, -2.3150621e-03,\n",
       "         1.2531988e-03,  1.2205525e-03, -1.1238552e-03, -5.7433383e-04,\n",
       "         1.9677605e-03,  1.6576857e-03,  6.7703804e-04,  5.1779510e-04,\n",
       "        -1.4764927e-03,  4.8276622e-04, -2.5788860e-03,  5.9268761e-05,\n",
       "         5.3346535e-04, -2.4036458e-03,  8.7409333e-04, -5.6949939e-04,\n",
       "        -1.1910527e-03,  7.5299799e-04,  1.2840268e-04,  7.8424480e-04,\n",
       "         7.1241520e-05, -9.4226643e-04, -2.0482345e-03,  1.0734857e-03,\n",
       "        -9.4263890e-04, -2.1386864e-03,  6.0340844e-04, -7.7865447e-04,\n",
       "         1.7861013e-03,  2.7034928e-03,  3.3718434e-03, -1.4733495e-03,\n",
       "         1.5704007e-03,  1.1483109e-04,  3.4898217e-04,  2.6871525e-03,\n",
       "         4.6098177e-04, -1.9943363e-03,  2.2239781e-03, -1.3298357e-03,\n",
       "        -8.2550780e-04, -2.0914615e-04, -2.8464044e-04, -1.5719530e-04,\n",
       "        -1.7716417e-03,  9.1261376e-04,  1.9580338e-03,  1.2371776e-03,\n",
       "        -1.5293781e-03, -5.8615179e-04, -1.0979769e-03, -1.9338876e-03,\n",
       "        -6.9735106e-04, -1.4748964e-03,  7.4557611e-04, -5.7504053e-04,\n",
       "        -1.1266632e-03, -5.2265746e-05, -2.0225512e-04,  2.2968743e-03,\n",
       "        -2.1889257e-04, -4.2323439e-04, -1.0371469e-03, -8.7874569e-04,\n",
       "        -2.0587293e-03,  1.1171483e-03,  2.3434826e-04, -2.3448621e-03,\n",
       "         1.2478696e-03, -3.4627263e-04, -3.6183084e-04, -9.8268117e-04,\n",
       "        -6.6419953e-04,  1.7049798e-03, -4.6642651e-04,  5.7443365e-04],\n",
       "       dtype=float32),\n",
       " array([-5.8129884e-04,  1.1617519e-03, -1.9948981e-03, -9.6025638e-04,\n",
       "         8.1424433e-04, -7.7000901e-04, -1.9341989e-03,  2.1444245e-03,\n",
       "        -2.6228311e-04,  8.7470043e-04,  4.6443898e-04, -7.2941708e-04,\n",
       "        -2.1112757e-03,  1.5589092e-03,  5.7906931e-04, -7.0855871e-04,\n",
       "        -3.5142279e-04, -2.3937300e-03, -8.3688687e-04, -2.3017581e-04,\n",
       "         9.2720782e-04,  1.3857614e-04,  3.2369161e-04, -3.2324812e-04,\n",
       "         1.0557375e-03, -1.2995527e-03,  2.2327817e-04, -1.1468782e-03,\n",
       "        -4.0191613e-04,  1.4909981e-04, -1.5741028e-03, -2.0094151e-03,\n",
       "        -1.9812554e-03,  4.3035066e-04, -6.3064334e-04,  7.0090305e-06,\n",
       "        -5.7379447e-04,  1.3843080e-03,  1.1574442e-04, -6.1534287e-04,\n",
       "        -1.1971728e-03, -7.5647171e-04, -9.4948286e-05, -1.5957720e-04,\n",
       "         9.7717775e-04,  1.5384187e-03, -1.3738852e-03,  3.1040501e-04,\n",
       "        -1.7853972e-04,  8.9285924e-05, -2.6733976e-05, -1.3207919e-03,\n",
       "         2.3504684e-03,  6.5597019e-04, -2.7201271e-03,  7.4908283e-04,\n",
       "         9.6181357e-05, -4.2652327e-04, -1.3517467e-03,  1.5113404e-03,\n",
       "        -5.3493022e-05, -1.7748994e-03, -2.1174580e-03,  2.3143495e-04,\n",
       "        -2.2548521e-03, -5.7278969e-04,  5.8575091e-04, -1.8937673e-03,\n",
       "        -4.7257502e-04, -7.7587576e-04,  1.6533198e-03,  6.4018118e-04,\n",
       "        -1.5673552e-03, -1.6843742e-03,  2.0108782e-03, -1.9802283e-04,\n",
       "         5.0048530e-04, -8.5080374e-04, -6.9162442e-04,  1.3716124e-03,\n",
       "         1.6232604e-03,  6.3527009e-04,  2.1507549e-03,  1.4658940e-03,\n",
       "        -1.8205661e-03, -1.1310746e-03,  1.1632119e-03, -3.5821955e-04,\n",
       "        -1.3808120e-03, -3.0991181e-05, -1.7871583e-03, -1.2871064e-03,\n",
       "         1.4955163e-03, -1.9602545e-03,  2.0642823e-03, -1.6243053e-03,\n",
       "        -9.0840767e-04, -1.1690896e-03, -1.1791440e-03,  7.9120509e-05],\n",
       "       dtype=float32)]"
      ]
     },
     "execution_count": 4,
     "metadata": {},
     "output_type": "execute_result"
    }
   ],
   "source": [
    "[model.get_word_vector(x) for x in [\"asparagus\", \"pidgey\", \"yellow\"]]"
   ]
  },
  {
   "cell_type": "code",
   "execution_count": 5,
   "metadata": {},
   "outputs": [
    {
     "data": {
      "text/plain": [
       "array([-5.74549427e-04, -8.55598715e-04, -1.10501295e-03, -5.75166778e-04,\n",
       "        1.51760352e-04,  1.51809631e-03, -1.29671500e-03, -2.03740405e-04,\n",
       "       -1.06448389e-03, -1.92933527e-04, -8.89145187e-04,  6.17700338e-04,\n",
       "        1.40742946e-03,  1.81127130e-03, -4.47793427e-04, -5.49969671e-04,\n",
       "       -1.02598441e-03,  3.10292031e-04, -1.68625277e-03, -9.13654440e-05,\n",
       "        9.55902040e-04, -1.78537011e-05, -9.16905556e-05, -2.12155795e-03,\n",
       "        1.02620535e-04,  1.14873529e-03, -4.10598092e-04,  4.73283231e-04,\n",
       "        7.37322494e-04, -7.69541832e-04, -1.63685418e-05,  4.07608386e-05,\n",
       "       -3.56098346e-04, -4.60949610e-04,  1.67377701e-04,  1.25388557e-03,\n",
       "       -3.60720907e-04, -7.98856432e-04, -1.89988248e-04,  6.02367118e-06,\n",
       "        6.39017322e-04,  1.35254103e-03, -1.74443505e-03,  9.70183057e-04,\n",
       "        1.98686705e-03, -5.17680135e-04, -9.98677686e-04,  1.25460466e-03,\n",
       "        7.23283214e-04, -8.00955342e-04,  1.10887794e-03,  4.21374483e-04,\n",
       "        1.62341050e-03, -2.04316364e-03,  1.16901938e-04, -2.59143912e-04,\n",
       "        6.90927664e-06, -3.13622761e-04,  1.02181581e-03,  2.97489809e-04,\n",
       "       -5.16234832e-05, -3.54223506e-04,  5.14587118e-05,  4.01736615e-04,\n",
       "        5.87088638e-04, -9.13348980e-04,  3.11109703e-04, -1.31605993e-04,\n",
       "        8.01855276e-05, -8.86565133e-04, -1.72179018e-03,  1.21811067e-03,\n",
       "       -3.31831136e-04,  1.57936662e-03,  2.18780572e-03,  2.01892355e-04,\n",
       "       -3.21974163e-04, -1.20870327e-03,  1.73383873e-04, -1.83935917e-04,\n",
       "        3.64456588e-04, -3.27353628e-04,  8.70312506e-04, -8.12083657e-04,\n",
       "       -1.37364585e-03, -1.70482017e-04,  1.74265180e-04,  2.20818096e-03,\n",
       "       -7.69901380e-05,  7.85185606e-04, -9.84790036e-04,  1.10817095e-03,\n",
       "        2.21388109e-04,  2.43214285e-03, -6.84903527e-04, -9.62092949e-04,\n",
       "        8.35271261e-04,  4.48247651e-04, -2.24636449e-03,  1.41115044e-03],\n",
       "      dtype=float32)"
      ]
     },
     "execution_count": 5,
     "metadata": {},
     "output_type": "execute_result"
    }
   ],
   "source": [
    "model.get_word_vector(\"enviroment\")"
   ]
  },
  {
   "cell_type": "markdown",
   "metadata": {},
   "source": [
    "#### Example"
   ]
  },
  {
   "cell_type": "code",
   "execution_count": 20,
   "metadata": {},
   "outputs": [
    {
     "name": "stderr",
     "output_type": "stream",
     "text": [
      "Using TensorFlow backend.\n",
      "WARNING: Logging before flag parsing goes to stderr.\n",
      "W0603 17:41:57.791208  2980 __init__.py:308] Limited tf.compat.v2.summary API due to missing TensorBoard installation.\n",
      "[nltk_data] Downloading package punkt to\n",
      "[nltk_data]     C:\\Users\\Kunal\\AppData\\Roaming\\nltk_data...\n",
      "[nltk_data]   Package punkt is already up-to-date!\n",
      "[nltk_data] Downloading package wordnet to\n",
      "[nltk_data]     C:\\Users\\Kunal\\AppData\\Roaming\\nltk_data...\n",
      "[nltk_data]   Package wordnet is already up-to-date!\n",
      "[nltk_data] Downloading package stopwords to\n",
      "[nltk_data]     C:\\Users\\Kunal\\AppData\\Roaming\\nltk_data...\n",
      "[nltk_data]   Package stopwords is already up-to-date!\n"
     ]
    }
   ],
   "source": [
    "#import\n",
    "from keras.preprocessing.text import Tokenizer\n",
    "from gensim.models.fasttext import FastText\n",
    "import numpy as np\n",
    "import matplotlib.pyplot as plt\n",
    "import nltk\n",
    "from string import punctuation\n",
    "from nltk.corpus import stopwords\n",
    "from nltk.tokenize import word_tokenize\n",
    "from nltk.stem import WordNetLemmatizer\n",
    "from nltk.tokenize import sent_tokenize\n",
    "from nltk import WordPunctTokenizer\n",
    "\n",
    "import wikipedia\n",
    "import nltk\n",
    "nltk.download('punkt')\n",
    "nltk.download('wordnet')\n",
    "nltk.download('stopwords')\n",
    "en_stop = set(nltk.corpus.stopwords.words('english'))\n",
    "\n",
    "%matplotlib inline"
   ]
  },
  {
   "cell_type": "markdown",
   "metadata": {},
   "source": [
    "#### Scraping Wikipedia Articles"
   ]
  },
  {
   "cell_type": "code",
   "execution_count": 22,
   "metadata": {},
   "outputs": [],
   "source": [
    "artificial_intelligence = wikipedia.page(\"Artificial Intelligence\").content\n",
    "machine_learning = wikipedia.page(\"Machine Learning\").content\n",
    "deep_learning = wikipedia.page(\"Deep Learning\").content\n",
    "neural_network = wikipedia.page(\"Neural Network\").content\n",
    "\n",
    "artificial_intelligence = sent_tokenize(artificial_intelligence)\n",
    "machine_learning = sent_tokenize(machine_learning)\n",
    "deep_learning = sent_tokenize(deep_learning)\n",
    "neural_network = sent_tokenize(neural_network)\n",
    "\n",
    "artificial_intelligence.extend(machine_learning)\n",
    "artificial_intelligence.extend(deep_learning)\n",
    "artificial_intelligence.extend(neural_network)"
   ]
  },
  {
   "cell_type": "markdown",
   "metadata": {},
   "source": [
    "#### Data Preprocessing"
   ]
  },
  {
   "cell_type": "code",
   "execution_count": 23,
   "metadata": {},
   "outputs": [],
   "source": [
    "import re\n",
    "from nltk.stem import WordNetLemmatizer\n",
    "\n",
    "stemmer = WordNetLemmatizer()\n",
    "\n",
    "def preprocess_text(document):\n",
    "        # Remove all the special characters\n",
    "        document = re.sub(r'\\W', ' ', str(document))\n",
    "\n",
    "        # remove all single characters\n",
    "        document = re.sub(r'\\s+[a-zA-Z]\\s+', ' ', document)\n",
    "\n",
    "        # Remove single characters from the start\n",
    "        document = re.sub(r'\\^[a-zA-Z]\\s+', ' ', document)\n",
    "\n",
    "        # Substituting multiple spaces with single space\n",
    "        document = re.sub(r'\\s+', ' ', document, flags=re.I)\n",
    "\n",
    "        # Removing prefixed 'b'\n",
    "        document = re.sub(r'^b\\s+', '', document)\n",
    "\n",
    "        # Converting to Lowercase\n",
    "        document = document.lower()\n",
    "\n",
    "        # Lemmatization\n",
    "        tokens = document.split()\n",
    "        tokens = [stemmer.lemmatize(word) for word in tokens]\n",
    "        tokens = [word for word in tokens if word not in en_stop]\n",
    "        tokens = [word for word in tokens if len(word) > 3]\n",
    "\n",
    "        preprocessed_text = ' '.join(tokens)\n",
    "\n",
    "        return preprocessed_text"
   ]
  },
  {
   "cell_type": "code",
   "execution_count": 24,
   "metadata": {},
   "outputs": [
    {
     "name": "stdout",
     "output_type": "stream",
     "text": [
      "artificial intelligence advanced technology present\n"
     ]
    }
   ],
   "source": [
    "sent = preprocess_text(\"Artificial intelligence, is the most advanced technology of the present era\")\n",
    "print(sent)\n",
    "\n",
    "\n",
    "final_corpus = [preprocess_text(sentence) for sentence in artificial_intelligence if sentence.strip() !='']\n",
    "\n",
    "word_punctuation_tokenizer = nltk.WordPunctTokenizer()\n",
    "word_tokenized_corpus = [word_punctuation_tokenizer.tokenize(sent) for sent in final_corpus]"
   ]
  },
  {
   "cell_type": "markdown",
   "metadata": {},
   "source": [
    "#### Creating Words Representation"
   ]
  },
  {
   "cell_type": "code",
   "execution_count": 25,
   "metadata": {},
   "outputs": [],
   "source": [
    "embedding_size = 60\n",
    "window_size = 40\n",
    "min_word = 5\n",
    "down_sampling = 1e-2"
   ]
  },
  {
   "cell_type": "code",
   "execution_count": 26,
   "metadata": {},
   "outputs": [
    {
     "name": "stdout",
     "output_type": "stream",
     "text": [
      "Wall time: 25.1 s\n"
     ]
    }
   ],
   "source": [
    "%%time\n",
    "ft_model = FastText(word_tokenized_corpus,\n",
    "                      size=embedding_size,\n",
    "                      window=window_size,\n",
    "                      min_count=min_word,\n",
    "                      sample=down_sampling,\n",
    "                      sg=1,\n",
    "                      iter=100)"
   ]
  },
  {
   "cell_type": "code",
   "execution_count": 27,
   "metadata": {},
   "outputs": [
    {
     "name": "stdout",
     "output_type": "stream",
     "text": [
      "[ 0.25855953  0.33439282 -0.23924525  0.07945202 -0.1891475  -0.25427738\n",
      "  0.08889757 -0.19466111  0.851137    0.30058506 -0.3366833   0.3413108\n",
      "  0.0302065  -0.91444874  0.14799841  0.21740986  0.03876839  0.10606879\n",
      "  0.6089471   0.81752986  0.24052712  0.0501553   0.5224369  -0.28751063\n",
      " -0.15436965  0.23843294 -0.0035289   0.15140389 -0.15567091  0.33692217\n",
      " -0.2083487   0.4276579  -0.32387546  0.32477364  0.20760746  0.04517072\n",
      "  0.17835146 -0.20632064 -0.22617556 -0.09648884  0.00952763  0.2275646\n",
      "  0.2070897  -0.0547337   0.17941232  0.15464051 -0.10370086  0.00621867\n",
      "  0.09068047 -0.16854066 -0.19221388  0.11522672  0.02522329  0.5509569\n",
      "  0.11101016 -0.46111292 -0.10912789 -0.11735968 -0.33735904 -0.06991255]\n"
     ]
    }
   ],
   "source": [
    "print(ft_model.wv['artificial'])"
   ]
  },
  {
   "cell_type": "code",
   "execution_count": 28,
   "metadata": {},
   "outputs": [
    {
     "name": "stdout",
     "output_type": "stream",
     "text": [
      "artificial:['intelligence', 'inspired', 'technology', 'biological', 'moral']\n",
      "intelligence:['artificial', 'intelligent', 'human', 'simulate', 'machine']\n",
      "machine:['learning', 'ethic', 'concerned', 'contrast', 'ethical']\n",
      "network:['neural', 'deep', 'connectionist', 'convolutional', 'biological']\n",
      "recurrent:['sequential', 'rnns', 'deep', 'network', 'neural']\n",
      "deep:['neural', 'network', 'learning', 'generative', 'speech']\n"
     ]
    }
   ],
   "source": [
    "semantically_similar_words = {words: [item[0] for item in ft_model.wv.most_similar([words], topn=5)]\n",
    "                  for words in ['artificial', 'intelligence', 'machine', 'network', 'recurrent', 'deep']}\n",
    "\n",
    "for k,v in semantically_similar_words.items():\n",
    "    print(k+\":\"+str(v))"
   ]
  },
  {
   "cell_type": "code",
   "execution_count": 29,
   "metadata": {},
   "outputs": [
    {
     "name": "stdout",
     "output_type": "stream",
     "text": [
      "0.77016014\n"
     ]
    }
   ],
   "source": [
    "print(ft_model.wv.similarity(w1='artificial', w2='intelligence'))"
   ]
  },
  {
   "cell_type": "markdown",
   "metadata": {},
   "source": [
    "#### Visualizing Word Similarities"
   ]
  },
  {
   "cell_type": "code",
   "execution_count": 30,
   "metadata": {},
   "outputs": [
    {
     "name": "stdout",
     "output_type": "stream",
     "text": [
      "['artificial', 'intelligence', 'inspired', 'technology', 'biological', 'moral', 'intelligence', 'artificial', 'intelligent', 'human', 'simulate', 'machine', 'machine', 'learning', 'ethic', 'concerned', 'contrast', 'ethical', 'network', 'neural', 'deep', 'connectionist', 'convolutional', 'biological', 'recurrent', 'sequential', 'rnns', 'deep', 'network', 'neural', 'deep', 'neural', 'network', 'learning', 'generative', 'speech']\n",
      "<class 'list'>\n",
      "36\n"
     ]
    }
   ],
   "source": [
    "from sklearn.decomposition import PCA\n",
    "\n",
    "all_similar_words = sum([[k] + v for k, v in semantically_similar_words.items()], [])\n",
    "\n",
    "print(all_similar_words)\n",
    "print(type(all_similar_words))\n",
    "print(len(all_similar_words))"
   ]
  },
  {
   "cell_type": "code",
   "execution_count": 31,
   "metadata": {},
   "outputs": [
    {
     "data": {
      "image/png": "[encoded data removed]",
      "text/plain": [
       "<Figure size 1296x720 with 1 Axes>"
      ]
     },
     "metadata": {
      "needs_background": "light"
     },
     "output_type": "display_data"
    }
   ],
   "source": [
    "word_vectors = ft_model.wv[all_similar_words]\n",
    "\n",
    "pca = PCA(n_components=2)\n",
    "\n",
    "p_comps = pca.fit_transform(word_vectors)\n",
    "word_names = all_similar_words\n",
    "\n",
    "plt.figure(figsize=(18, 10))\n",
    "plt.scatter(p_comps[:, 0], p_comps[:, 1], c='red')\n",
    "\n",
    "for word_names, x, y in zip(word_names, p_comps[:, 0], p_comps[:, 1]):\n",
    "    plt.annotate(word_names, xy=(x+0.06, y+0.03), xytext=(0, 0), textcoords='offset points')"
   ]
  }
 ],
 "metadata": {
  "accelerator": "GPU",
  "colab": {
   "collapsed_sections": [],
   "name": "FastText.ipynb",
   "provenance": [],
   "version": "0.3.2"
  },
  "kernelspec": {
   "display_name": "gputest",
   "language": "python",
   "name": "gputest"
  },
  "language_info": {
   "codemirror_mode": {
    "name": "ipython",
    "version": 3
   },
   "file_extension": ".py",
   "mimetype": "text/x-python",
   "name": "python",
   "nbconvert_exporter": "python",
   "pygments_lexer": "ipython3",
   "version": "3.7.5"
  }
 },
 "nbformat": 4,
 "nbformat_minor": 1
}
