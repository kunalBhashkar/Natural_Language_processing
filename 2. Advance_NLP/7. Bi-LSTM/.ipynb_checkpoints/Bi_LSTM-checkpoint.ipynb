{
 "cells": [
  {
   "cell_type": "markdown",
   "metadata": {},
   "source": [
    "#### TensorFlow"
   ]
  },
  {
   "cell_type": "code",
   "execution_count": 1,
   "metadata": {},
   "outputs": [
    {
     "name": "stderr",
     "output_type": "stream",
     "text": [
      "WARNING: Logging before flag parsing goes to stderr.\n",
      "W0603 20:50:16.988708 25012 __init__.py:308] Limited tf.compat.v2.summary API due to missing TensorBoard installation.\n"
     ]
    }
   ],
   "source": [
    "#import\n",
    "import tensorflow as tf\n",
    "import numpy as np\n",
    "\n",
    "tf.reset_default_graph()\n",
    "\n",
    "sentence = (\n",
    "    'Sega is a Japane video game develer and puisher headquarted in Shigawa, Tokyo.'\n",
    "    'Sega released its next console, the Sega Genesis, in 1988; it found success outside Japan starting with Sonic the Hedgehog in 1991. In 2001, Sega stopped making consoles to become a third-party developer and publisher, and was acquired by Sammy Corporation in 2004. '\n",
    ")\n",
    "\n",
    "word_dict = {w: i for i, w in enumerate(list(set(sentence.split())))}\n",
    "number_dict = {i: w for i, w in enumerate(list(set(sentence.split())))}\n",
    "n_class = len(word_dict)\n",
    "n_step = len(sentence.split())\n",
    "n_hidden = 5"
   ]
  },
  {
   "cell_type": "code",
   "execution_count": 2,
   "metadata": {},
   "outputs": [
    {
     "name": "stderr",
     "output_type": "stream",
     "text": [
      "W0603 20:50:17.142657 25012 deprecation.py:323] From <ipython-input-2-ec1a347e67dc>:22: LSTMCell.__init__ (from tensorflow.python.ops.rnn_cell_impl) is deprecated and will be removed in a future version.\n",
      "Instructions for updating:\n",
      "This class is equivalent as tf.keras.layers.LSTMCell, and will be replaced by that in Tensorflow 2.0.\n",
      "W0603 20:50:17.144651 25012 deprecation.py:323] From <ipython-input-2-ec1a347e67dc>:26: bidirectional_dynamic_rnn (from tensorflow.python.ops.rnn) is deprecated and will be removed in a future version.\n",
      "Instructions for updating:\n",
      "Please use `keras.layers.Bidirectional(keras.layers.RNN(cell))`, which is equivalent to this API\n",
      "W0603 20:50:17.144651 25012 deprecation.py:323] From C:\\Users\\Kunal\\Anaconda3\\envs\\gputest\\lib\\site-packages\\tensorflow\\python\\ops\\rnn.py:464: dynamic_rnn (from tensorflow.python.ops.rnn) is deprecated and will be removed in a future version.\n",
      "Instructions for updating:\n",
      "Please use `keras.layers.RNN(cell)`, which is equivalent to this API\n",
      "W0603 20:50:17.227430 25012 deprecation.py:506] From C:\\Users\\Kunal\\Anaconda3\\envs\\gputest\\lib\\site-packages\\tensorflow\\python\\ops\\init_ops.py:1251: calling VarianceScaling.__init__ (from tensorflow.python.ops.init_ops) with dtype is deprecated and will be removed in a future version.\n",
      "Instructions for updating:\n",
      "Call initializer instance with the dtype argument instead of passing it to the constructor\n",
      "W0603 20:50:17.239199 25012 deprecation.py:506] From C:\\Users\\Kunal\\Anaconda3\\envs\\gputest\\lib\\site-packages\\tensorflow\\python\\ops\\rnn_cell_impl.py:961: calling Zeros.__init__ (from tensorflow.python.ops.init_ops) with dtype is deprecated and will be removed in a future version.\n",
      "Instructions for updating:\n",
      "Call initializer instance with the dtype argument instead of passing it to the constructor\n"
     ]
    }
   ],
   "source": [
    "def make_batch(sentence):\n",
    "    input_batch = []\n",
    "    target_batch = []\n",
    "\n",
    "    words = sentence.split()\n",
    "    for i, word in enumerate(words[:-1]):\n",
    "        input = [word_dict[n] for n in words[:(i + 1)]]\n",
    "        input = input + [0] * (n_step - len(input))\n",
    "        target = word_dict[words[i + 1]]\n",
    "        input_batch.append(np.eye(n_class)[input])\n",
    "        target_batch.append(np.eye(n_class)[target])\n",
    "\n",
    "    return input_batch, target_batch\n",
    "\n",
    "# Bi-LSTM Model\n",
    "X = tf.placeholder(tf.float32, [None, n_step, n_class])\n",
    "Y = tf.placeholder(tf.float32, [None, n_class])\n",
    "\n",
    "W = tf.Variable(tf.random_normal([n_hidden * 2, n_class]))\n",
    "b = tf.Variable(tf.random_normal([n_class]))\n",
    "\n",
    "lstm_fw_cell = tf.nn.rnn_cell.LSTMCell(n_hidden)\n",
    "lstm_bw_cell = tf.nn.rnn_cell.LSTMCell(n_hidden)\n",
    "\n",
    "# outputs : [batch_size, len_seq, n_hidden], states : [batch_size, n_hidden]\n",
    "outputs, _ = tf.nn.bidirectional_dynamic_rnn(lstm_fw_cell,lstm_bw_cell, X, dtype=tf.float32)\n",
    "\n",
    "outputs = tf.concat([outputs[0], outputs[1]], 2) # output[0] : lstm_fw, output[1] : lstm_bw\n",
    "outputs = tf.transpose(outputs, [1, 0, 2]) # [n_step, batch_size, n_hidden]\n",
    "outputs = outputs[-1] # [batch_size, n_hidden]\n",
    "\n",
    "model = tf.matmul(outputs, W) + b\n",
    "\n",
    "cost = tf.reduce_mean(tf.nn.softmax_cross_entropy_with_logits_v2(logits=model, labels=Y))\n",
    "optimizer = tf.train.AdamOptimizer(0.001).minimize(cost)\n",
    "\n",
    "prediction = tf.cast(tf.argmax(model, 1), tf.int32)"
   ]
  },
  {
   "cell_type": "code",
   "execution_count": 3,
   "metadata": {
    "colab": {
     "base_uri": "https://localhost:8080/",
     "height": 233
    },
    "colab_type": "code",
    "id": "nfzqnU3AbkeL",
    "outputId": "f003ad6e-a38d-42c1-be4b-08f3002d5405"
   },
   "outputs": [
    {
     "name": "stdout",
     "output_type": "stream",
     "text": [
      "Epoch: 1000 cost = 2.030356\n",
      "Epoch: 2000 cost = 1.541773\n",
      "Epoch: 3000 cost = 1.230254\n",
      "Epoch: 4000 cost = 0.995753\n",
      "Epoch: 5000 cost = 0.784364\n",
      "Epoch: 6000 cost = 0.868614\n",
      "Epoch: 7000 cost = 0.561370\n",
      "Epoch: 8000 cost = 0.453777\n",
      "Epoch: 9000 cost = 0.360871\n",
      "Epoch: 10000 cost = 0.302328\n",
      "Sega is a Japane video game develer and puisher headquarted in Shigawa, Tokyo.Sega released its next console, the Sega Genesis, in 1988; it found success outside Japan starting with Sonic the Hedgehog in 1991. In 2001, Sega stopped making consoles to become a third-party developer and publisher, and was acquired by Sammy Corporation in 2004. \n",
      "['is', 'a', 'Japane', 'video', 'game', 'develer', 'and', 'puisher', 'headquarted', 'in', 'Shigawa,', 'Tokyo.Sega', 'released', 'its', 'Sega', 'console,', 'the', 'Sega', 'Genesis,', 'in', 'Genesis,', 'it', 'success', 'success', 'Japan', 'Japan', 'starting', 'with', 'Sonic', 'the', 'Hedgehog', 'in', '1991.', 'In', '2001,', 'Sega', 'stopped', 'making', 'in', 'to', 'become', 'a', 'third-party', 'developer', 'and', 'publisher,', 'and', 'was', 'acquired', 'by', 'Sammy', 'Corporation', 'in', '2004.']\n"
     ]
    }
   ],
   "source": [
    "# Training\n",
    "init = tf.global_variables_initializer()\n",
    "sess = tf.Session()\n",
    "sess.run(init)\n",
    "\n",
    "input_batch, target_batch = make_batch(sentence)\n",
    "\n",
    "for epoch in range(10000):\n",
    "    _, loss = sess.run([optimizer, cost], feed_dict={X: input_batch, Y: target_batch})\n",
    "    if (epoch + 1)%1000 == 0:\n",
    "        print('Epoch:', '%04d' % (epoch + 1), 'cost =', '{:.6f}'.format(loss))\n",
    "\n",
    "predict =  sess.run([prediction], feed_dict={X: input_batch})\n",
    "print(sentence)\n",
    "print([number_dict[n] for n in [pre for pre in predict[0]]])"
   ]
  },
  {
   "cell_type": "markdown",
   "metadata": {},
   "source": [
    "#### Pytorch"
   ]
  },
  {
   "cell_type": "code",
   "execution_count": 4,
   "metadata": {},
   "outputs": [],
   "source": [
    "#import\n",
    "import numpy as np\n",
    "import torch\n",
    "import torch.nn as nn\n",
    "import torch.optim as optim\n",
    "from torch.autograd import Variable\n",
    "import torch.nn.functional as F\n",
    "\n",
    "dtype = torch.FloatTensor\n",
    "\n",
    "sentence = (\n",
    "    'Sega is a Japane video game develer and puisher headquarted in Shigawa, Tokyo.'\n",
    "    'Sega released its next coole, the Sega Genes, in 1988; it found succe otside Japan startg with Sonic the Hedgog in 1991. In 2001, Sega stopped making consoles to become a third-party developer and publisher, and was acquired by Sammy Corporation in 2004. '\n",
    ")\n",
    "\n",
    "word_dict = {w: i for i, w in enumerate(list(set(sentence.split())))}\n",
    "number_dict = {i: w for i, w in enumerate(list(set(sentence.split())))}\n",
    "n_class = len(word_dict)\n",
    "max_len = len(sentence.split())\n",
    "n_hidden = 5"
   ]
  },
  {
   "cell_type": "code",
   "execution_count": 5,
   "metadata": {},
   "outputs": [],
   "source": [
    "def make_batch(sentence):\n",
    "    input_batch = []\n",
    "    target_batch = []\n",
    "\n",
    "    words = sentence.split()\n",
    "    for i, word in enumerate(words[:-1]):\n",
    "        input = [word_dict[n] for n in words[:(i + 1)]]\n",
    "        input = input + [0] * (max_len - len(input))\n",
    "        target = word_dict[words[i + 1]]\n",
    "        input_batch.append(np.eye(n_class)[input])\n",
    "        target_batch.append(target)\n",
    "\n",
    "    return Variable(torch.Tensor(input_batch)), Variable(torch.LongTensor(target_batch))\n",
    "\n",
    "class BiLSTM(nn.Module):\n",
    "    def __init__(self):\n",
    "        super(BiLSTM, self).__init__()\n",
    "\n",
    "        self.lstm = nn.LSTM(input_size=n_class, hidden_size=n_hidden, bidirectional=True)\n",
    "        self.W = nn.Parameter(torch.randn([n_hidden * 2, n_class]).type(dtype))\n",
    "        self.b = nn.Parameter(torch.randn([n_class]).type(dtype))\n",
    "\n",
    "    def forward(self, X):\n",
    "        input = X.transpose(0, 1)  # input : [n_step, batch_size, n_class]\n",
    "\n",
    "        hidden_state = Variable(torch.zeros(1*2, len(X), n_hidden))   # [num_layers(=1) * num_directions(=1), batch_size, n_hidden]\n",
    "        cell_state = Variable(torch.zeros(1*2, len(X), n_hidden))     # [num_layers(=1) * num_directions(=1), batch_size, n_hidden]\n",
    "\n",
    "        outputs, (_, _) = self.lstm(input, (hidden_state, cell_state))\n",
    "        outputs = outputs[-1]  # [batch_size, n_hidden]\n",
    "        model = torch.mm(outputs, self.W) + self.b  # model : [batch_size, n_class]\n",
    "        return model\n",
    "\n",
    "input_batch, target_batch = make_batch(sentence)\n",
    "\n",
    "model = BiLSTM()\n",
    "\n",
    "criterion = nn.CrossEntropyLoss()\n",
    "optimizer = optim.Adam(model.parameters(), lr=0.001)"
   ]
  },
  {
   "cell_type": "code",
   "execution_count": 6,
   "metadata": {},
   "outputs": [
    {
     "name": "stdout",
     "output_type": "stream",
     "text": [
      "Epoch: 1000 cost = 3.488153\n",
      "Epoch: 2000 cost = 2.876433\n",
      "Epoch: 3000 cost = 2.657035\n",
      "Epoch: 4000 cost = 2.370752\n",
      "Epoch: 5000 cost = 2.056541\n",
      "Epoch: 6000 cost = 1.816891\n",
      "Epoch: 7000 cost = 1.607640\n",
      "Epoch: 8000 cost = 1.443380\n",
      "Epoch: 9000 cost = 1.330207\n",
      "Epoch: 10000 cost = 1.213806\n",
      "Sega is a Japane video game develer and puisher headquarted in Shigawa, Tokyo.Sega released its next coole, the Sega Genes, in 1988; it found succe otside Japan startg with Sonic the Hedgog in 1991. In 2001, Sega stopped making consoles to become a third-party developer and publisher, and was acquired by Sammy Corporation in 2004. \n",
      "['a', 'a', 'a', 'a', 'a', 'a', 'a', 'a', 'a', 'a', 'a', 'a', 'and', 'coole,', 'in', 'coole,', 'in', 'in', 'in', 'in', 'the', 'it', 'succe', 'succe', 'otside', 'Japan', 'startg', 'with', 'Sonic', 'the', 'Sonic', 'in', '1991.', 'In', '2001,', 'Sega', 'stopped', 'making', 'consoles', 'to', 'become', 'a', 'third-party', 'developer', 'and', 'publisher,', 'and', 'was', 'acquired', 'by', 'Sammy', 'Corporation', 'in', '2004.']\n"
     ]
    }
   ],
   "source": [
    "# Training\n",
    "for epoch in range(10000):\n",
    "    optimizer.zero_grad()\n",
    "    output = model(input_batch)\n",
    "    loss = criterion(output, target_batch)\n",
    "    if (epoch + 1) % 1000 == 0:\n",
    "        print('Epoch:', '%04d' % (epoch + 1), 'cost =', '{:.6f}'.format(loss))\n",
    "\n",
    "    loss.backward()\n",
    "    optimizer.step()\n",
    "\n",
    "predict = model(input_batch).data.max(1, keepdim=True)[1]\n",
    "print(sentence)\n",
    "print([number_dict[n.item()] for n in predict.squeeze()])"
   ]
  }
 ],
 "metadata": {
  "accelerator": "GPU",
  "colab": {
   "collapsed_sections": [],
   "name": "Bi-LSTM-Tensor.ipynb",
   "provenance": [],
   "version": "0.3.2"
  },
  "kernelspec": {
   "display_name": "gputest",
   "language": "python",
   "name": "gputest"
  },
  "language_info": {
   "codemirror_mode": {
    "name": "ipython",
    "version": 3
   },
   "file_extension": ".py",
   "mimetype": "text/x-python",
   "name": "python",
   "nbconvert_exporter": "python",
   "pygments_lexer": "ipython3",
   "version": "3.7.5"
  }
 },
 "nbformat": 4,
 "nbformat_minor": 1
}
